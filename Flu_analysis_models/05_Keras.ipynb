{
 "cells": [
  {
   "cell_type": "code",
   "execution_count": 1,
   "id": "ec458fb9",
   "metadata": {},
   "outputs": [],
   "source": [
    "from keras.models import Model, Sequential\n",
    "from keras.layers import Dense, Dropout\n",
    "from keras.wrappers.scikit_learn import KerasClassifier\n",
    "from sklearn.pipeline import Pipeline\n",
    "from sklearn.preprocessing import StandardScaler, OneHotEncoder\n",
    "from sklearn.impute import SimpleImputer\n",
    "from sklearn.compose import ColumnTransformer\n",
    "from sklearn.model_selection import GridSearchCV, cross_val_score\n",
    "import tensorflow_addons as tfa\n",
    "\n",
    "import pandas as pd\n",
    "import numpy as np\n",
    "import warnings\n",
    "warnings.simplefilter(action='ignore')"
   ]
  },
  {
   "cell_type": "code",
   "execution_count": 2,
   "id": "276bbe11",
   "metadata": {},
   "outputs": [],
   "source": [
    "X_train = pd.read_csv('../data/X_train_flu.csv', index_col= 'respondent_id')\n",
    "X_test = pd.read_csv('../data/X_test_flu.csv', index_col= 'respondent_id')\n",
    "y_train = pd.read_csv('../data/y_train_flu.csv', index_col= 'respondent_id')\n",
    "y_test = pd.read_csv('../data/y_test_flu.csv', index_col= 'respondent_id')"
   ]
  },
  {
   "cell_type": "code",
   "execution_count": 3,
   "id": "58605a4d",
   "metadata": {},
   "outputs": [],
   "source": [
    "y_train = y_train['seasonal_vaccine']\n",
    "y_test = y_test['seasonal_vaccine']"
   ]
  },
  {
   "cell_type": "code",
   "execution_count": 4,
   "id": "13a16d56",
   "metadata": {},
   "outputs": [],
   "source": [
    "X_train_cat = X_train.select_dtypes('object')\n",
    "X_train_num = X_train.select_dtypes(['float64', 'int64'])\n",
    "\n",
    "cat_pipe = Pipeline([\n",
    "    ('impute', SimpleImputer(strategy='most_frequent')),\n",
    "    ('ohe', OneHotEncoder(sparse=False, handle_unknown='ignore'))\n",
    "])\n",
    "num_pipe = Pipeline(steps=[\n",
    "    ('impute', SimpleImputer(strategy='most_frequent')),\n",
    "])\n",
    "\n",
    "transformer = ColumnTransformer([('categorical', cat_pipe, X_train_cat.columns),\n",
    "                                 ('numerical', num_pipe, X_train_num.columns)])"
   ]
  },
  {
   "cell_type": "code",
   "execution_count": 5,
   "id": "4c21612e",
   "metadata": {
    "scrolled": true
   },
   "outputs": [
    {
     "data": {
      "text/plain": [
       "(20030, 32)"
      ]
     },
     "execution_count": 5,
     "metadata": {},
     "output_type": "execute_result"
    }
   ],
   "source": [
    "X_train.shape"
   ]
  },
  {
   "cell_type": "code",
   "execution_count": 6,
   "id": "6fb8efca",
   "metadata": {
    "scrolled": true
   },
   "outputs": [
    {
     "data": {
      "text/plain": [
       "(20030,)"
      ]
     },
     "execution_count": 6,
     "metadata": {},
     "output_type": "execute_result"
    }
   ],
   "source": [
    "y_train.shape"
   ]
  },
  {
   "cell_type": "markdown",
   "id": "731b2954",
   "metadata": {},
   "source": [
    "# Keras Models"
   ]
  },
  {
   "cell_type": "markdown",
   "id": "84e22a70",
   "metadata": {},
   "source": [
    "## Simple Model"
   ]
  },
  {
   "cell_type": "code",
   "execution_count": 7,
   "id": "0d500c22",
   "metadata": {},
   "outputs": [],
   "source": [
    "def create_model(dropout = .2):    \n",
    "    model = Sequential()\n",
    "    \n",
    "    model.add(Dense(16, activation = 'relu', input_shape = (60,)))\n",
    "    model.add(Dropout(dropout))\n",
    "    model.add(Dense(8, activation = 'relu'))\n",
    "    model.add(Dropout(dropout))\n",
    "    model.add(Dense(4, activation = 'relu'))\n",
    "    model.add(Dense(1, activation = 'sigmoid'))\n",
    "\n",
    "    model.compile(loss='binary_crossentropy', metrics=['acc'], optimizer = 'adam')\n",
    "    return model"
   ]
  },
  {
   "cell_type": "code",
   "execution_count": 8,
   "id": "07a4baaf",
   "metadata": {},
   "outputs": [],
   "source": [
    "clf = KerasClassifier(build_fn=create_model, verbose = 0)"
   ]
  },
  {
   "cell_type": "code",
   "execution_count": 9,
   "id": "5e7ff24d",
   "metadata": {},
   "outputs": [],
   "source": [
    "params = {\n",
    "    'clf__epochs' : [1500, 2000],\n",
    "    'clf__batch_size': [2000, 2500],\n",
    "    'clf__dropout' : [0.05, 0.1, 0.2, 0.3]\n",
    "}"
   ]
  },
  {
   "cell_type": "code",
   "execution_count": 10,
   "id": "65110dd9",
   "metadata": {},
   "outputs": [],
   "source": [
    "model_pipe = Pipeline(steps=[\n",
    "    ('trans', transformer),\n",
    "    ('clf', clf)\n",
    "])"
   ]
  },
  {
   "cell_type": "code",
   "execution_count": 11,
   "id": "0481c424",
   "metadata": {
    "scrolled": true
   },
   "outputs": [
    {
     "data": {
      "text/plain": [
       "GridSearchCV(estimator=Pipeline(steps=[('trans',\n",
       "                                        ColumnTransformer(transformers=[('categorical',\n",
       "                                                                         Pipeline(steps=[('impute',\n",
       "                                                                                          SimpleImputer(strategy='most_frequent')),\n",
       "                                                                                         ('ohe',\n",
       "                                                                                          OneHotEncoder(handle_unknown='ignore',\n",
       "                                                                                                        sparse=False))]),\n",
       "                                                                         Index(['age_group', 'education', 'race', 'sex', 'income_poverty',\n",
       "       'marital_status', 'rent_or_own', 'employment_status', 'hhs_geo_regio...\n",
       "       'opinion_h1n1_sick_from_vacc', 'opinion_seas_vacc_effective',\n",
       "       'opinion_seas_risk', 'opinion_seas_sick_from_vacc', 'household_adults',\n",
       "       'household_children'],\n",
       "      dtype='object'))])),\n",
       "                                       ('clf',\n",
       "                                        <keras.wrappers.scikit_learn.KerasClassifier object at 0x00000146411866A0>)]),\n",
       "             n_jobs=-1,\n",
       "             param_grid={'clf__batch_size': [2000, 2500],\n",
       "                         'clf__dropout': [0.05, 0.1, 0.2, 0.3],\n",
       "                         'clf__epochs': [1500, 2000]})"
      ]
     },
     "execution_count": 11,
     "metadata": {},
     "output_type": "execute_result"
    }
   ],
   "source": [
    "grid = GridSearchCV(model_pipe, param_grid=params, n_jobs= -1, verbose=0)\n",
    "grid.fit(X_train, y_train)"
   ]
  },
  {
   "cell_type": "code",
   "execution_count": 12,
   "id": "63cdbdae",
   "metadata": {},
   "outputs": [
    {
     "data": {
      "text/plain": [
       "{'clf__batch_size': 2000, 'clf__dropout': 0.2, 'clf__epochs': 1500}"
      ]
     },
     "execution_count": 12,
     "metadata": {},
     "output_type": "execute_result"
    }
   ],
   "source": [
    "grid.best_params_"
   ]
  },
  {
   "cell_type": "code",
   "execution_count": 13,
   "id": "3fbb0793",
   "metadata": {
    "scrolled": true
   },
   "outputs": [
    {
     "name": "stderr",
     "output_type": "stream",
     "text": [
      "[Parallel(n_jobs=-1)]: Using backend LokyBackend with 12 concurrent workers.\n",
      "[Parallel(n_jobs=-1)]: Done   2 out of   5 | elapsed:   48.5s remaining:  1.2min\n",
      "[Parallel(n_jobs=-1)]: Done   5 out of   5 | elapsed:   48.7s finished\n"
     ]
    }
   ],
   "source": [
    "grid_cv = cross_val_score(grid.best_estimator_, X_train, y_train, n_jobs=-1, verbose=3)"
   ]
  },
  {
   "cell_type": "code",
   "execution_count": 14,
   "id": "5d26a645",
   "metadata": {},
   "outputs": [
    {
     "data": {
      "text/plain": [
       "0.770943570137024"
      ]
     },
     "execution_count": 14,
     "metadata": {},
     "output_type": "execute_result"
    }
   ],
   "source": [
    "grid_cv.mean()"
   ]
  },
  {
   "cell_type": "markdown",
   "id": "38897a6b",
   "metadata": {},
   "source": [
    "## Complex Model"
   ]
  },
  {
   "cell_type": "code",
   "execution_count": 15,
   "id": "210aaf99",
   "metadata": {},
   "outputs": [],
   "source": [
    "def create_model(dropout = .2):    \n",
    "    model = Sequential()\n",
    "    \n",
    "    model.add(Dense(32, activation = 'relu', input_shape = (60,)))\n",
    "    model.add(Dropout(dropout))\n",
    "    model.add(Dense(16, activation = 'relu'))\n",
    "    model.add(Dropout(dropout))\n",
    "    model.add(Dense(8, activation = 'relu'))\n",
    "    model.add(Dropout(dropout))\n",
    "    model.add(Dense(4, activation = 'relu'))\n",
    "    model.add(Dense(1, activation = 'sigmoid'))\n",
    "\n",
    "    model.compile(loss='binary_crossentropy', metrics=['acc'], optimizer = 'adam')\n",
    "    \n",
    "    return model"
   ]
  },
  {
   "cell_type": "code",
   "execution_count": 16,
   "id": "c73633c0",
   "metadata": {},
   "outputs": [],
   "source": [
    "clf = KerasClassifier(build_fn=create_model, verbose = 0)"
   ]
  },
  {
   "cell_type": "code",
   "execution_count": 17,
   "id": "c8d69de6",
   "metadata": {},
   "outputs": [],
   "source": [
    "params = {\n",
    "    'clf__epochs' : [1000, 1500, 2000],\n",
    "    'clf__batch_size': [1500, 2000, 2500],\n",
    "    'clf__dropout' : [0.05, 0.1, 0.2, 0.3]\n",
    "}"
   ]
  },
  {
   "cell_type": "code",
   "execution_count": 18,
   "id": "2eadcf2d",
   "metadata": {},
   "outputs": [],
   "source": [
    "model_pipe = Pipeline(steps=[\n",
    "    ('trans', transformer),\n",
    "    ('clf', clf)\n",
    "])"
   ]
  },
  {
   "cell_type": "code",
   "execution_count": 19,
   "id": "27814d8c",
   "metadata": {},
   "outputs": [
    {
     "data": {
      "text/plain": [
       "GridSearchCV(estimator=Pipeline(steps=[('trans',\n",
       "                                        ColumnTransformer(transformers=[('categorical',\n",
       "                                                                         Pipeline(steps=[('impute',\n",
       "                                                                                          SimpleImputer(strategy='most_frequent')),\n",
       "                                                                                         ('ohe',\n",
       "                                                                                          OneHotEncoder(handle_unknown='ignore',\n",
       "                                                                                                        sparse=False))]),\n",
       "                                                                         Index(['age_group', 'education', 'race', 'sex', 'income_poverty',\n",
       "       'marital_status', 'rent_or_own', 'employment_status', 'hhs_geo_regio...\n",
       "       'opinion_h1n1_sick_from_vacc', 'opinion_seas_vacc_effective',\n",
       "       'opinion_seas_risk', 'opinion_seas_sick_from_vacc', 'household_adults',\n",
       "       'household_children'],\n",
       "      dtype='object'))])),\n",
       "                                       ('clf',\n",
       "                                        <keras.wrappers.scikit_learn.KerasClassifier object at 0x0000014641186E20>)]),\n",
       "             n_jobs=-1,\n",
       "             param_grid={'clf__batch_size': [1500, 2000, 2500],\n",
       "                         'clf__dropout': [0.05, 0.1, 0.2, 0.3],\n",
       "                         'clf__epochs': [1000, 1500, 2000]})"
      ]
     },
     "execution_count": 19,
     "metadata": {},
     "output_type": "execute_result"
    }
   ],
   "source": [
    "grid = GridSearchCV(model_pipe, param_grid=params, n_jobs= -1, verbose=0)\n",
    "grid.fit(X_train, y_train)"
   ]
  },
  {
   "cell_type": "code",
   "execution_count": 20,
   "id": "aae7ad42",
   "metadata": {},
   "outputs": [
    {
     "data": {
      "text/plain": [
       "{'clf__batch_size': 2000, 'clf__dropout': 0.3, 'clf__epochs': 1500}"
      ]
     },
     "execution_count": 20,
     "metadata": {},
     "output_type": "execute_result"
    }
   ],
   "source": [
    "grid.best_params_"
   ]
  },
  {
   "cell_type": "code",
   "execution_count": 21,
   "id": "204e3e1c",
   "metadata": {},
   "outputs": [
    {
     "name": "stderr",
     "output_type": "stream",
     "text": [
      "[Parallel(n_jobs=-1)]: Using backend LokyBackend with 12 concurrent workers.\n",
      "[Parallel(n_jobs=-1)]: Done   2 out of   5 | elapsed:  1.2min remaining:  1.9min\n",
      "[Parallel(n_jobs=-1)]: Done   5 out of   5 | elapsed:  1.2min finished\n"
     ]
    }
   ],
   "source": [
    "grid_cv = cross_val_score(grid.best_estimator_, X_train, y_train, n_jobs=-1, verbose=3)"
   ]
  },
  {
   "cell_type": "code",
   "execution_count": 22,
   "id": "23343ad6",
   "metadata": {
    "scrolled": true
   },
   "outputs": [
    {
     "data": {
      "text/plain": [
       "0.770494258403778"
      ]
     },
     "execution_count": 22,
     "metadata": {},
     "output_type": "execute_result"
    }
   ],
   "source": [
    "grid_cv.mean()"
   ]
  },
  {
   "cell_type": "markdown",
   "id": "0dc721fa",
   "metadata": {},
   "source": [
    "## Final Keras model"
   ]
  },
  {
   "cell_type": "code",
   "execution_count": 23,
   "id": "5c8e2c4f",
   "metadata": {},
   "outputs": [],
   "source": [
    "def create_model(dropout = .2):    \n",
    "    model = Sequential()\n",
    "    \n",
    "    model.add(Dense(132, activation = 'relu', input_shape = (60,)))\n",
    "    model.add(Dropout(dropout))\n",
    "    model.add(Dense(64, activation = 'relu'))\n",
    "    model.add(Dropout(dropout))\n",
    "    model.add(Dense(16, activation = 'relu'))\n",
    "    model.add(Dense(1, activation = 'sigmoid'))\n",
    "\n",
    "    model.compile(loss='binary_crossentropy', metrics=['acc'], optimizer = 'adam')\n",
    "    \n",
    "    return model"
   ]
  },
  {
   "cell_type": "code",
   "execution_count": 24,
   "id": "6d8c886f",
   "metadata": {},
   "outputs": [],
   "source": [
    "clf = KerasClassifier(build_fn=create_model, verbose = 0)"
   ]
  },
  {
   "cell_type": "code",
   "execution_count": 25,
   "id": "c4f4d96a",
   "metadata": {},
   "outputs": [],
   "source": [
    "params = {\n",
    "    'clf__epochs' : [1000, 1500, 2000],\n",
    "    'clf__batch_size': [1500, 2000, 2500],\n",
    "    'clf__dropout' : [0.05, 0.1, 0.2, 0.3]\n",
    "}"
   ]
  },
  {
   "cell_type": "code",
   "execution_count": 26,
   "id": "479d2b8f",
   "metadata": {},
   "outputs": [],
   "source": [
    "model_pipe = Pipeline(steps=[\n",
    "    ('trans', transformer),\n",
    "    ('clf', clf)\n",
    "])"
   ]
  },
  {
   "cell_type": "code",
   "execution_count": 27,
   "id": "0ca116fd",
   "metadata": {},
   "outputs": [
    {
     "data": {
      "text/plain": [
       "GridSearchCV(estimator=Pipeline(steps=[('trans',\n",
       "                                        ColumnTransformer(transformers=[('categorical',\n",
       "                                                                         Pipeline(steps=[('impute',\n",
       "                                                                                          SimpleImputer(strategy='most_frequent')),\n",
       "                                                                                         ('ohe',\n",
       "                                                                                          OneHotEncoder(handle_unknown='ignore',\n",
       "                                                                                                        sparse=False))]),\n",
       "                                                                         Index(['age_group', 'education', 'race', 'sex', 'income_poverty',\n",
       "       'marital_status', 'rent_or_own', 'employment_status', 'hhs_geo_regio...\n",
       "       'opinion_h1n1_sick_from_vacc', 'opinion_seas_vacc_effective',\n",
       "       'opinion_seas_risk', 'opinion_seas_sick_from_vacc', 'household_adults',\n",
       "       'household_children'],\n",
       "      dtype='object'))])),\n",
       "                                       ('clf',\n",
       "                                        <keras.wrappers.scikit_learn.KerasClassifier object at 0x00000146411C35E0>)]),\n",
       "             n_jobs=-1,\n",
       "             param_grid={'clf__batch_size': [1500, 2000, 2500],\n",
       "                         'clf__dropout': [0.05, 0.1, 0.2, 0.3],\n",
       "                         'clf__epochs': [1000, 1500, 2000]})"
      ]
     },
     "execution_count": 27,
     "metadata": {},
     "output_type": "execute_result"
    }
   ],
   "source": [
    "grid = GridSearchCV(model_pipe, param_grid=params, n_jobs= -1, verbose=0)\n",
    "grid.fit(X_train, y_train)"
   ]
  },
  {
   "cell_type": "code",
   "execution_count": 28,
   "id": "311f31da",
   "metadata": {},
   "outputs": [
    {
     "data": {
      "text/plain": [
       "{'clf__batch_size': 2000, 'clf__dropout': 0.3, 'clf__epochs': 1000}"
      ]
     },
     "execution_count": 28,
     "metadata": {},
     "output_type": "execute_result"
    }
   ],
   "source": [
    "grid.best_params_"
   ]
  },
  {
   "cell_type": "code",
   "execution_count": 29,
   "id": "10994534",
   "metadata": {},
   "outputs": [
    {
     "name": "stderr",
     "output_type": "stream",
     "text": [
      "[Parallel(n_jobs=-1)]: Using backend LokyBackend with 12 concurrent workers.\n",
      "[Parallel(n_jobs=-1)]: Done   2 out of   5 | elapsed:  2.6min remaining:  3.8min\n",
      "[Parallel(n_jobs=-1)]: Done   5 out of   5 | elapsed:  2.6min finished\n"
     ]
    }
   ],
   "source": [
    "grid_cv = cross_val_score(grid.best_estimator_, X_train, y_train, n_jobs=-1, verbose=3)"
   ]
  },
  {
   "cell_type": "code",
   "execution_count": 30,
   "id": "7ab8a57c",
   "metadata": {},
   "outputs": [
    {
     "data": {
      "text/plain": [
       "0.7559161305427551"
      ]
     },
     "execution_count": 30,
     "metadata": {},
     "output_type": "execute_result"
    }
   ],
   "source": [
    "grid_cv.mean()"
   ]
  },
  {
   "cell_type": "markdown",
   "id": "31804590",
   "metadata": {},
   "source": [
    "For my different iterations of a neural network, I was only able to get an accuracy score of $0.770$ which is $0.014$ lower than the XGBoost Classifier. After creating all these different models and try to get the best accuracy score I will be using the XBGoost Classifier as the final model. "
   ]
  }
 ],
 "metadata": {
  "kernelspec": {
   "display_name": "Python 3 (ipykernel)",
   "language": "python",
   "name": "python3"
  },
  "language_info": {
   "codemirror_mode": {
    "name": "ipython",
    "version": 3
   },
   "file_extension": ".py",
   "mimetype": "text/x-python",
   "name": "python",
   "nbconvert_exporter": "python",
   "pygments_lexer": "ipython3",
   "version": "3.8.11"
  }
 },
 "nbformat": 4,
 "nbformat_minor": 5
}
