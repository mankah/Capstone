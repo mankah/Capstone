{
 "cells": [
  {
   "cell_type": "code",
   "execution_count": 1,
   "id": "00a9d3a0",
   "metadata": {},
   "outputs": [],
   "source": [
    "import pandas as pd\n",
    "import numpy as np\n",
    "\n",
    "from sklearn.model_selection import GridSearchCV, cross_val_score\n",
    "from sklearn.preprocessing import OneHotEncoder, StandardScaler\n",
    "from sklearn.pipeline import Pipeline\n",
    "from sklearn.compose import ColumnTransformer\n",
    "from sklearn.impute import SimpleImputer\n",
    "\n",
    "from xgboost import XGBClassifier\n",
    "import warnings\n",
    "warnings.simplefilter(action='ignore', category=FutureWarning)"
   ]
  },
  {
   "cell_type": "code",
   "execution_count": 2,
   "id": "0cbd8b86",
   "metadata": {},
   "outputs": [],
   "source": [
    "X_train = pd.read_csv('../data/X_train_flu.csv', index_col= 'respondent_id')\n",
    "X_test = pd.read_csv('../data/X_test_flu.csv', index_col= 'respondent_id')\n",
    "y_train = pd.read_csv('../data/y_train_flu.csv', index_col= 'respondent_id')\n",
    "y_test = pd.read_csv('../data/y_test_flu.csv', index_col= 'respondent_id')"
   ]
  },
  {
   "cell_type": "code",
   "execution_count": 3,
   "id": "aa2eaebd",
   "metadata": {},
   "outputs": [],
   "source": [
    "y_train = y_train['seasonal_vaccine']\n",
    "y_test = y_test['seasonal_vaccine']"
   ]
  },
  {
   "cell_type": "code",
   "execution_count": 4,
   "id": "144f400c",
   "metadata": {},
   "outputs": [],
   "source": [
    "X_train_cat = X_train.select_dtypes('object')\n",
    "X_train_num = X_train.select_dtypes(['float64', 'int64'])\n",
    "\n",
    "cat_pipe = Pipeline([\n",
    "    ('impute', SimpleImputer(strategy='most_frequent')),\n",
    "    ('ohe', OneHotEncoder(sparse=False, handle_unknown='ignore'))\n",
    "])\n",
    "num_pipe = Pipeline(steps=[\n",
    "    ('impute', SimpleImputer(strategy='most_frequent')),\n",
    "])\n",
    "\n",
    "transformer = ColumnTransformer([('categorical', cat_pipe, X_train_cat.columns),\n",
    "                                 ('numerical', num_pipe, X_train_num.columns)])"
   ]
  },
  {
   "cell_type": "markdown",
   "id": "76f10488",
   "metadata": {},
   "source": [
    "# XGBoost"
   ]
  },
  {
   "cell_type": "code",
   "execution_count": 5,
   "id": "001b5e62",
   "metadata": {},
   "outputs": [],
   "source": [
    "model_pipe = Pipeline(steps=[\n",
    "    ('trans', transformer),\n",
    "    ('xgboost', XGBClassifier(n_jobs=-1, random_state=42))\n",
    "])"
   ]
  },
  {
   "cell_type": "code",
   "execution_count": 6,
   "id": "bd17d555",
   "metadata": {},
   "outputs": [
    {
     "name": "stderr",
     "output_type": "stream",
     "text": [
      "[Parallel(n_jobs=-1)]: Using backend LokyBackend with 8 concurrent workers.\n",
      "[Parallel(n_jobs=-1)]: Done   2 out of   5 | elapsed:    8.2s remaining:   12.3s\n",
      "[Parallel(n_jobs=-1)]: Done   5 out of   5 | elapsed:    8.3s remaining:    0.0s\n",
      "[Parallel(n_jobs=-1)]: Done   5 out of   5 | elapsed:    8.3s finished\n"
     ]
    }
   ],
   "source": [
    "cv_XGBoost1 = cross_val_score(model_pipe, X_train, y_train, n_jobs=-1, verbose=2, scoring='f1')"
   ]
  },
  {
   "cell_type": "code",
   "execution_count": 7,
   "id": "03e495b0",
   "metadata": {},
   "outputs": [
    {
     "data": {
      "text/plain": [
       "0.7465664433767254"
      ]
     },
     "execution_count": 7,
     "metadata": {},
     "output_type": "execute_result"
    }
   ],
   "source": [
    "cv_XGBoost1.mean()"
   ]
  },
  {
   "cell_type": "markdown",
   "id": "13651430",
   "metadata": {},
   "source": [
    "# Grid Search on XGBoost"
   ]
  },
  {
   "cell_type": "code",
   "execution_count": 8,
   "id": "d1f198f8",
   "metadata": {},
   "outputs": [],
   "source": [
    "model_pipe_2 = Pipeline(steps=[\n",
    "    ('trans', transformer),\n",
    "    ('xgboost', XGBClassifier(n_jobs=-1, random_state=42))\n",
    "])"
   ]
  },
  {
   "cell_type": "code",
   "execution_count": 9,
   "id": "18684038",
   "metadata": {},
   "outputs": [],
   "source": [
    "params = {\n",
    "        'xgboost__min_child_weight': [1, 5, 10],\n",
    "        'xgboost__gamma': [0.5, 1, 1.5, 2, 5],\n",
    "        'xgboost__subsample': [0.6, 0.8, 1.0],\n",
    "        'xgboost__colsample_bytree': [0.6, 0.8, 1.0],\n",
    "        'xgboost__max_depth': [3, 4, 5]\n",
    "        }"
   ]
  },
  {
   "cell_type": "code",
   "execution_count": null,
   "id": "6fa3a486",
   "metadata": {},
   "outputs": [],
   "source": [
    "gs_XGBoost = GridSearchCV(model_pipe_2, param_grid=params, n_jobs=-1, verbose=2, return_train_score=True, scoring='f1')"
   ]
  },
  {
   "cell_type": "code",
   "execution_count": null,
   "id": "66f100bc",
   "metadata": {},
   "outputs": [],
   "source": [
    "gs_XGBoost.fit(X_train, y_train)"
   ]
  },
  {
   "cell_type": "code",
   "execution_count": null,
   "id": "082d8a05",
   "metadata": {},
   "outputs": [],
   "source": [
    "gs_XGBoost.best_params_"
   ]
  },
  {
   "cell_type": "code",
   "execution_count": null,
   "id": "08c76186",
   "metadata": {},
   "outputs": [],
   "source": [
    "cv_XGBoost = cross_val_score(gs_XGBoost.best_estimator, X_train, y_train, n_jobs=-1, verbose=3, scoring='f1')"
   ]
  },
  {
   "cell_type": "code",
   "execution_count": null,
   "id": "65433ba8",
   "metadata": {},
   "outputs": [],
   "source": [
    "cv_XGBoost.mean()"
   ]
  }
 ],
 "metadata": {
  "kernelspec": {
   "display_name": "Python (learn-env)",
   "language": "python",
   "name": "learn-env"
  },
  "language_info": {
   "codemirror_mode": {
    "name": "ipython",
    "version": 3
   },
   "file_extension": ".py",
   "mimetype": "text/x-python",
   "name": "python",
   "nbconvert_exporter": "python",
   "pygments_lexer": "ipython3",
   "version": "3.8.11"
  }
 },
 "nbformat": 4,
 "nbformat_minor": 5
}
