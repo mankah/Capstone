{
 "cells": [
  {
   "cell_type": "code",
   "execution_count": 1,
   "id": "bdfd9291",
   "metadata": {},
   "outputs": [],
   "source": [
    "from sklearn.ensemble import RandomForestClassifier, GradientBoostingClassifier\n",
    "from sklearn.impute import SimpleImputer\n",
    "from sklearn.preprocessing import OneHotEncoder, StandardScaler\n",
    "from sklearn.pipeline import Pipeline\n",
    "from sklearn.compose import ColumnTransformer\n",
    "from sklearn.metrics import f1_score\n",
    "from sklearn.model_selection import GridSearchCV, cross_val_score\n",
    "\n",
    "import pandas as pd\n",
    "import numpy as np\n",
    "import warnings\n",
    "warnings.simplefilter(action='ignore')"
   ]
  },
  {
   "cell_type": "code",
   "execution_count": 2,
   "id": "58a1c420",
   "metadata": {},
   "outputs": [],
   "source": [
    "X_train = pd.read_csv('../data/X_train_flu.csv', index_col= 'respondent_id')\n",
    "X_test = pd.read_csv('../data/X_test_flu.csv', index_col= 'respondent_id')\n",
    "y_train = pd.read_csv('../data/y_train_flu.csv', index_col= 'respondent_id')\n",
    "y_test = pd.read_csv('../data/y_test_flu.csv', index_col= 'respondent_id')"
   ]
  },
  {
   "cell_type": "code",
   "execution_count": 3,
   "id": "4c881988",
   "metadata": {},
   "outputs": [],
   "source": [
    "y_train = y_train['seasonal_vaccine']\n",
    "y_test = y_test['seasonal_vaccine']"
   ]
  },
  {
   "cell_type": "code",
   "execution_count": 4,
   "id": "86ab450b",
   "metadata": {},
   "outputs": [
    {
     "data": {
      "text/html": [
       "<div>\n",
       "<style scoped>\n",
       "    .dataframe tbody tr th:only-of-type {\n",
       "        vertical-align: middle;\n",
       "    }\n",
       "\n",
       "    .dataframe tbody tr th {\n",
       "        vertical-align: top;\n",
       "    }\n",
       "\n",
       "    .dataframe thead th {\n",
       "        text-align: right;\n",
       "    }\n",
       "</style>\n",
       "<table border=\"1\" class=\"dataframe\">\n",
       "  <thead>\n",
       "    <tr style=\"text-align: right;\">\n",
       "      <th></th>\n",
       "      <th>h1n1_concern</th>\n",
       "      <th>h1n1_knowledge</th>\n",
       "      <th>behavioral_antiviral_meds</th>\n",
       "      <th>behavioral_avoidance</th>\n",
       "      <th>behavioral_face_mask</th>\n",
       "      <th>behavioral_wash_hands</th>\n",
       "      <th>behavioral_large_gatherings</th>\n",
       "      <th>behavioral_outside_home</th>\n",
       "      <th>behavioral_touch_face</th>\n",
       "      <th>doctor_recc_h1n1</th>\n",
       "      <th>...</th>\n",
       "      <th>race</th>\n",
       "      <th>sex</th>\n",
       "      <th>income_poverty</th>\n",
       "      <th>marital_status</th>\n",
       "      <th>rent_or_own</th>\n",
       "      <th>employment_status</th>\n",
       "      <th>hhs_geo_region</th>\n",
       "      <th>census_msa</th>\n",
       "      <th>household_adults</th>\n",
       "      <th>household_children</th>\n",
       "    </tr>\n",
       "    <tr>\n",
       "      <th>respondent_id</th>\n",
       "      <th></th>\n",
       "      <th></th>\n",
       "      <th></th>\n",
       "      <th></th>\n",
       "      <th></th>\n",
       "      <th></th>\n",
       "      <th></th>\n",
       "      <th></th>\n",
       "      <th></th>\n",
       "      <th></th>\n",
       "      <th></th>\n",
       "      <th></th>\n",
       "      <th></th>\n",
       "      <th></th>\n",
       "      <th></th>\n",
       "      <th></th>\n",
       "      <th></th>\n",
       "      <th></th>\n",
       "      <th></th>\n",
       "      <th></th>\n",
       "      <th></th>\n",
       "    </tr>\n",
       "  </thead>\n",
       "  <tbody>\n",
       "    <tr>\n",
       "      <th>7273</th>\n",
       "      <td>1.0</td>\n",
       "      <td>1.0</td>\n",
       "      <td>0.0</td>\n",
       "      <td>0.0</td>\n",
       "      <td>0.0</td>\n",
       "      <td>1.0</td>\n",
       "      <td>0.0</td>\n",
       "      <td>0.0</td>\n",
       "      <td>1.0</td>\n",
       "      <td>0.0</td>\n",
       "      <td>...</td>\n",
       "      <td>Other or Multiple</td>\n",
       "      <td>Female</td>\n",
       "      <td>&lt;= $75,000, Above Poverty</td>\n",
       "      <td>Married</td>\n",
       "      <td>Own</td>\n",
       "      <td>Not in Labor Force</td>\n",
       "      <td>qufhixun</td>\n",
       "      <td>MSA, Not Principle  City</td>\n",
       "      <td>1.0</td>\n",
       "      <td>0.0</td>\n",
       "    </tr>\n",
       "    <tr>\n",
       "      <th>13773</th>\n",
       "      <td>2.0</td>\n",
       "      <td>1.0</td>\n",
       "      <td>0.0</td>\n",
       "      <td>1.0</td>\n",
       "      <td>0.0</td>\n",
       "      <td>1.0</td>\n",
       "      <td>1.0</td>\n",
       "      <td>0.0</td>\n",
       "      <td>1.0</td>\n",
       "      <td>0.0</td>\n",
       "      <td>...</td>\n",
       "      <td>White</td>\n",
       "      <td>Female</td>\n",
       "      <td>NaN</td>\n",
       "      <td>Not Married</td>\n",
       "      <td>Own</td>\n",
       "      <td>Employed</td>\n",
       "      <td>lrircsnp</td>\n",
       "      <td>Non-MSA</td>\n",
       "      <td>0.0</td>\n",
       "      <td>0.0</td>\n",
       "    </tr>\n",
       "    <tr>\n",
       "      <th>24162</th>\n",
       "      <td>1.0</td>\n",
       "      <td>2.0</td>\n",
       "      <td>0.0</td>\n",
       "      <td>1.0</td>\n",
       "      <td>0.0</td>\n",
       "      <td>1.0</td>\n",
       "      <td>0.0</td>\n",
       "      <td>0.0</td>\n",
       "      <td>1.0</td>\n",
       "      <td>1.0</td>\n",
       "      <td>...</td>\n",
       "      <td>White</td>\n",
       "      <td>Female</td>\n",
       "      <td>&gt; $75,000</td>\n",
       "      <td>Married</td>\n",
       "      <td>Own</td>\n",
       "      <td>Employed</td>\n",
       "      <td>bhuqouqj</td>\n",
       "      <td>MSA, Not Principle  City</td>\n",
       "      <td>1.0</td>\n",
       "      <td>0.0</td>\n",
       "    </tr>\n",
       "    <tr>\n",
       "      <th>17341</th>\n",
       "      <td>0.0</td>\n",
       "      <td>0.0</td>\n",
       "      <td>0.0</td>\n",
       "      <td>1.0</td>\n",
       "      <td>0.0</td>\n",
       "      <td>1.0</td>\n",
       "      <td>0.0</td>\n",
       "      <td>1.0</td>\n",
       "      <td>0.0</td>\n",
       "      <td>1.0</td>\n",
       "      <td>...</td>\n",
       "      <td>Black</td>\n",
       "      <td>Female</td>\n",
       "      <td>&lt;= $75,000, Above Poverty</td>\n",
       "      <td>Not Married</td>\n",
       "      <td>Own</td>\n",
       "      <td>Employed</td>\n",
       "      <td>fpwskwrf</td>\n",
       "      <td>MSA, Principle City</td>\n",
       "      <td>1.0</td>\n",
       "      <td>2.0</td>\n",
       "    </tr>\n",
       "    <tr>\n",
       "      <th>23521</th>\n",
       "      <td>2.0</td>\n",
       "      <td>1.0</td>\n",
       "      <td>0.0</td>\n",
       "      <td>0.0</td>\n",
       "      <td>1.0</td>\n",
       "      <td>1.0</td>\n",
       "      <td>1.0</td>\n",
       "      <td>1.0</td>\n",
       "      <td>1.0</td>\n",
       "      <td>0.0</td>\n",
       "      <td>...</td>\n",
       "      <td>White</td>\n",
       "      <td>Male</td>\n",
       "      <td>&lt;= $75,000, Above Poverty</td>\n",
       "      <td>Married</td>\n",
       "      <td>Own</td>\n",
       "      <td>Not in Labor Force</td>\n",
       "      <td>lzgpxyit</td>\n",
       "      <td>MSA, Not Principle  City</td>\n",
       "      <td>1.0</td>\n",
       "      <td>0.0</td>\n",
       "    </tr>\n",
       "  </tbody>\n",
       "</table>\n",
       "<p>5 rows × 32 columns</p>\n",
       "</div>"
      ],
      "text/plain": [
       "               h1n1_concern  h1n1_knowledge  behavioral_antiviral_meds  \\\n",
       "respondent_id                                                            \n",
       "7273                    1.0             1.0                        0.0   \n",
       "13773                   2.0             1.0                        0.0   \n",
       "24162                   1.0             2.0                        0.0   \n",
       "17341                   0.0             0.0                        0.0   \n",
       "23521                   2.0             1.0                        0.0   \n",
       "\n",
       "               behavioral_avoidance  behavioral_face_mask  \\\n",
       "respondent_id                                               \n",
       "7273                            0.0                   0.0   \n",
       "13773                           1.0                   0.0   \n",
       "24162                           1.0                   0.0   \n",
       "17341                           1.0                   0.0   \n",
       "23521                           0.0                   1.0   \n",
       "\n",
       "               behavioral_wash_hands  behavioral_large_gatherings  \\\n",
       "respondent_id                                                       \n",
       "7273                             1.0                          0.0   \n",
       "13773                            1.0                          1.0   \n",
       "24162                            1.0                          0.0   \n",
       "17341                            1.0                          0.0   \n",
       "23521                            1.0                          1.0   \n",
       "\n",
       "               behavioral_outside_home  behavioral_touch_face  \\\n",
       "respondent_id                                                   \n",
       "7273                               0.0                    1.0   \n",
       "13773                              0.0                    1.0   \n",
       "24162                              0.0                    1.0   \n",
       "17341                              1.0                    0.0   \n",
       "23521                              1.0                    1.0   \n",
       "\n",
       "               doctor_recc_h1n1  ...               race     sex  \\\n",
       "respondent_id                    ...                              \n",
       "7273                        0.0  ...  Other or Multiple  Female   \n",
       "13773                       0.0  ...              White  Female   \n",
       "24162                       1.0  ...              White  Female   \n",
       "17341                       1.0  ...              Black  Female   \n",
       "23521                       0.0  ...              White    Male   \n",
       "\n",
       "                          income_poverty  marital_status  rent_or_own  \\\n",
       "respondent_id                                                           \n",
       "7273           <= $75,000, Above Poverty         Married          Own   \n",
       "13773                                NaN     Not Married          Own   \n",
       "24162                          > $75,000         Married          Own   \n",
       "17341          <= $75,000, Above Poverty     Not Married          Own   \n",
       "23521          <= $75,000, Above Poverty         Married          Own   \n",
       "\n",
       "                employment_status  hhs_geo_region                census_msa  \\\n",
       "respondent_id                                                                 \n",
       "7273           Not in Labor Force        qufhixun  MSA, Not Principle  City   \n",
       "13773                    Employed        lrircsnp                   Non-MSA   \n",
       "24162                    Employed        bhuqouqj  MSA, Not Principle  City   \n",
       "17341                    Employed        fpwskwrf       MSA, Principle City   \n",
       "23521          Not in Labor Force        lzgpxyit  MSA, Not Principle  City   \n",
       "\n",
       "               household_adults  household_children  \n",
       "respondent_id                                        \n",
       "7273                        1.0                 0.0  \n",
       "13773                       0.0                 0.0  \n",
       "24162                       1.0                 0.0  \n",
       "17341                       1.0                 2.0  \n",
       "23521                       1.0                 0.0  \n",
       "\n",
       "[5 rows x 32 columns]"
      ]
     },
     "execution_count": 4,
     "metadata": {},
     "output_type": "execute_result"
    }
   ],
   "source": [
    "X_train.head()"
   ]
  },
  {
   "cell_type": "code",
   "execution_count": 5,
   "id": "40c1b5c5",
   "metadata": {},
   "outputs": [
    {
     "data": {
      "text/plain": [
       "h1n1_concern                     69\n",
       "h1n1_knowledge                   85\n",
       "behavioral_antiviral_meds        51\n",
       "behavioral_avoidance            155\n",
       "behavioral_face_mask             14\n",
       "behavioral_wash_hands            30\n",
       "behavioral_large_gatherings      55\n",
       "behavioral_outside_home          55\n",
       "behavioral_touch_face            90\n",
       "doctor_recc_h1n1               1605\n",
       "doctor_recc_seasonal           1605\n",
       "chronic_med_condition           745\n",
       "child_under_6_months            617\n",
       "health_worker                   606\n",
       "opinion_h1n1_vacc_effective     306\n",
       "opinion_h1n1_risk               290\n",
       "opinion_h1n1_sick_from_vacc     293\n",
       "opinion_seas_vacc_effective     350\n",
       "opinion_seas_risk               394\n",
       "opinion_seas_sick_from_vacc     414\n",
       "age_group                         0\n",
       "education                      1048\n",
       "race                              0\n",
       "sex                               0\n",
       "income_poverty                 3261\n",
       "marital_status                 1053\n",
       "rent_or_own                    1518\n",
       "employment_status              1091\n",
       "hhs_geo_region                    0\n",
       "census_msa                        0\n",
       "household_adults                186\n",
       "household_children              186\n",
       "dtype: int64"
      ]
     },
     "execution_count": 5,
     "metadata": {},
     "output_type": "execute_result"
    }
   ],
   "source": [
    "X_train.isna().sum()"
   ]
  },
  {
   "cell_type": "code",
   "execution_count": 6,
   "id": "c0498774",
   "metadata": {},
   "outputs": [
    {
     "data": {
      "text/plain": [
       "0"
      ]
     },
     "execution_count": 6,
     "metadata": {},
     "output_type": "execute_result"
    }
   ],
   "source": [
    "y_train.isna().sum()"
   ]
  },
  {
   "cell_type": "code",
   "execution_count": 7,
   "id": "d03ab21e",
   "metadata": {},
   "outputs": [],
   "source": [
    "X_train_cat = X_train.select_dtypes('object')\n",
    "X_train_num = X_train.select_dtypes(['float64', 'int64'])\n",
    "\n",
    "cat_pipe = Pipeline([\n",
    "    ('impute', SimpleImputer(strategy='most_frequent')),\n",
    "    ('ohe', OneHotEncoder(sparse=False, handle_unknown='ignore'))\n",
    "])\n",
    "num_pipe = Pipeline(steps=[\n",
    "    ('impute', SimpleImputer(strategy='most_frequent')),\n",
    "])\n",
    "\n",
    "transformer = ColumnTransformer([('categorical', cat_pipe, X_train_cat.columns),\n",
    "                                 ('numerical', num_pipe, X_train_num.columns)])"
   ]
  },
  {
   "cell_type": "code",
   "execution_count": 8,
   "id": "6516fb26",
   "metadata": {},
   "outputs": [
    {
     "name": "stderr",
     "output_type": "stream",
     "text": [
      "[Parallel(n_jobs=-2)]: Using backend ThreadingBackend with 11 concurrent workers.\n",
      "[Parallel(n_jobs=-2)]: Done  28 tasks      | elapsed:    0.0s\n",
      "[Parallel(n_jobs=-2)]: Done 100 out of 100 | elapsed:    0.3s finished\n"
     ]
    },
    {
     "data": {
      "text/plain": [
       "Pipeline(steps=[('trans',\n",
       "                 ColumnTransformer(transformers=[('categorical',\n",
       "                                                  Pipeline(steps=[('impute',\n",
       "                                                                   SimpleImputer(strategy='most_frequent')),\n",
       "                                                                  ('ohe',\n",
       "                                                                   OneHotEncoder(handle_unknown='ignore',\n",
       "                                                                                 sparse=False))]),\n",
       "                                                  Index(['age_group', 'education', 'race', 'sex', 'income_poverty',\n",
       "       'marital_status', 'rent_or_own', 'employment_status', 'hhs_geo_region',\n",
       "       'census_msa'],\n",
       "      dtype=...\n",
       "       'behavioral_touch_face', 'doctor_recc_h1n1', 'doctor_recc_seasonal',\n",
       "       'chronic_med_condition', 'child_under_6_months', 'health_worker',\n",
       "       'opinion_h1n1_vacc_effective', 'opinion_h1n1_risk',\n",
       "       'opinion_h1n1_sick_from_vacc', 'opinion_seas_vacc_effective',\n",
       "       'opinion_seas_risk', 'opinion_seas_sick_from_vacc', 'household_adults',\n",
       "       'household_children'],\n",
       "      dtype='object'))])),\n",
       "                ('rfc', RandomForestClassifier(n_jobs=-2, verbose=1))])"
      ]
     },
     "execution_count": 8,
     "metadata": {},
     "output_type": "execute_result"
    }
   ],
   "source": [
    "model_pipe = Pipeline(steps=[\n",
    "    ('trans', transformer),\n",
    "    ('rfc', RandomForestClassifier(verbose=1, n_jobs=-2))\n",
    "])\n",
    "\n",
    "model_pipe.fit(X_train, y_train)"
   ]
  },
  {
   "cell_type": "code",
   "execution_count": 9,
   "id": "dbda8567",
   "metadata": {},
   "outputs": [
    {
     "name": "stderr",
     "output_type": "stream",
     "text": [
      "[Parallel(n_jobs=-1)]: Using backend LokyBackend with 12 concurrent workers.\n",
      "[Parallel(n_jobs=-1)]: Done   2 out of   5 | elapsed:    3.1s remaining:    4.7s\n",
      "[Parallel(n_jobs=-1)]: Done   5 out of   5 | elapsed:    3.6s finished\n"
     ]
    }
   ],
   "source": [
    "rfc_cv_score = cross_val_score(model_pipe, X_train, y_train, n_jobs=-1, verbose=3, scoring = 'f1')"
   ]
  },
  {
   "cell_type": "code",
   "execution_count": 10,
   "id": "2c080076",
   "metadata": {},
   "outputs": [
    {
     "data": {
      "text/plain": [
       "0.7503588098543862"
      ]
     },
     "execution_count": 10,
     "metadata": {},
     "output_type": "execute_result"
    }
   ],
   "source": [
    "rfc_cv_score.mean()"
   ]
  },
  {
   "cell_type": "markdown",
   "id": "d67c6747",
   "metadata": {},
   "source": [
    "# Random Forest Classifier"
   ]
  },
  {
   "cell_type": "code",
   "execution_count": 11,
   "id": "5c821abb",
   "metadata": {},
   "outputs": [],
   "source": [
    "model_pipe_2 = Pipeline(steps=[\n",
    "    ('trans', transformer),\n",
    "    ('rfc', RandomForestClassifier(verbose=1, n_jobs=-2))\n",
    "])"
   ]
  },
  {
   "cell_type": "code",
   "execution_count": 12,
   "id": "9c34e067",
   "metadata": {},
   "outputs": [],
   "source": [
    "params = {\n",
    "    'rfc__max_depth': list(range(10,100,10)),\n",
    "    'rfc__criterion': ['gini', 'entropy'],\n",
    "    'rfc__n_estimators': list(range(100,250,50)),\n",
    "    'rfc__min_samples_leaf': list(range(2,10,2)),\n",
    "    'rfc__min_samples_split': list(range(2,10,2)),\n",
    "}"
   ]
  },
  {
   "cell_type": "code",
   "execution_count": 13,
   "id": "6a054b69",
   "metadata": {},
   "outputs": [
    {
     "name": "stdout",
     "output_type": "stream",
     "text": [
      "Fitting 3 folds for each of 864 candidates, totalling 2592 fits\n"
     ]
    },
    {
     "name": "stderr",
     "output_type": "stream",
     "text": [
      "[Parallel(n_jobs=-2)]: Using backend ThreadingBackend with 11 concurrent workers.\n",
      "[Parallel(n_jobs=-2)]: Done  28 tasks      | elapsed:    0.0s\n",
      "[Parallel(n_jobs=-2)]: Done 150 out of 150 | elapsed:    0.6s finished\n"
     ]
    },
    {
     "data": {
      "text/plain": [
       "GridSearchCV(cv=3,\n",
       "             estimator=Pipeline(steps=[('trans',\n",
       "                                        ColumnTransformer(transformers=[('categorical',\n",
       "                                                                         Pipeline(steps=[('impute',\n",
       "                                                                                          SimpleImputer(strategy='most_frequent')),\n",
       "                                                                                         ('ohe',\n",
       "                                                                                          OneHotEncoder(handle_unknown='ignore',\n",
       "                                                                                                        sparse=False))]),\n",
       "                                                                         Index(['age_group', 'education', 'race', 'sex', 'income_poverty',\n",
       "       'marital_status', 'rent_or_own', 'employment_status', 'hhs_geo_...\n",
       "       'opinion_seas_risk', 'opinion_seas_sick_from_vacc', 'household_adults',\n",
       "       'household_children'],\n",
       "      dtype='object'))])),\n",
       "                                       ('rfc',\n",
       "                                        RandomForestClassifier(n_jobs=-2,\n",
       "                                                               verbose=1))]),\n",
       "             n_jobs=-1,\n",
       "             param_grid={'rfc__criterion': ['gini', 'entropy'],\n",
       "                         'rfc__max_depth': [10, 20, 30, 40, 50, 60, 70, 80, 90],\n",
       "                         'rfc__min_samples_leaf': [2, 4, 6, 8],\n",
       "                         'rfc__min_samples_split': [2, 4, 6, 8],\n",
       "                         'rfc__n_estimators': [100, 150, 200]},\n",
       "             verbose=3)"
      ]
     },
     "execution_count": 13,
     "metadata": {},
     "output_type": "execute_result"
    }
   ],
   "source": [
    "gs_rfc = GridSearchCV(model_pipe_2, params, n_jobs=-1, verbose=3, cv = 3)\n",
    "gs_rfc.fit(X_train, y_train)"
   ]
  },
  {
   "cell_type": "code",
   "execution_count": 14,
   "id": "c730ae5f",
   "metadata": {},
   "outputs": [
    {
     "data": {
      "text/plain": [
       "{'rfc__criterion': 'gini',\n",
       " 'rfc__max_depth': 90,\n",
       " 'rfc__min_samples_leaf': 4,\n",
       " 'rfc__min_samples_split': 2,\n",
       " 'rfc__n_estimators': 150}"
      ]
     },
     "execution_count": 14,
     "metadata": {},
     "output_type": "execute_result"
    }
   ],
   "source": [
    "gs_rfc.best_params_"
   ]
  },
  {
   "cell_type": "code",
   "execution_count": 15,
   "id": "7b1dcdd1",
   "metadata": {},
   "outputs": [
    {
     "name": "stderr",
     "output_type": "stream",
     "text": [
      "[Parallel(n_jobs=-1)]: Using backend LokyBackend with 12 concurrent workers.\n",
      "[Parallel(n_jobs=-1)]: Done   2 out of   5 | elapsed:    1.9s remaining:    2.9s\n",
      "[Parallel(n_jobs=-1)]: Done   5 out of   5 | elapsed:    2.4s finished\n"
     ]
    }
   ],
   "source": [
    "rfc_cv_1 = cross_val_score(gs_rfc.best_estimator_, X_train, y_train, n_jobs=-1, verbose=3)"
   ]
  },
  {
   "cell_type": "code",
   "execution_count": 16,
   "id": "c024687e",
   "metadata": {},
   "outputs": [
    {
     "data": {
      "text/plain": [
       "0.7790314528207689"
      ]
     },
     "execution_count": 16,
     "metadata": {},
     "output_type": "execute_result"
    }
   ],
   "source": [
    "rfc_cv_1.mean()"
   ]
  },
  {
   "cell_type": "markdown",
   "id": "9893b7f1",
   "metadata": {},
   "source": [
    "## Gradiant Boost Classifier"
   ]
  },
  {
   "cell_type": "code",
   "execution_count": 17,
   "id": "c788da5c",
   "metadata": {},
   "outputs": [],
   "source": [
    "model_pipe_3 = Pipeline(steps=[\n",
    "    ('trans', transformer),\n",
    "    ('gbc', GradientBoostingClassifier(verbose=3))\n",
    "])"
   ]
  },
  {
   "cell_type": "code",
   "execution_count": 18,
   "id": "3a786f64",
   "metadata": {},
   "outputs": [
    {
     "data": {
      "text/plain": [
       "{'memory': None,\n",
       " 'steps': [('trans',\n",
       "   ColumnTransformer(transformers=[('categorical',\n",
       "                                    Pipeline(steps=[('impute',\n",
       "                                                     SimpleImputer(strategy='most_frequent')),\n",
       "                                                    ('ohe',\n",
       "                                                     OneHotEncoder(handle_unknown='ignore',\n",
       "                                                                   sparse=False))]),\n",
       "                                    Index(['age_group', 'education', 'race', 'sex', 'income_poverty',\n",
       "          'marital_status', 'rent_or_own', 'employment_status', 'hhs_geo_region',\n",
       "          'census_msa'],\n",
       "         dtype='object')),\n",
       "                                   ('numerical',\n",
       "                                    P...\n",
       "          'behavioral_large_gatherings', 'behavioral_outside_home',\n",
       "          'behavioral_touch_face', 'doctor_recc_h1n1', 'doctor_recc_seasonal',\n",
       "          'chronic_med_condition', 'child_under_6_months', 'health_worker',\n",
       "          'opinion_h1n1_vacc_effective', 'opinion_h1n1_risk',\n",
       "          'opinion_h1n1_sick_from_vacc', 'opinion_seas_vacc_effective',\n",
       "          'opinion_seas_risk', 'opinion_seas_sick_from_vacc', 'household_adults',\n",
       "          'household_children'],\n",
       "         dtype='object'))])),\n",
       "  ('gbc', GradientBoostingClassifier(verbose=3))],\n",
       " 'verbose': False,\n",
       " 'trans': ColumnTransformer(transformers=[('categorical',\n",
       "                                  Pipeline(steps=[('impute',\n",
       "                                                   SimpleImputer(strategy='most_frequent')),\n",
       "                                                  ('ohe',\n",
       "                                                   OneHotEncoder(handle_unknown='ignore',\n",
       "                                                                 sparse=False))]),\n",
       "                                  Index(['age_group', 'education', 'race', 'sex', 'income_poverty',\n",
       "        'marital_status', 'rent_or_own', 'employment_status', 'hhs_geo_region',\n",
       "        'census_msa'],\n",
       "       dtype='object')),\n",
       "                                 ('numerical',\n",
       "                                  P...\n",
       "        'behavioral_large_gatherings', 'behavioral_outside_home',\n",
       "        'behavioral_touch_face', 'doctor_recc_h1n1', 'doctor_recc_seasonal',\n",
       "        'chronic_med_condition', 'child_under_6_months', 'health_worker',\n",
       "        'opinion_h1n1_vacc_effective', 'opinion_h1n1_risk',\n",
       "        'opinion_h1n1_sick_from_vacc', 'opinion_seas_vacc_effective',\n",
       "        'opinion_seas_risk', 'opinion_seas_sick_from_vacc', 'household_adults',\n",
       "        'household_children'],\n",
       "       dtype='object'))]),\n",
       " 'gbc': GradientBoostingClassifier(verbose=3),\n",
       " 'trans__n_jobs': None,\n",
       " 'trans__remainder': 'drop',\n",
       " 'trans__sparse_threshold': 0.3,\n",
       " 'trans__transformer_weights': None,\n",
       " 'trans__transformers': [('categorical',\n",
       "   Pipeline(steps=[('impute', SimpleImputer(strategy='most_frequent')),\n",
       "                   ('ohe', OneHotEncoder(handle_unknown='ignore', sparse=False))]),\n",
       "   Index(['age_group', 'education', 'race', 'sex', 'income_poverty',\n",
       "          'marital_status', 'rent_or_own', 'employment_status', 'hhs_geo_region',\n",
       "          'census_msa'],\n",
       "         dtype='object')),\n",
       "  ('numerical',\n",
       "   Pipeline(steps=[('impute', SimpleImputer(strategy='most_frequent'))]),\n",
       "   Index(['h1n1_concern', 'h1n1_knowledge', 'behavioral_antiviral_meds',\n",
       "          'behavioral_avoidance', 'behavioral_face_mask', 'behavioral_wash_hands',\n",
       "          'behavioral_large_gatherings', 'behavioral_outside_home',\n",
       "          'behavioral_touch_face', 'doctor_recc_h1n1', 'doctor_recc_seasonal',\n",
       "          'chronic_med_condition', 'child_under_6_months', 'health_worker',\n",
       "          'opinion_h1n1_vacc_effective', 'opinion_h1n1_risk',\n",
       "          'opinion_h1n1_sick_from_vacc', 'opinion_seas_vacc_effective',\n",
       "          'opinion_seas_risk', 'opinion_seas_sick_from_vacc', 'household_adults',\n",
       "          'household_children'],\n",
       "         dtype='object'))],\n",
       " 'trans__verbose': False,\n",
       " 'trans__categorical': Pipeline(steps=[('impute', SimpleImputer(strategy='most_frequent')),\n",
       "                 ('ohe', OneHotEncoder(handle_unknown='ignore', sparse=False))]),\n",
       " 'trans__numerical': Pipeline(steps=[('impute', SimpleImputer(strategy='most_frequent'))]),\n",
       " 'trans__categorical__memory': None,\n",
       " 'trans__categorical__steps': [('impute',\n",
       "   SimpleImputer(strategy='most_frequent')),\n",
       "  ('ohe', OneHotEncoder(handle_unknown='ignore', sparse=False))],\n",
       " 'trans__categorical__verbose': False,\n",
       " 'trans__categorical__impute': SimpleImputer(strategy='most_frequent'),\n",
       " 'trans__categorical__ohe': OneHotEncoder(handle_unknown='ignore', sparse=False),\n",
       " 'trans__categorical__impute__add_indicator': False,\n",
       " 'trans__categorical__impute__copy': True,\n",
       " 'trans__categorical__impute__fill_value': None,\n",
       " 'trans__categorical__impute__missing_values': nan,\n",
       " 'trans__categorical__impute__strategy': 'most_frequent',\n",
       " 'trans__categorical__impute__verbose': 0,\n",
       " 'trans__categorical__ohe__categories': 'auto',\n",
       " 'trans__categorical__ohe__drop': None,\n",
       " 'trans__categorical__ohe__dtype': numpy.float64,\n",
       " 'trans__categorical__ohe__handle_unknown': 'ignore',\n",
       " 'trans__categorical__ohe__sparse': False,\n",
       " 'trans__numerical__memory': None,\n",
       " 'trans__numerical__steps': [('impute',\n",
       "   SimpleImputer(strategy='most_frequent'))],\n",
       " 'trans__numerical__verbose': False,\n",
       " 'trans__numerical__impute': SimpleImputer(strategy='most_frequent'),\n",
       " 'trans__numerical__impute__add_indicator': False,\n",
       " 'trans__numerical__impute__copy': True,\n",
       " 'trans__numerical__impute__fill_value': None,\n",
       " 'trans__numerical__impute__missing_values': nan,\n",
       " 'trans__numerical__impute__strategy': 'most_frequent',\n",
       " 'trans__numerical__impute__verbose': 0,\n",
       " 'gbc__ccp_alpha': 0.0,\n",
       " 'gbc__criterion': 'friedman_mse',\n",
       " 'gbc__init': None,\n",
       " 'gbc__learning_rate': 0.1,\n",
       " 'gbc__loss': 'deviance',\n",
       " 'gbc__max_depth': 3,\n",
       " 'gbc__max_features': None,\n",
       " 'gbc__max_leaf_nodes': None,\n",
       " 'gbc__min_impurity_decrease': 0.0,\n",
       " 'gbc__min_impurity_split': None,\n",
       " 'gbc__min_samples_leaf': 1,\n",
       " 'gbc__min_samples_split': 2,\n",
       " 'gbc__min_weight_fraction_leaf': 0.0,\n",
       " 'gbc__n_estimators': 100,\n",
       " 'gbc__n_iter_no_change': None,\n",
       " 'gbc__random_state': None,\n",
       " 'gbc__subsample': 1.0,\n",
       " 'gbc__tol': 0.0001,\n",
       " 'gbc__validation_fraction': 0.1,\n",
       " 'gbc__verbose': 3,\n",
       " 'gbc__warm_start': False}"
      ]
     },
     "execution_count": 18,
     "metadata": {},
     "output_type": "execute_result"
    }
   ],
   "source": [
    "model_pipe_3.get_params()"
   ]
  },
  {
   "cell_type": "code",
   "execution_count": 19,
   "id": "84857729",
   "metadata": {},
   "outputs": [],
   "source": [
    "params = {\n",
    "    'gbc__learning_rate': [0.001, 0.01, 0.1, .5, .9],\n",
    "    'gbc__n_estimators': list(range(100,250,50)),\n",
    "    'gbc__min_samples_leaf': list(range(2,10,2)),\n",
    "    'gbc__min_samples_split': list(range(2,10,2)),\n",
    "    'gbc__max_features': list(range(0,200,50))\n",
    "}"
   ]
  },
  {
   "cell_type": "code",
   "execution_count": 20,
   "id": "7dc81c09",
   "metadata": {},
   "outputs": [
    {
     "name": "stdout",
     "output_type": "stream",
     "text": [
      "Fitting 3 folds for each of 960 candidates, totalling 2880 fits\n",
      "      Iter       Train Loss   Remaining Time \n",
      "         1           1.3288            4.65s\n",
      "         2           1.2872            3.95s\n",
      "         3           1.2516            4.15s\n",
      "         4           1.2216            4.23s\n",
      "         5           1.1940            4.27s\n",
      "         6           1.1709            4.06s\n",
      "         7           1.1506            4.18s\n",
      "         8           1.1329            4.29s\n",
      "         9           1.1169            4.22s\n",
      "        10           1.1034            4.21s\n",
      "        11           1.0912            4.00s\n",
      "        12           1.0802            4.07s\n",
      "        13           1.0704            4.06s\n",
      "        14           1.0613            4.07s\n",
      "        15           1.0537            4.00s\n",
      "        16           1.0460            3.94s\n",
      "        17           1.0388            3.92s\n",
      "        18           1.0325            3.79s\n",
      "        19           1.0264            3.82s\n",
      "        20           1.0212            3.70s\n",
      "        21           1.0163            3.69s\n",
      "        22           1.0122            3.75s\n",
      "        23           1.0078            3.66s\n",
      "        24           1.0036            3.65s\n",
      "        25           0.9994            3.63s\n",
      "        26           0.9965            3.60s\n",
      "        27           0.9930            3.58s\n",
      "        28           0.9900            3.49s\n",
      "        29           0.9866            3.47s\n",
      "        30           0.9837            3.51s\n",
      "        31           0.9812            3.44s\n",
      "        32           0.9786            3.42s\n",
      "        33           0.9764            3.38s\n",
      "        34           0.9742            3.37s\n",
      "        35           0.9719            3.30s\n",
      "        36           0.9697            3.28s\n",
      "        37           0.9680            3.27s\n",
      "        38           0.9661            3.26s\n",
      "        39           0.9646            3.21s\n",
      "        40           0.9628            3.17s\n",
      "        41           0.9612            3.15s\n",
      "        42           0.9598            3.13s\n",
      "        43           0.9583            3.11s\n",
      "        44           0.9569            3.06s\n",
      "        45           0.9554            3.05s\n",
      "        46           0.9542            3.03s\n",
      "        47           0.9531            2.97s\n",
      "        48           0.9520            2.95s\n",
      "        49           0.9509            2.92s\n",
      "        50           0.9499            2.90s\n",
      "        51           0.9487            2.85s\n",
      "        52           0.9478            2.83s\n",
      "        53           0.9467            2.81s\n",
      "        54           0.9458            2.78s\n",
      "        55           0.9449            2.72s\n",
      "        56           0.9440            2.70s\n",
      "        57           0.9433            2.68s\n",
      "        58           0.9424            2.65s\n",
      "        59           0.9415            2.63s\n",
      "        60           0.9407            2.58s\n",
      "        61           0.9400            2.57s\n",
      "        62           0.9393            2.55s\n",
      "        63           0.9386            2.50s\n",
      "        64           0.9379            2.48s\n",
      "        65           0.9371            2.45s\n",
      "        66           0.9366            2.42s\n",
      "        67           0.9358            2.38s\n",
      "        68           0.9352            2.36s\n",
      "        69           0.9346            2.34s\n",
      "        70           0.9340            2.30s\n",
      "        71           0.9335            2.27s\n",
      "        72           0.9329            2.24s\n",
      "        73           0.9323            2.22s\n",
      "        74           0.9318            2.18s\n",
      "        75           0.9312            2.16s\n",
      "        76           0.9308            2.13s\n",
      "        77           0.9303            2.11s\n",
      "        78           0.9298            2.07s\n",
      "        79           0.9293            2.04s\n",
      "        80           0.9289            2.02s\n",
      "        81           0.9283            1.99s\n",
      "        82           0.9278            1.95s\n",
      "        83           0.9274            1.93s\n",
      "        84           0.9270            1.90s\n",
      "        85           0.9266            1.88s\n",
      "        86           0.9262            1.84s\n",
      "        87           0.9259            1.82s\n",
      "        88           0.9252            1.79s\n",
      "        89           0.9248            1.75s\n",
      "        90           0.9244            1.73s\n",
      "        91           0.9240            1.70s\n",
      "        92           0.9236            1.66s\n",
      "        93           0.9234            1.64s\n",
      "        94           0.9230            1.62s\n",
      "        95           0.9227            1.59s\n",
      "        96           0.9222            1.56s\n",
      "        97           0.9218            1.53s\n",
      "        98           0.9215            1.51s\n",
      "        99           0.9212            1.47s\n",
      "       100           0.9209            1.45s\n",
      "       101           0.9206            1.42s\n",
      "       102           0.9203            1.39s\n",
      "       103           0.9199            1.36s\n",
      "       104           0.9197            1.33s\n",
      "       105           0.9194            1.30s\n",
      "       106           0.9191            1.27s\n",
      "       107           0.9188            1.24s\n",
      "       108           0.9185            1.22s\n",
      "       109           0.9182            1.19s\n",
      "       110           0.9178            1.16s\n",
      "       111           0.9176            1.13s\n",
      "       112           0.9173            1.10s\n",
      "       113           0.9170            1.07s\n",
      "       114           0.9167            1.04s\n",
      "       115           0.9165            1.01s\n",
      "       116           0.9162            0.99s\n",
      "       117           0.9160            0.96s\n",
      "       118           0.9157            0.93s\n",
      "       119           0.9155            0.90s\n",
      "       120           0.9153            0.87s\n",
      "       121           0.9151            0.84s\n",
      "       122           0.9148            0.81s\n",
      "       123           0.9145            0.78s\n",
      "       124           0.9142            0.75s\n",
      "       125           0.9140            0.72s\n",
      "       126           0.9137            0.69s\n",
      "       127           0.9135            0.67s\n",
      "       128           0.9131            0.64s\n",
      "       129           0.9128            0.61s\n",
      "       130           0.9126            0.58s\n",
      "       131           0.9124            0.55s\n",
      "       132           0.9121            0.52s\n",
      "       133           0.9117            0.49s\n",
      "       134           0.9115            0.46s\n",
      "       135           0.9112            0.43s\n",
      "       136           0.9109            0.40s\n",
      "       137           0.9106            0.38s\n",
      "       138           0.9104            0.35s\n",
      "       139           0.9103            0.32s\n",
      "       140           0.9100            0.29s\n",
      "       141           0.9098            0.26s\n",
      "       142           0.9095            0.23s\n",
      "       143           0.9093            0.20s\n",
      "       144           0.9090            0.17s\n",
      "       145           0.9087            0.14s\n",
      "       146           0.9085            0.12s\n",
      "       147           0.9084            0.09s\n",
      "       148           0.9082            0.06s\n",
      "       149           0.9080            0.03s\n",
      "       150           0.9079            0.00s\n"
     ]
    },
    {
     "data": {
      "text/plain": [
       "GridSearchCV(cv=3,\n",
       "             estimator=Pipeline(steps=[('trans',\n",
       "                                        ColumnTransformer(transformers=[('categorical',\n",
       "                                                                         Pipeline(steps=[('impute',\n",
       "                                                                                          SimpleImputer(strategy='most_frequent')),\n",
       "                                                                                         ('ohe',\n",
       "                                                                                          OneHotEncoder(handle_unknown='ignore',\n",
       "                                                                                                        sparse=False))]),\n",
       "                                                                         Index(['age_group', 'education', 'race', 'sex', 'income_poverty',\n",
       "       'marital_status', 'rent_or_own', 'employment_status', 'hhs_geo_...\n",
       "       'opinion_seas_risk', 'opinion_seas_sick_from_vacc', 'household_adults',\n",
       "       'household_children'],\n",
       "      dtype='object'))])),\n",
       "                                       ('gbc',\n",
       "                                        GradientBoostingClassifier(verbose=3))]),\n",
       "             n_jobs=-1,\n",
       "             param_grid={'gbc__learning_rate': [0.001, 0.01, 0.1, 0.5, 0.9],\n",
       "                         'gbc__max_features': [0, 50, 100, 150],\n",
       "                         'gbc__min_samples_leaf': [2, 4, 6, 8],\n",
       "                         'gbc__min_samples_split': [2, 4, 6, 8],\n",
       "                         'gbc__n_estimators': [100, 150, 200]},\n",
       "             verbose=1)"
      ]
     },
     "execution_count": 20,
     "metadata": {},
     "output_type": "execute_result"
    }
   ],
   "source": [
    "gs_gbc = GridSearchCV(model_pipe_3, params, n_jobs=-1, verbose=1, cv = 3)\n",
    "gs_gbc.fit(X_train, y_train)"
   ]
  },
  {
   "cell_type": "code",
   "execution_count": 21,
   "id": "2612a164",
   "metadata": {},
   "outputs": [
    {
     "data": {
      "text/plain": [
       "{'gbc__learning_rate': 0.1,\n",
       " 'gbc__max_features': 50,\n",
       " 'gbc__min_samples_leaf': 4,\n",
       " 'gbc__min_samples_split': 2,\n",
       " 'gbc__n_estimators': 150}"
      ]
     },
     "execution_count": 21,
     "metadata": {},
     "output_type": "execute_result"
    }
   ],
   "source": [
    "gs_gbc.best_params_"
   ]
  },
  {
   "cell_type": "code",
   "execution_count": 22,
   "id": "a9e3deb9",
   "metadata": {},
   "outputs": [
    {
     "name": "stderr",
     "output_type": "stream",
     "text": [
      "[Parallel(n_jobs=-1)]: Using backend LokyBackend with 12 concurrent workers.\n",
      "[Parallel(n_jobs=-1)]: Done   2 out of   5 | elapsed:    7.7s remaining:   11.6s\n",
      "[Parallel(n_jobs=-1)]: Done   5 out of   5 | elapsed:    7.8s finished\n"
     ]
    }
   ],
   "source": [
    "gbc_cv_1 = cross_val_score(gs_gbc.best_estimator_, X_train, y_train, n_jobs=-1, verbose=3)"
   ]
  },
  {
   "cell_type": "code",
   "execution_count": 23,
   "id": "94a2e2ac",
   "metadata": {},
   "outputs": [
    {
     "data": {
      "text/plain": [
       "0.7836744882675986"
      ]
     },
     "execution_count": 23,
     "metadata": {},
     "output_type": "execute_result"
    }
   ],
   "source": [
    "gbc_cv_1.mean()"
   ]
  }
 ],
 "metadata": {
  "kernelspec": {
   "display_name": "Python 3 (ipykernel)",
   "language": "python",
   "name": "python3"
  },
  "language_info": {
   "codemirror_mode": {
    "name": "ipython",
    "version": 3
   },
   "file_extension": ".py",
   "mimetype": "text/x-python",
   "name": "python",
   "nbconvert_exporter": "python",
   "pygments_lexer": "ipython3",
   "version": "3.8.11"
  }
 },
 "nbformat": 4,
 "nbformat_minor": 5
}
