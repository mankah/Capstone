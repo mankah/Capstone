{
 "cells": [
  {
   "cell_type": "code",
   "execution_count": null,
   "id": "1c92457c",
   "metadata": {},
   "outputs": [],
   "source": [
    "from sklearn.ensemble import RandomForestClassifier, GradientBoostingClassifier\n",
    "from sklearn.impute import SimpleImputer\n",
    "from sklearn.preprocessing import OneHotEncoder, StandardScaler\n",
    "from sklearn.pipeline import Pipeline\n",
    "from sklearn.compose import ColumnTransformer\n",
    "from sklearn.metrics import f1_score\n",
    "from sklearn.model_selection import GridSearchCV, cross_val_score\n",
    "\n",
    "import pandas as pd\n",
    "import numpy as np\n",
    "import warnings\n",
    "warnings.simplefilter(action='ignore', category=FutureWarning)"
   ]
  },
  {
   "cell_type": "code",
   "execution_count": null,
   "id": "4eeb2a43",
   "metadata": {},
   "outputs": [],
   "source": [
    "X_train = pd.read_csv('../data/X_train_flu.csv', index_col= 'respondent_id')\n",
    "X_test = pd.read_csv('../data/X_test_flu.csv', index_col= 'respondent_id')\n",
    "y_train = pd.read_csv('../data/y_train_flu.csv', index_col= 'respondent_id')\n",
    "y_test = pd.read_csv('../data/y_test_flu.csv', index_col= 'respondent_id')"
   ]
  },
  {
   "cell_type": "code",
   "execution_count": null,
   "id": "a951ee2c",
   "metadata": {},
   "outputs": [],
   "source": [
    "y_train = y_train['seasonal_vaccine']\n",
    "y_test = y_test['seasonal_vaccine']"
   ]
  },
  {
   "cell_type": "code",
   "execution_count": null,
   "id": "b609409b",
   "metadata": {},
   "outputs": [],
   "source": [
    "X_train.head()"
   ]
  },
  {
   "cell_type": "code",
   "execution_count": null,
   "id": "199be1f6",
   "metadata": {},
   "outputs": [],
   "source": [
    "X_train.isna().sum()"
   ]
  },
  {
   "cell_type": "code",
   "execution_count": null,
   "id": "077a4331",
   "metadata": {},
   "outputs": [],
   "source": [
    "y_train.isna().sum()"
   ]
  },
  {
   "cell_type": "code",
   "execution_count": null,
   "id": "fb98deaf",
   "metadata": {},
   "outputs": [],
   "source": [
    "X_train_cat = X_train.select_dtypes('object')\n",
    "X_train_num = X_train.select_dtypes(['float64', 'int64'])\n",
    "\n",
    "cat_pipe = Pipeline([\n",
    "    ('impute', SimpleImputer(strategy='most_frequent')),\n",
    "    ('ohe', OneHotEncoder(sparse=False, handle_unknown='ignore'))\n",
    "])\n",
    "num_pipe = Pipeline(steps=[\n",
    "    ('impute', SimpleImputer(strategy='most_frequent')),\n",
    "])\n",
    "\n",
    "transformer = ColumnTransformer([('categorical', cat_pipe, X_train_cat.columns),\n",
    "                                 ('numerical', num_pipe, X_train_num.columns)])"
   ]
  },
  {
   "cell_type": "code",
   "execution_count": null,
   "id": "db1cce65",
   "metadata": {},
   "outputs": [],
   "source": [
    "model_pipe = Pipeline(steps=[\n",
    "    ('trans', transformer),\n",
    "    ('rfc', RandomForestClassifier(verbose=1, n_jobs=-2))\n",
    "])\n",
    "\n",
    "model_pipe.fit(X_train, y_train)"
   ]
  },
  {
   "cell_type": "code",
   "execution_count": null,
   "id": "423bd5f5",
   "metadata": {},
   "outputs": [],
   "source": [
    "rfc_cv_score = cross_val_score(model_pipe, X_train, y_train, n_jobs=-1, verbose=3, scoring = 'f1')"
   ]
  },
  {
   "cell_type": "code",
   "execution_count": null,
   "id": "acb29f13",
   "metadata": {},
   "outputs": [],
   "source": [
    "rfc_cv_score.mean()"
   ]
  },
  {
   "cell_type": "markdown",
   "id": "d67c6747",
   "metadata": {},
   "source": [
    "# Random Forest Classifier"
   ]
  },
  {
   "cell_type": "code",
   "execution_count": null,
   "id": "ec762448",
   "metadata": {},
   "outputs": [],
   "source": [
    "model_pipe_2 = Pipeline(steps=[\n",
    "    ('trans', transformer),\n",
    "    ('rfc', RandomForestClassifier(verbose=1, n_jobs=-2))\n",
    "])"
   ]
  },
  {
   "cell_type": "code",
   "execution_count": null,
   "id": "5c78992b",
   "metadata": {},
   "outputs": [],
   "source": [
    "params = {\n",
    "    'rfc__max_depth': list(range(10,100,10)),\n",
    "    'rfc__criterion': ['gini', 'entropy'],\n",
    "    'rfc__n_estimators': list(range(100,250,50)),\n",
    "    'rfc__min_samples_leaf': list(range(2,10,2)),\n",
    "    'rfc__min_samples_split': list(range(2,10,2)),\n",
    "}"
   ]
  },
  {
   "cell_type": "code",
   "execution_count": null,
   "id": "b157865a",
   "metadata": {},
   "outputs": [],
   "source": [
    "gs_rfc = GridSearchCV(model_pipe_2, params, n_jobs=-1, verbose=3, cv = 3, scoring = 'f1')\n",
    "gs_rfc.fit(X_train, y_train)"
   ]
  },
  {
   "cell_type": "code",
   "execution_count": null,
   "id": "ec37f97e",
   "metadata": {},
   "outputs": [],
   "source": [
    "gs_rfc.best_params_"
   ]
  },
  {
   "cell_type": "code",
   "execution_count": null,
   "id": "e7500cdd",
   "metadata": {},
   "outputs": [],
   "source": [
    "rfc_cv_1 = cross_val_score(gs_rfc.best_estimator, X_train, y_train, n_jobs=-1, verbose=3, scoring = 'f1')"
   ]
  },
  {
   "cell_type": "code",
   "execution_count": null,
   "id": "a23ced1e",
   "metadata": {},
   "outputs": [],
   "source": [
    "rfc_cv_1.mean()"
   ]
  },
  {
   "cell_type": "markdown",
   "id": "9893b7f1",
   "metadata": {},
   "source": [
    "## Gradiant Boost Classifier"
   ]
  },
  {
   "cell_type": "code",
   "execution_count": null,
   "id": "ff9056ee",
   "metadata": {},
   "outputs": [],
   "source": [
    "model_pipe_3 = Pipeline(steps=[\n",
    "    ('trans', transformer),\n",
    "    ('gbc', GradientBoostingClassifier(verbose=3))\n",
    "])"
   ]
  },
  {
   "cell_type": "code",
   "execution_count": null,
   "id": "d52ad167",
   "metadata": {},
   "outputs": [],
   "source": [
    "model_pipe_3.get_params()"
   ]
  },
  {
   "cell_type": "code",
   "execution_count": null,
   "id": "0cc544bf",
   "metadata": {},
   "outputs": [],
   "source": [
    "params = {\n",
    "    'gbc__learning_rate': [0.001, 0.01, 0.1, .5, .9],\n",
    "    'gbc__n_estimators': list(range(100,250,50)),\n",
    "    'gbc__min_samples_leaf': list(range(2,10,2)),\n",
    "    'gbc__min_samples_split': list(range(2,10,2)),\n",
    "    'gbc__max_features': list(range(0,200,50))\n",
    "}"
   ]
  },
  {
   "cell_type": "code",
   "execution_count": null,
   "id": "717aa44a",
   "metadata": {},
   "outputs": [],
   "source": [
    "gs_gbc = GridSearchCV(model_pipe_3, params, n_jobs=-1, verbose=1, cv = 3, scoring = 'f1')\n",
    "gs_gbc.fit(X_train, y_train)"
   ]
  },
  {
   "cell_type": "code",
   "execution_count": null,
   "id": "95b8be16",
   "metadata": {},
   "outputs": [],
   "source": [
    "gs_gbc.best_params_"
   ]
  },
  {
   "cell_type": "code",
   "execution_count": null,
   "id": "5aaeb268",
   "metadata": {},
   "outputs": [],
   "source": [
    "gbc_cv_1 = cross_val_score(gs_gbc.best_estimator, X_train, y_train, n_jobs=-1, verbose=3, scoring = 'f1')"
   ]
  },
  {
   "cell_type": "code",
   "execution_count": null,
   "id": "5e0cc2b0",
   "metadata": {},
   "outputs": [],
   "source": [
    "gbc_cv_1.mean()"
   ]
  }
 ],
 "metadata": {
  "kernelspec": {
   "display_name": "Python (learn-env)",
   "language": "python",
   "name": "learn-env"
  },
  "language_info": {
   "codemirror_mode": {
    "name": "ipython",
    "version": 3
   },
   "file_extension": ".py",
   "mimetype": "text/x-python",
   "name": "python",
   "nbconvert_exporter": "python",
   "pygments_lexer": "ipython3",
   "version": "3.8.11"
  }
 },
 "nbformat": 4,
 "nbformat_minor": 5
}
