{
 "cells": [
  {
   "cell_type": "markdown",
   "id": "fd60926b",
   "metadata": {},
   "source": [
    "# TO DO:\n",
    "    * Explain everthing\n",
    "    * New Notebook with More indepth analysis for powerpoints\n",
    "    * Maybe 1 or 2 more features ~ Maybe ~"
   ]
  },
  {
   "cell_type": "code",
   "execution_count": 1,
   "id": "bb9d2a23",
   "metadata": {},
   "outputs": [],
   "source": [
    "import pandas as pd\n",
    "import matplotlib.pyplot as plt\n",
    "import matplotlib.ticker as mtick\n",
    "import numpy as np\n",
    "import seaborn as sns\n",
    "import warnings\n",
    "warnings.simplefilter(action='ignore', category=FutureWarning)\n",
    "%matplotlib inline\n",
    "plt.style.use('fivethirtyeight')"
   ]
  },
  {
   "cell_type": "code",
   "execution_count": 2,
   "id": "b02b6cc1",
   "metadata": {},
   "outputs": [],
   "source": [
    "X_train = pd.read_csv('../data/training_set_features.csv', index_col='respondent_id')\n",
    "y_train = pd.read_csv('../data/training_set_labels.csv', index_col='respondent_id')"
   ]
  },
  {
   "cell_type": "code",
   "execution_count": 3,
   "id": "47cdd743",
   "metadata": {
    "scrolled": true
   },
   "outputs": [
    {
     "name": "stdout",
     "output_type": "stream",
     "text": [
      "<class 'pandas.core.frame.DataFrame'>\n",
      "Int64Index: 26707 entries, 0 to 26706\n",
      "Data columns (total 35 columns):\n",
      " #   Column                       Non-Null Count  Dtype  \n",
      "---  ------                       --------------  -----  \n",
      " 0   h1n1_concern                 26615 non-null  float64\n",
      " 1   h1n1_knowledge               26591 non-null  float64\n",
      " 2   behavioral_antiviral_meds    26636 non-null  float64\n",
      " 3   behavioral_avoidance         26499 non-null  float64\n",
      " 4   behavioral_face_mask         26688 non-null  float64\n",
      " 5   behavioral_wash_hands        26665 non-null  float64\n",
      " 6   behavioral_large_gatherings  26620 non-null  float64\n",
      " 7   behavioral_outside_home      26625 non-null  float64\n",
      " 8   behavioral_touch_face        26579 non-null  float64\n",
      " 9   doctor_recc_h1n1             24547 non-null  float64\n",
      " 10  doctor_recc_seasonal         24547 non-null  float64\n",
      " 11  chronic_med_condition        25736 non-null  float64\n",
      " 12  child_under_6_months         25887 non-null  float64\n",
      " 13  health_worker                25903 non-null  float64\n",
      " 14  health_insurance             14433 non-null  float64\n",
      " 15  opinion_h1n1_vacc_effective  26316 non-null  float64\n",
      " 16  opinion_h1n1_risk            26319 non-null  float64\n",
      " 17  opinion_h1n1_sick_from_vacc  26312 non-null  float64\n",
      " 18  opinion_seas_vacc_effective  26245 non-null  float64\n",
      " 19  opinion_seas_risk            26193 non-null  float64\n",
      " 20  opinion_seas_sick_from_vacc  26170 non-null  float64\n",
      " 21  age_group                    26707 non-null  object \n",
      " 22  education                    25300 non-null  object \n",
      " 23  race                         26707 non-null  object \n",
      " 24  sex                          26707 non-null  object \n",
      " 25  income_poverty               22284 non-null  object \n",
      " 26  marital_status               25299 non-null  object \n",
      " 27  rent_or_own                  24665 non-null  object \n",
      " 28  employment_status            25244 non-null  object \n",
      " 29  hhs_geo_region               26707 non-null  object \n",
      " 30  census_msa                   26707 non-null  object \n",
      " 31  household_adults             26458 non-null  float64\n",
      " 32  household_children           26458 non-null  float64\n",
      " 33  employment_industry          13377 non-null  object \n",
      " 34  employment_occupation        13237 non-null  object \n",
      "dtypes: float64(23), object(12)\n",
      "memory usage: 7.3+ MB\n"
     ]
    }
   ],
   "source": [
    "X_train.info()"
   ]
  },
  {
   "cell_type": "code",
   "execution_count": 4,
   "id": "383ae0b7",
   "metadata": {
    "scrolled": true
   },
   "outputs": [
    {
     "data": {
      "text/plain": [
       "h1n1_concern                      92\n",
       "h1n1_knowledge                   116\n",
       "behavioral_antiviral_meds         71\n",
       "behavioral_avoidance             208\n",
       "behavioral_face_mask              19\n",
       "behavioral_wash_hands             42\n",
       "behavioral_large_gatherings       87\n",
       "behavioral_outside_home           82\n",
       "behavioral_touch_face            128\n",
       "doctor_recc_h1n1                2160\n",
       "doctor_recc_seasonal            2160\n",
       "chronic_med_condition            971\n",
       "child_under_6_months             820\n",
       "health_worker                    804\n",
       "health_insurance               12274\n",
       "opinion_h1n1_vacc_effective      391\n",
       "opinion_h1n1_risk                388\n",
       "opinion_h1n1_sick_from_vacc      395\n",
       "opinion_seas_vacc_effective      462\n",
       "opinion_seas_risk                514\n",
       "opinion_seas_sick_from_vacc      537\n",
       "age_group                          0\n",
       "education                       1407\n",
       "race                               0\n",
       "sex                                0\n",
       "income_poverty                  4423\n",
       "marital_status                  1408\n",
       "rent_or_own                     2042\n",
       "employment_status               1463\n",
       "hhs_geo_region                     0\n",
       "census_msa                         0\n",
       "household_adults                 249\n",
       "household_children               249\n",
       "employment_industry            13330\n",
       "employment_occupation          13470\n",
       "dtype: int64"
      ]
     },
     "execution_count": 4,
     "metadata": {},
     "output_type": "execute_result"
    }
   ],
   "source": [
    "X_train.isna().sum()"
   ]
  },
  {
   "cell_type": "markdown",
   "id": "efe4fe22",
   "metadata": {},
   "source": [
    "There should be 26,707 entries for each column. However, most columns are missing some information and a few columns are missing a significant amount of information. Will inspect those columns and determine if they should be kept or dropped outright."
   ]
  },
  {
   "cell_type": "code",
   "execution_count": 5,
   "id": "e10533aa",
   "metadata": {
    "scrolled": true
   },
   "outputs": [
    {
     "name": "stdout",
     "output_type": "stream",
     "text": [
      "<class 'pandas.core.frame.DataFrame'>\n",
      "Int64Index: 26707 entries, 0 to 26706\n",
      "Data columns (total 2 columns):\n",
      " #   Column            Non-Null Count  Dtype\n",
      "---  ------            --------------  -----\n",
      " 0   h1n1_vaccine      26707 non-null  int64\n",
      " 1   seasonal_vaccine  26707 non-null  int64\n",
      "dtypes: int64(2)\n",
      "memory usage: 625.9 KB\n"
     ]
    }
   ],
   "source": [
    "y_train.info()"
   ]
  },
  {
   "cell_type": "code",
   "execution_count": 6,
   "id": "67686934",
   "metadata": {},
   "outputs": [
    {
     "data": {
      "text/plain": [
       "0    78.754634\n",
       "1    21.245366\n",
       "Name: h1n1_vaccine, dtype: float64"
      ]
     },
     "execution_count": 6,
     "metadata": {},
     "output_type": "execute_result"
    }
   ],
   "source": [
    "y_train.h1n1_vaccine.value_counts(normalize=True)*100"
   ]
  },
  {
   "cell_type": "code",
   "execution_count": 7,
   "id": "4fb4d70a",
   "metadata": {
    "scrolled": true
   },
   "outputs": [
    {
     "data": {
      "text/plain": [
       "0    53.439173\n",
       "1    46.560827\n",
       "Name: seasonal_vaccine, dtype: float64"
      ]
     },
     "execution_count": 7,
     "metadata": {},
     "output_type": "execute_result"
    }
   ],
   "source": [
    "y_train.seasonal_vaccine.value_counts(normalize=True)*100"
   ]
  },
  {
   "cell_type": "markdown",
   "id": "fb0784c5",
   "metadata": {},
   "source": [
    "There is a significant class imbalance for the H1N1 vaccine and I will have to use SMOTE to fix that later on when building my pipelines to account for this. For seasonal flu vaccines, the classes are more balanced and there is nothing that should be done. There are no missing values in either column."
   ]
  },
  {
   "cell_type": "markdown",
   "id": "c39e3ff1",
   "metadata": {},
   "source": [
    "# EDA"
   ]
  },
  {
   "cell_type": "markdown",
   "id": "0f73a055",
   "metadata": {},
   "source": [
    "For the columns hhs_geo_region, employment_industry, and employment_occupation the values are represented in a short random string to protect information about the individual. The random character strings are representative of an actual region, industry, and occupation respectively. "
   ]
  },
  {
   "cell_type": "code",
   "execution_count": 8,
   "id": "f41dd7a9",
   "metadata": {
    "scrolled": false
   },
   "outputs": [
    {
     "data": {
      "text/html": [
       "<div>\n",
       "<style scoped>\n",
       "    .dataframe tbody tr th:only-of-type {\n",
       "        vertical-align: middle;\n",
       "    }\n",
       "\n",
       "    .dataframe tbody tr th {\n",
       "        vertical-align: top;\n",
       "    }\n",
       "\n",
       "    .dataframe thead th {\n",
       "        text-align: right;\n",
       "    }\n",
       "</style>\n",
       "<table border=\"1\" class=\"dataframe\">\n",
       "  <thead>\n",
       "    <tr style=\"text-align: right;\">\n",
       "      <th></th>\n",
       "      <th>h1n1_concern</th>\n",
       "      <th>h1n1_knowledge</th>\n",
       "      <th>behavioral_antiviral_meds</th>\n",
       "      <th>behavioral_avoidance</th>\n",
       "      <th>behavioral_face_mask</th>\n",
       "      <th>behavioral_wash_hands</th>\n",
       "      <th>behavioral_large_gatherings</th>\n",
       "      <th>behavioral_outside_home</th>\n",
       "      <th>behavioral_touch_face</th>\n",
       "      <th>doctor_recc_h1n1</th>\n",
       "      <th>...</th>\n",
       "      <th>income_poverty</th>\n",
       "      <th>marital_status</th>\n",
       "      <th>rent_or_own</th>\n",
       "      <th>employment_status</th>\n",
       "      <th>hhs_geo_region</th>\n",
       "      <th>census_msa</th>\n",
       "      <th>household_adults</th>\n",
       "      <th>household_children</th>\n",
       "      <th>employment_industry</th>\n",
       "      <th>employment_occupation</th>\n",
       "    </tr>\n",
       "    <tr>\n",
       "      <th>respondent_id</th>\n",
       "      <th></th>\n",
       "      <th></th>\n",
       "      <th></th>\n",
       "      <th></th>\n",
       "      <th></th>\n",
       "      <th></th>\n",
       "      <th></th>\n",
       "      <th></th>\n",
       "      <th></th>\n",
       "      <th></th>\n",
       "      <th></th>\n",
       "      <th></th>\n",
       "      <th></th>\n",
       "      <th></th>\n",
       "      <th></th>\n",
       "      <th></th>\n",
       "      <th></th>\n",
       "      <th></th>\n",
       "      <th></th>\n",
       "      <th></th>\n",
       "      <th></th>\n",
       "    </tr>\n",
       "  </thead>\n",
       "  <tbody>\n",
       "    <tr>\n",
       "      <th>0</th>\n",
       "      <td>1.0</td>\n",
       "      <td>0.0</td>\n",
       "      <td>0.0</td>\n",
       "      <td>0.0</td>\n",
       "      <td>0.0</td>\n",
       "      <td>0.0</td>\n",
       "      <td>0.0</td>\n",
       "      <td>1.0</td>\n",
       "      <td>1.0</td>\n",
       "      <td>0.0</td>\n",
       "      <td>...</td>\n",
       "      <td>Below Poverty</td>\n",
       "      <td>Not Married</td>\n",
       "      <td>Own</td>\n",
       "      <td>Not in Labor Force</td>\n",
       "      <td>oxchjgsf</td>\n",
       "      <td>Non-MSA</td>\n",
       "      <td>0.0</td>\n",
       "      <td>0.0</td>\n",
       "      <td>NaN</td>\n",
       "      <td>NaN</td>\n",
       "    </tr>\n",
       "    <tr>\n",
       "      <th>1</th>\n",
       "      <td>3.0</td>\n",
       "      <td>2.0</td>\n",
       "      <td>0.0</td>\n",
       "      <td>1.0</td>\n",
       "      <td>0.0</td>\n",
       "      <td>1.0</td>\n",
       "      <td>0.0</td>\n",
       "      <td>1.0</td>\n",
       "      <td>1.0</td>\n",
       "      <td>0.0</td>\n",
       "      <td>...</td>\n",
       "      <td>Below Poverty</td>\n",
       "      <td>Not Married</td>\n",
       "      <td>Rent</td>\n",
       "      <td>Employed</td>\n",
       "      <td>bhuqouqj</td>\n",
       "      <td>MSA, Not Principle  City</td>\n",
       "      <td>0.0</td>\n",
       "      <td>0.0</td>\n",
       "      <td>pxcmvdjn</td>\n",
       "      <td>xgwztkwe</td>\n",
       "    </tr>\n",
       "    <tr>\n",
       "      <th>2</th>\n",
       "      <td>1.0</td>\n",
       "      <td>1.0</td>\n",
       "      <td>0.0</td>\n",
       "      <td>1.0</td>\n",
       "      <td>0.0</td>\n",
       "      <td>0.0</td>\n",
       "      <td>0.0</td>\n",
       "      <td>0.0</td>\n",
       "      <td>0.0</td>\n",
       "      <td>NaN</td>\n",
       "      <td>...</td>\n",
       "      <td>&lt;= $75,000, Above Poverty</td>\n",
       "      <td>Not Married</td>\n",
       "      <td>Own</td>\n",
       "      <td>Employed</td>\n",
       "      <td>qufhixun</td>\n",
       "      <td>MSA, Not Principle  City</td>\n",
       "      <td>2.0</td>\n",
       "      <td>0.0</td>\n",
       "      <td>rucpziij</td>\n",
       "      <td>xtkaffoo</td>\n",
       "    </tr>\n",
       "    <tr>\n",
       "      <th>3</th>\n",
       "      <td>1.0</td>\n",
       "      <td>1.0</td>\n",
       "      <td>0.0</td>\n",
       "      <td>1.0</td>\n",
       "      <td>0.0</td>\n",
       "      <td>1.0</td>\n",
       "      <td>1.0</td>\n",
       "      <td>0.0</td>\n",
       "      <td>0.0</td>\n",
       "      <td>0.0</td>\n",
       "      <td>...</td>\n",
       "      <td>Below Poverty</td>\n",
       "      <td>Not Married</td>\n",
       "      <td>Rent</td>\n",
       "      <td>Not in Labor Force</td>\n",
       "      <td>lrircsnp</td>\n",
       "      <td>MSA, Principle City</td>\n",
       "      <td>0.0</td>\n",
       "      <td>0.0</td>\n",
       "      <td>NaN</td>\n",
       "      <td>NaN</td>\n",
       "    </tr>\n",
       "    <tr>\n",
       "      <th>4</th>\n",
       "      <td>2.0</td>\n",
       "      <td>1.0</td>\n",
       "      <td>0.0</td>\n",
       "      <td>1.0</td>\n",
       "      <td>0.0</td>\n",
       "      <td>1.0</td>\n",
       "      <td>1.0</td>\n",
       "      <td>0.0</td>\n",
       "      <td>1.0</td>\n",
       "      <td>0.0</td>\n",
       "      <td>...</td>\n",
       "      <td>&lt;= $75,000, Above Poverty</td>\n",
       "      <td>Married</td>\n",
       "      <td>Own</td>\n",
       "      <td>Employed</td>\n",
       "      <td>qufhixun</td>\n",
       "      <td>MSA, Not Principle  City</td>\n",
       "      <td>1.0</td>\n",
       "      <td>0.0</td>\n",
       "      <td>wxleyezf</td>\n",
       "      <td>emcorrxb</td>\n",
       "    </tr>\n",
       "  </tbody>\n",
       "</table>\n",
       "<p>5 rows × 35 columns</p>\n",
       "</div>"
      ],
      "text/plain": [
       "               h1n1_concern  h1n1_knowledge  behavioral_antiviral_meds  \\\n",
       "respondent_id                                                            \n",
       "0                       1.0             0.0                        0.0   \n",
       "1                       3.0             2.0                        0.0   \n",
       "2                       1.0             1.0                        0.0   \n",
       "3                       1.0             1.0                        0.0   \n",
       "4                       2.0             1.0                        0.0   \n",
       "\n",
       "               behavioral_avoidance  behavioral_face_mask  \\\n",
       "respondent_id                                               \n",
       "0                               0.0                   0.0   \n",
       "1                               1.0                   0.0   \n",
       "2                               1.0                   0.0   \n",
       "3                               1.0                   0.0   \n",
       "4                               1.0                   0.0   \n",
       "\n",
       "               behavioral_wash_hands  behavioral_large_gatherings  \\\n",
       "respondent_id                                                       \n",
       "0                                0.0                          0.0   \n",
       "1                                1.0                          0.0   \n",
       "2                                0.0                          0.0   \n",
       "3                                1.0                          1.0   \n",
       "4                                1.0                          1.0   \n",
       "\n",
       "               behavioral_outside_home  behavioral_touch_face  \\\n",
       "respondent_id                                                   \n",
       "0                                  1.0                    1.0   \n",
       "1                                  1.0                    1.0   \n",
       "2                                  0.0                    0.0   \n",
       "3                                  0.0                    0.0   \n",
       "4                                  0.0                    1.0   \n",
       "\n",
       "               doctor_recc_h1n1  ...             income_poverty  \\\n",
       "respondent_id                    ...                              \n",
       "0                           0.0  ...              Below Poverty   \n",
       "1                           0.0  ...              Below Poverty   \n",
       "2                           NaN  ...  <= $75,000, Above Poverty   \n",
       "3                           0.0  ...              Below Poverty   \n",
       "4                           0.0  ...  <= $75,000, Above Poverty   \n",
       "\n",
       "               marital_status  rent_or_own   employment_status  \\\n",
       "respondent_id                                                    \n",
       "0                 Not Married          Own  Not in Labor Force   \n",
       "1                 Not Married         Rent            Employed   \n",
       "2                 Not Married          Own            Employed   \n",
       "3                 Not Married         Rent  Not in Labor Force   \n",
       "4                     Married          Own            Employed   \n",
       "\n",
       "               hhs_geo_region                census_msa  household_adults  \\\n",
       "respondent_id                                                               \n",
       "0                    oxchjgsf                   Non-MSA               0.0   \n",
       "1                    bhuqouqj  MSA, Not Principle  City               0.0   \n",
       "2                    qufhixun  MSA, Not Principle  City               2.0   \n",
       "3                    lrircsnp       MSA, Principle City               0.0   \n",
       "4                    qufhixun  MSA, Not Principle  City               1.0   \n",
       "\n",
       "               household_children  employment_industry  employment_occupation  \n",
       "respondent_id                                                                  \n",
       "0                             0.0                  NaN                    NaN  \n",
       "1                             0.0             pxcmvdjn               xgwztkwe  \n",
       "2                             0.0             rucpziij               xtkaffoo  \n",
       "3                             0.0                  NaN                    NaN  \n",
       "4                             0.0             wxleyezf               emcorrxb  \n",
       "\n",
       "[5 rows x 35 columns]"
      ]
     },
     "execution_count": 8,
     "metadata": {},
     "output_type": "execute_result"
    }
   ],
   "source": [
    "X_train.head()"
   ]
  },
  {
   "cell_type": "code",
   "execution_count": 9,
   "id": "850c0bb0",
   "metadata": {},
   "outputs": [],
   "source": [
    "df = X_train.merge(y_train, on = 'respondent_id')"
   ]
  },
  {
   "cell_type": "code",
   "execution_count": 10,
   "id": "d75bd7c2",
   "metadata": {
    "scrolled": true
   },
   "outputs": [
    {
     "data": {
      "text/html": [
       "<div>\n",
       "<style scoped>\n",
       "    .dataframe tbody tr th:only-of-type {\n",
       "        vertical-align: middle;\n",
       "    }\n",
       "\n",
       "    .dataframe tbody tr th {\n",
       "        vertical-align: top;\n",
       "    }\n",
       "\n",
       "    .dataframe thead th {\n",
       "        text-align: right;\n",
       "    }\n",
       "</style>\n",
       "<table border=\"1\" class=\"dataframe\">\n",
       "  <thead>\n",
       "    <tr style=\"text-align: right;\">\n",
       "      <th></th>\n",
       "      <th>h1n1_concern</th>\n",
       "      <th>h1n1_knowledge</th>\n",
       "      <th>behavioral_antiviral_meds</th>\n",
       "      <th>behavioral_avoidance</th>\n",
       "      <th>behavioral_face_mask</th>\n",
       "      <th>behavioral_wash_hands</th>\n",
       "      <th>behavioral_large_gatherings</th>\n",
       "      <th>behavioral_outside_home</th>\n",
       "      <th>behavioral_touch_face</th>\n",
       "      <th>doctor_recc_h1n1</th>\n",
       "      <th>...</th>\n",
       "      <th>rent_or_own</th>\n",
       "      <th>employment_status</th>\n",
       "      <th>hhs_geo_region</th>\n",
       "      <th>census_msa</th>\n",
       "      <th>household_adults</th>\n",
       "      <th>household_children</th>\n",
       "      <th>employment_industry</th>\n",
       "      <th>employment_occupation</th>\n",
       "      <th>h1n1_vaccine</th>\n",
       "      <th>seasonal_vaccine</th>\n",
       "    </tr>\n",
       "    <tr>\n",
       "      <th>respondent_id</th>\n",
       "      <th></th>\n",
       "      <th></th>\n",
       "      <th></th>\n",
       "      <th></th>\n",
       "      <th></th>\n",
       "      <th></th>\n",
       "      <th></th>\n",
       "      <th></th>\n",
       "      <th></th>\n",
       "      <th></th>\n",
       "      <th></th>\n",
       "      <th></th>\n",
       "      <th></th>\n",
       "      <th></th>\n",
       "      <th></th>\n",
       "      <th></th>\n",
       "      <th></th>\n",
       "      <th></th>\n",
       "      <th></th>\n",
       "      <th></th>\n",
       "      <th></th>\n",
       "    </tr>\n",
       "  </thead>\n",
       "  <tbody>\n",
       "    <tr>\n",
       "      <th>0</th>\n",
       "      <td>1.0</td>\n",
       "      <td>0.0</td>\n",
       "      <td>0.0</td>\n",
       "      <td>0.0</td>\n",
       "      <td>0.0</td>\n",
       "      <td>0.0</td>\n",
       "      <td>0.0</td>\n",
       "      <td>1.0</td>\n",
       "      <td>1.0</td>\n",
       "      <td>0.0</td>\n",
       "      <td>...</td>\n",
       "      <td>Own</td>\n",
       "      <td>Not in Labor Force</td>\n",
       "      <td>oxchjgsf</td>\n",
       "      <td>Non-MSA</td>\n",
       "      <td>0.0</td>\n",
       "      <td>0.0</td>\n",
       "      <td>NaN</td>\n",
       "      <td>NaN</td>\n",
       "      <td>0</td>\n",
       "      <td>0</td>\n",
       "    </tr>\n",
       "    <tr>\n",
       "      <th>1</th>\n",
       "      <td>3.0</td>\n",
       "      <td>2.0</td>\n",
       "      <td>0.0</td>\n",
       "      <td>1.0</td>\n",
       "      <td>0.0</td>\n",
       "      <td>1.0</td>\n",
       "      <td>0.0</td>\n",
       "      <td>1.0</td>\n",
       "      <td>1.0</td>\n",
       "      <td>0.0</td>\n",
       "      <td>...</td>\n",
       "      <td>Rent</td>\n",
       "      <td>Employed</td>\n",
       "      <td>bhuqouqj</td>\n",
       "      <td>MSA, Not Principle  City</td>\n",
       "      <td>0.0</td>\n",
       "      <td>0.0</td>\n",
       "      <td>pxcmvdjn</td>\n",
       "      <td>xgwztkwe</td>\n",
       "      <td>0</td>\n",
       "      <td>1</td>\n",
       "    </tr>\n",
       "    <tr>\n",
       "      <th>2</th>\n",
       "      <td>1.0</td>\n",
       "      <td>1.0</td>\n",
       "      <td>0.0</td>\n",
       "      <td>1.0</td>\n",
       "      <td>0.0</td>\n",
       "      <td>0.0</td>\n",
       "      <td>0.0</td>\n",
       "      <td>0.0</td>\n",
       "      <td>0.0</td>\n",
       "      <td>NaN</td>\n",
       "      <td>...</td>\n",
       "      <td>Own</td>\n",
       "      <td>Employed</td>\n",
       "      <td>qufhixun</td>\n",
       "      <td>MSA, Not Principle  City</td>\n",
       "      <td>2.0</td>\n",
       "      <td>0.0</td>\n",
       "      <td>rucpziij</td>\n",
       "      <td>xtkaffoo</td>\n",
       "      <td>0</td>\n",
       "      <td>0</td>\n",
       "    </tr>\n",
       "    <tr>\n",
       "      <th>3</th>\n",
       "      <td>1.0</td>\n",
       "      <td>1.0</td>\n",
       "      <td>0.0</td>\n",
       "      <td>1.0</td>\n",
       "      <td>0.0</td>\n",
       "      <td>1.0</td>\n",
       "      <td>1.0</td>\n",
       "      <td>0.0</td>\n",
       "      <td>0.0</td>\n",
       "      <td>0.0</td>\n",
       "      <td>...</td>\n",
       "      <td>Rent</td>\n",
       "      <td>Not in Labor Force</td>\n",
       "      <td>lrircsnp</td>\n",
       "      <td>MSA, Principle City</td>\n",
       "      <td>0.0</td>\n",
       "      <td>0.0</td>\n",
       "      <td>NaN</td>\n",
       "      <td>NaN</td>\n",
       "      <td>0</td>\n",
       "      <td>1</td>\n",
       "    </tr>\n",
       "    <tr>\n",
       "      <th>4</th>\n",
       "      <td>2.0</td>\n",
       "      <td>1.0</td>\n",
       "      <td>0.0</td>\n",
       "      <td>1.0</td>\n",
       "      <td>0.0</td>\n",
       "      <td>1.0</td>\n",
       "      <td>1.0</td>\n",
       "      <td>0.0</td>\n",
       "      <td>1.0</td>\n",
       "      <td>0.0</td>\n",
       "      <td>...</td>\n",
       "      <td>Own</td>\n",
       "      <td>Employed</td>\n",
       "      <td>qufhixun</td>\n",
       "      <td>MSA, Not Principle  City</td>\n",
       "      <td>1.0</td>\n",
       "      <td>0.0</td>\n",
       "      <td>wxleyezf</td>\n",
       "      <td>emcorrxb</td>\n",
       "      <td>0</td>\n",
       "      <td>0</td>\n",
       "    </tr>\n",
       "  </tbody>\n",
       "</table>\n",
       "<p>5 rows × 37 columns</p>\n",
       "</div>"
      ],
      "text/plain": [
       "               h1n1_concern  h1n1_knowledge  behavioral_antiviral_meds  \\\n",
       "respondent_id                                                            \n",
       "0                       1.0             0.0                        0.0   \n",
       "1                       3.0             2.0                        0.0   \n",
       "2                       1.0             1.0                        0.0   \n",
       "3                       1.0             1.0                        0.0   \n",
       "4                       2.0             1.0                        0.0   \n",
       "\n",
       "               behavioral_avoidance  behavioral_face_mask  \\\n",
       "respondent_id                                               \n",
       "0                               0.0                   0.0   \n",
       "1                               1.0                   0.0   \n",
       "2                               1.0                   0.0   \n",
       "3                               1.0                   0.0   \n",
       "4                               1.0                   0.0   \n",
       "\n",
       "               behavioral_wash_hands  behavioral_large_gatherings  \\\n",
       "respondent_id                                                       \n",
       "0                                0.0                          0.0   \n",
       "1                                1.0                          0.0   \n",
       "2                                0.0                          0.0   \n",
       "3                                1.0                          1.0   \n",
       "4                                1.0                          1.0   \n",
       "\n",
       "               behavioral_outside_home  behavioral_touch_face  \\\n",
       "respondent_id                                                   \n",
       "0                                  1.0                    1.0   \n",
       "1                                  1.0                    1.0   \n",
       "2                                  0.0                    0.0   \n",
       "3                                  0.0                    0.0   \n",
       "4                                  0.0                    1.0   \n",
       "\n",
       "               doctor_recc_h1n1  ...  rent_or_own   employment_status  \\\n",
       "respondent_id                    ...                                    \n",
       "0                           0.0  ...          Own  Not in Labor Force   \n",
       "1                           0.0  ...         Rent            Employed   \n",
       "2                           NaN  ...          Own            Employed   \n",
       "3                           0.0  ...         Rent  Not in Labor Force   \n",
       "4                           0.0  ...          Own            Employed   \n",
       "\n",
       "               hhs_geo_region                census_msa  household_adults  \\\n",
       "respondent_id                                                               \n",
       "0                    oxchjgsf                   Non-MSA               0.0   \n",
       "1                    bhuqouqj  MSA, Not Principle  City               0.0   \n",
       "2                    qufhixun  MSA, Not Principle  City               2.0   \n",
       "3                    lrircsnp       MSA, Principle City               0.0   \n",
       "4                    qufhixun  MSA, Not Principle  City               1.0   \n",
       "\n",
       "               household_children  employment_industry  employment_occupation  \\\n",
       "respondent_id                                                                   \n",
       "0                             0.0                  NaN                    NaN   \n",
       "1                             0.0             pxcmvdjn               xgwztkwe   \n",
       "2                             0.0             rucpziij               xtkaffoo   \n",
       "3                             0.0                  NaN                    NaN   \n",
       "4                             0.0             wxleyezf               emcorrxb   \n",
       "\n",
       "               h1n1_vaccine  seasonal_vaccine  \n",
       "respondent_id                                  \n",
       "0                         0                 0  \n",
       "1                         0                 1  \n",
       "2                         0                 0  \n",
       "3                         0                 1  \n",
       "4                         0                 0  \n",
       "\n",
       "[5 rows x 37 columns]"
      ]
     },
     "execution_count": 10,
     "metadata": {},
     "output_type": "execute_result"
    }
   ],
   "source": [
    "df.head()"
   ]
  },
  {
   "cell_type": "markdown",
   "id": "a2a6f273",
   "metadata": {},
   "source": [
    "## Looking at individual attitudes towards the H1N1 virus and the H1N1 vaccine"
   ]
  },
  {
   "cell_type": "code",
   "execution_count": 11,
   "id": "18a2133e",
   "metadata": {
    "scrolled": false
   },
   "outputs": [
    {
     "data": {
      "image/png": "[encoded data removed]",
      "text/plain": [
       "<Figure size 1080x360 with 1 Axes>"
      ]
     },
     "metadata": {},
     "output_type": "display_data"
    }
   ],
   "source": [
    "fig, ax = plt.subplots(figsize=(15, 5))\n",
    "\n",
    "sns.countplot(df.h1n1_concern)\n",
    "plt.title('H1N1 Concern')\n",
    "plt.ylabel('Number of people')\n",
    "plt.xlabel('Level of Concern')\n",
    "ax.set_xticklabels(['Not Concerned at All', 'Not Very Concerned',\n",
    "                    'Somewhat Concerned', 'Very Concerned']);"
   ]
  },
  {
   "cell_type": "code",
   "execution_count": 12,
   "id": "c6d69814",
   "metadata": {},
   "outputs": [
    {
     "data": {
      "image/png": "[encoded data removed]",
      "text/plain": [
       "<Figure size 1080x360 with 1 Axes>"
      ]
     },
     "metadata": {},
     "output_type": "display_data"
    }
   ],
   "source": [
    "fig, ax = plt.subplots(figsize=(15, 5))\n",
    "\n",
    "sns.countplot(df.h1n1_knowledge)\n",
    "plt.title('H1N1 Knowledge')\n",
    "plt.ylabel('Number of people')\n",
    "plt.xlabel('Level of knowledge')\n",
    "ax.set_xticklabels(\n",
    "    ['No Knowledge', 'A little Knowledge', 'A lot of Knowledge']);"
   ]
  },
  {
   "cell_type": "code",
   "execution_count": 13,
   "id": "55e42fe3",
   "metadata": {
    "scrolled": false
   },
   "outputs": [
    {
     "data": {
      "image/png": "[encoded data removed]",
      "text/plain": [
       "<Figure size 1080x360 with 1 Axes>"
      ]
     },
     "metadata": {},
     "output_type": "display_data"
    }
   ],
   "source": [
    "fig, ax = plt.subplots(figsize=(15, 5))\n",
    "\n",
    "sns.countplot(df.opinion_h1n1_vacc_effective)\n",
    "plt.title('H1N1 Vaccince Effectiveness')\n",
    "plt.ylabel('Number of people')\n",
    "plt.xlabel('Vaccine Effectivness')\n",
    "ax.set_xticklabels(['Not at all Effective', 'Not very Effective',\n",
    "                    'Don\\'t know', 'Somewhat Effective', 'Very Effective']);"
   ]
  },
  {
   "cell_type": "markdown",
   "id": "51a28504",
   "metadata": {},
   "source": [
    "Looking at the level of concern that individuals have we can see that most people are at least somewhat concerned or very concerned. Though, there are a substantial group of people who are either not very concerned or not concerned at all about the H1N1 virus. When looking at the level of knowledge of the H1N1 virus we see that a majority of people have at least some knowledge with quite a few people having a lot of knowledge about the virus. Finally, looking at individual's responses about the effectiveness of the H1N1 vaccine we see that most individuals fall between believing that the vaccine is either somewhat effective or very effective. From looking the people's opinions we can see that most people have some knowledge about the virus, however, there is not a large majority of people who are concerned about the H1H1 virus. We do see that most people do believe that the vaccine is somewhat effective. Next, we will look at the concern of the H1N1 virus by race to see if there is a distinction between the different races."
   ]
  },
  {
   "cell_type": "markdown",
   "id": "6df2a48b",
   "metadata": {},
   "source": [
    "## Looking at H1N1 Concern by Race"
   ]
  },
  {
   "cell_type": "code",
   "execution_count": 14,
   "id": "93e06c19",
   "metadata": {
    "scrolled": true
   },
   "outputs": [
    {
     "data": {
      "text/plain": [
       "White                21222\n",
       "Black                 2118\n",
       "Hispanic              1755\n",
       "Other or Multiple     1612\n",
       "Name: race, dtype: int64"
      ]
     },
     "execution_count": 14,
     "metadata": {},
     "output_type": "execute_result"
    }
   ],
   "source": [
    "df.race.value_counts()"
   ]
  },
  {
   "cell_type": "code",
   "execution_count": 15,
   "id": "ce2a6297",
   "metadata": {
    "scrolled": true
   },
   "outputs": [
    {
     "data": {
      "text/plain": [
       "0.0    12.681382\n",
       "1.0    32.688945\n",
       "2.0    40.440516\n",
       "3.0    14.189157\n",
       "Name: h1n1_concern, dtype: float64"
      ]
     },
     "execution_count": 15,
     "metadata": {},
     "output_type": "execute_result"
    }
   ],
   "source": [
    "white = df[df.race == 'White']\n",
    "white_concern = white.h1n1_concern.value_counts(normalize = True).sort_index()\n",
    "white_concern*100"
   ]
  },
  {
   "cell_type": "code",
   "execution_count": 16,
   "id": "51c4e528",
   "metadata": {},
   "outputs": [
    {
     "data": {
      "text/plain": [
       "0.0    10.493827\n",
       "1.0    18.850902\n",
       "2.0    37.559354\n",
       "3.0    33.095916\n",
       "Name: h1n1_concern, dtype: float64"
      ]
     },
     "execution_count": 16,
     "metadata": {},
     "output_type": "execute_result"
    }
   ],
   "source": [
    "black = df[df.race == 'Black']\n",
    "black_concern = black.h1n1_concern.value_counts(normalize = True).sort_index()\n",
    "black_concern*100"
   ]
  },
  {
   "cell_type": "code",
   "execution_count": 17,
   "id": "58af7127",
   "metadata": {},
   "outputs": [
    {
     "data": {
      "text/plain": [
       "0.0    10.755149\n",
       "1.0    24.713959\n",
       "2.0    34.668192\n",
       "3.0    29.862700\n",
       "Name: h1n1_concern, dtype: float64"
      ]
     },
     "execution_count": 17,
     "metadata": {},
     "output_type": "execute_result"
    }
   ],
   "source": [
    "hispanic = df[df.race == 'Hispanic']\n",
    "hispanic_concern = hispanic.h1n1_concern.value_counts(normalize = True).sort_index()\n",
    "hispanic_concern*100"
   ]
  },
  {
   "cell_type": "code",
   "execution_count": 18,
   "id": "f9d62fa5",
   "metadata": {},
   "outputs": [
    {
     "data": {
      "text/plain": [
       "0.0    12.718204\n",
       "1.0    25.436409\n",
       "2.0    38.778055\n",
       "3.0    23.067332\n",
       "Name: h1n1_concern, dtype: float64"
      ]
     },
     "execution_count": 18,
     "metadata": {},
     "output_type": "execute_result"
    }
   ],
   "source": [
    "other_multiple = df[df.race == 'Other or Multiple']\n",
    "other_multiple_concern = other_multiple.h1n1_concern.value_counts(normalize = True).sort_index()\n",
    "other_multiple_concern*100"
   ]
  },
  {
   "cell_type": "code",
   "execution_count": 19,
   "id": "269c355c",
   "metadata": {},
   "outputs": [
    {
     "ename": "NameError",
     "evalue": "name 'no_vaccine' is not defined",
     "output_type": "error",
     "traceback": [
      "\u001b[1;31m---------------------------------------------------------------------------\u001b[0m",
      "\u001b[1;31mNameError\u001b[0m                                 Traceback (most recent call last)",
      "\u001b[1;32mC:\\Users\\MANAVK~1\\AppData\\Local\\Temp/ipykernel_28644/2919635088.py\u001b[0m in \u001b[0;36m<module>\u001b[1;34m\u001b[0m\n\u001b[0;32m     13\u001b[0m \u001b[0mplt\u001b[0m\u001b[1;33m.\u001b[0m\u001b[0mlegend\u001b[0m\u001b[1;33m(\u001b[0m\u001b[1;33m)\u001b[0m\u001b[1;33m\u001b[0m\u001b[1;33m\u001b[0m\u001b[0m\n\u001b[0;32m     14\u001b[0m \u001b[0max\u001b[0m\u001b[1;33m.\u001b[0m\u001b[0myaxis\u001b[0m\u001b[1;33m.\u001b[0m\u001b[0mset_major_formatter\u001b[0m\u001b[1;33m(\u001b[0m\u001b[0mmtick\u001b[0m\u001b[1;33m.\u001b[0m\u001b[0mPercentFormatter\u001b[0m\u001b[1;33m(\u001b[0m\u001b[1;36m1.0\u001b[0m\u001b[1;33m)\u001b[0m\u001b[1;33m)\u001b[0m\u001b[1;33m\u001b[0m\u001b[1;33m\u001b[0m\u001b[0m\n\u001b[1;32m---> 15\u001b[1;33m \u001b[0mplt\u001b[0m\u001b[1;33m.\u001b[0m\u001b[0mxticks\u001b[0m\u001b[1;33m(\u001b[0m\u001b[0mticks\u001b[0m\u001b[1;33m=\u001b[0m\u001b[0mno_vaccine\u001b[0m\u001b[1;33m.\u001b[0m\u001b[0mindex\u001b[0m \u001b[1;33m+\u001b[0m \u001b[0mwidth\u001b[0m\u001b[1;33m+\u001b[0m\u001b[1;36m.10\u001b[0m\u001b[1;33m,\u001b[0m \u001b[0mlabels\u001b[0m\u001b[1;33m=\u001b[0m\u001b[0mx\u001b[0m\u001b[1;33m)\u001b[0m\u001b[1;33m;\u001b[0m\u001b[1;33m\u001b[0m\u001b[1;33m\u001b[0m\u001b[0m\n\u001b[0m",
      "\u001b[1;31mNameError\u001b[0m: name 'no_vaccine' is not defined"
     ]
    },
    {
     "data": {
      "image/png": "[encoded data removed]",
      "text/plain": [
       "<Figure size 1080x360 with 1 Axes>"
      ]
     },
     "metadata": {},
     "output_type": "display_data"
    }
   ],
   "source": [
    "fig, ax = plt.subplots(figsize=(15, 5))\n",
    "\n",
    "x = ['Not Concerned at All', 'Not Very Concerned',\n",
    "     'Somewhat Concerned', 'Very Concerned']\n",
    "width = 0.15\n",
    "plt.bar(white_concern.index, white_concern.values, width= width, label = 'White')\n",
    "plt.bar(black_concern.index + width, black_concern.values, width=width, label = 'Black')\n",
    "plt.bar(hispanic_concern.index + width*2, hispanic_concern.values, width=width, label = 'Hispanic')\n",
    "plt.bar(other_multiple_concern.index + width*3, other_multiple_concern.values, width=width, label = 'Other')\n",
    "plt.title('Did Recieve the H1N1 Vaccine')\n",
    "plt.ylabel('Percent of People')\n",
    "plt.xlabel('Level of Concern')\n",
    "plt.legend()\n",
    "ax.yaxis.set_major_formatter(mtick.PercentFormatter(1.0))\n",
    "plt.xticks(ticks=whitete_concern.index + width+.10, labels=x);"
   ]
  },
  {
   "cell_type": "markdown",
   "id": "5efba12a",
   "metadata": {},
   "source": [
    "When looking at a breakdown of the different races we see that across all of them most people were at least somewhat concerned about the H1N1 virus. Where the differences come out is the next largest level of concern. For People who identify as white, there were a large number of people who are not very concerned about the virus, with not concerned at all, and were very concerned far behind both of the other values. For Black individuals there most people were somewhat concerned followed closely behind with people who were very concerned about this virus. People who were not very or not at all concerned being far behind the other two. When looking at the responses of Hispanic individuals we see that most people are at least somewhat concerned, but that there is also a large number of people who are not very concerned and very concerned. Finally, when looking at other races/multiple races we see that again most people are somewhat concerned, but there are slightly more people who are not very concerned than very concerned. "
   ]
  },
  {
   "cell_type": "markdown",
   "id": "f84382ac",
   "metadata": {},
   "source": [
    "## Looking at the level of H1N1 concern and Vaccination status"
   ]
  },
  {
   "cell_type": "code",
   "execution_count": null,
   "id": "62cac028",
   "metadata": {},
   "outputs": [],
   "source": [
    "df.h1n1_vaccine.value_counts(normalize=True)"
   ]
  },
  {
   "cell_type": "code",
   "execution_count": null,
   "id": "bb2293e0",
   "metadata": {},
   "outputs": [],
   "source": [
    "no_h1n1 = df[df.h1n1_vaccine == 0]\n",
    "level_concern_no_h1n1 = no_h1n1.h1n1_concern\n",
    "no_vaccine = level_concern_no_h1n1.value_counts(normalize=True).sort_index()\n",
    "no_vaccine*100"
   ]
  },
  {
   "cell_type": "code",
   "execution_count": null,
   "id": "89475cd3",
   "metadata": {},
   "outputs": [],
   "source": [
    "yes_h1h1 = df[df.h1n1_vaccine == 1]\n",
    "level_concern_yes_h1h1 = yes_h1h1.h1n1_concern\n",
    "yes_vaccine = level_concern_yes_h1h1.value_counts(normalize=True).sort_index()\n",
    "yes_vaccine*100"
   ]
  },
  {
   "cell_type": "code",
   "execution_count": null,
   "id": "e21157c3",
   "metadata": {
    "scrolled": false
   },
   "outputs": [],
   "source": [
    "fig, ax = plt.subplots(figsize=(15, 5))\n",
    "\n",
    "x = ['Not Concerned at All', 'Not Very Concerned',\n",
    "     'Somewhat Concerned', 'Very Concerned']\n",
    "width = 0.25\n",
    "plt.bar(yes_vaccine.index, yes_vaccine.values, width= width, label = 'Vaccinated')\n",
    "plt.bar(no_vaccine.index + width, no_vaccine.values, width=width, label = 'Not Vaccinated')\n",
    "plt.title('Did Recieve the H1N1 Vaccine')\n",
    "plt.ylabel('Percent of People')\n",
    "plt.xlabel('Level of Concern')\n",
    "plt.legend()\n",
    "ax.yaxis.set_major_formatter(mtick.PercentFormatter(1.0))\n",
    "plt.xticks(ticks=no_vaccine.index + width-.10, labels=x);"
   ]
  },
  {
   "cell_type": "markdown",
   "id": "9ff8fb26",
   "metadata": {},
   "source": [
    "When comparing the vaccination status for H1N1 and the level of concern we find there is a difference between the level of concern of those who did receive the vaccine and those who did not. Looking at those individuals who had did not receive the H1N1 vaccine we see that $13.59%$ had no concern, $32.23%$ had very little concern, $38.66%$ were somewhat concerned and only $15.51%$ were very concerned. Comparing that to those people who did receive the vaccine we see that their rate of concern was $7.90%$, $24.69%$, $43.71%$, and $23.70%$ respectively for each group. For people who received the vaccine, their rate of not being concerned at all was $5.69%$ lower than those who did not receive the vaccine. This makes sense intuitively since people who are not concerned about an illness are less likely to take precautions to prevent or lower their chances of getting severely sick because of that illness. For people who received the vaccine, their rate of not very concerned was $7.54%$ lower than those who did not receive the vaccine. Again, people who are not concerned about an illness are less likely to take a vaccine that will help to prevent serious illness or death against that very illness. Those two groups provide no surprise to the difference between those individuals who were vaccinated and those who were not. Now, if we look at the two groups of people who were at least somewhat concerned we should expect the difference in group sizes to be larger than those who were not vaccinated. Looking first at people who were somewhat concerned we see that this group is $5.05%$ larger than the same group in non-vaccinated people. Finally looking at the difference for people who are very concerned we see that the difference is $8.19%$, the largest of all the groups between vaccinated and non vaccinated people."
   ]
  },
  {
   "cell_type": "markdown",
   "id": "55307d4a",
   "metadata": {},
   "source": [
    "### Breakdown by Race"
   ]
  },
  {
   "cell_type": "code",
   "execution_count": null,
   "id": "a5d8f076",
   "metadata": {},
   "outputs": [],
   "source": [
    "df.race.value_counts(normalize=True)*100"
   ]
  },
  {
   "cell_type": "markdown",
   "id": "5307b4a2",
   "metadata": {},
   "source": [
    "#### White Individuals"
   ]
  },
  {
   "cell_type": "markdown",
   "id": "6c23293b",
   "metadata": {},
   "source": [
    "##### No Vaccine"
   ]
  },
  {
   "cell_type": "code",
   "execution_count": null,
   "id": "249fa34b",
   "metadata": {},
   "outputs": [],
   "source": [
    "white_no_vaccine = white[white.h1n1_vaccine == 0]\n",
    "white_no_vaccine_concern = white_no_vaccine.h1n1_concern\n",
    "no_vaccine_white = white_no_vaccine_concern.value_counts(\n",
    "    normalize=True).sort_index()\n",
    "no_vaccine_white*100"
   ]
  },
  {
   "cell_type": "markdown",
   "id": "c058258b",
   "metadata": {},
   "source": [
    "##### Yes Vaccine"
   ]
  },
  {
   "cell_type": "code",
   "execution_count": null,
   "id": "065c63ae",
   "metadata": {},
   "outputs": [],
   "source": [
    "white_yes_vaccine = white[white.h1n1_vaccine == 1]\n",
    "white_yes_vaccine_concern = white_yes_vaccine.h1n1_concern\n",
    "yes_vaccine_white = white_yes_vaccine_concern.value_counts(\n",
    "    normalize=True).sort_index()\n",
    "yes_vaccine_white*100"
   ]
  },
  {
   "cell_type": "code",
   "execution_count": null,
   "id": "9345e371",
   "metadata": {},
   "outputs": [],
   "source": [
    "fig, ax = plt.subplots(figsize=(15, 5))\n",
    "\n",
    "x = ['Not Concerned at All', 'Not Very Concerned',\n",
    "     'Somewhat Concerned', 'Very Concerned']\n",
    "width = 0.25\n",
    "plt.bar(yes_vaccine_white.index, yes_vaccine_white.values, width, label = 'Vaccinated')\n",
    "plt.bar(no_vaccine_white.index + width, no_vaccine_white.values, width, label = 'Not Vaccinated')\n",
    "plt.title('White Individuals and Vaccine Status')\n",
    "plt.ylabel('Percent of People')\n",
    "plt.xlabel('Level of Concern')\n",
    "plt.legend()\n",
    "ax.yaxis.set_major_formatter(mtick.PercentFormatter(1.0))\n",
    "plt.xticks(ticks=no_vaccine.index + width/2, labels=x);"
   ]
  },
  {
   "cell_type": "markdown",
   "id": "c744c141",
   "metadata": {},
   "source": [
    "Write Stuff here..."
   ]
  },
  {
   "cell_type": "markdown",
   "id": "93d52a4b",
   "metadata": {},
   "source": [
    "#### Black Individuals"
   ]
  },
  {
   "cell_type": "markdown",
   "id": "ed848964",
   "metadata": {},
   "source": [
    "##### No Vaccine"
   ]
  },
  {
   "cell_type": "code",
   "execution_count": null,
   "id": "15a52ced",
   "metadata": {},
   "outputs": [],
   "source": [
    "black_no_vaccine = black[black.h1n1_vaccine == 0]\n",
    "black_no_vaccine_concern = black_no_vaccine.h1n1_concern\n",
    "black_no_vaccine = black_no_vaccine_concern.value_counts(\n",
    "    normalize=True).sort_index()\n",
    "black_no_vaccine*100"
   ]
  },
  {
   "cell_type": "markdown",
   "id": "7b202331",
   "metadata": {},
   "source": [
    "##### Yes Vaccine"
   ]
  },
  {
   "cell_type": "code",
   "execution_count": null,
   "id": "2df9783e",
   "metadata": {},
   "outputs": [],
   "source": [
    "black_yes_vaccine = black[black.h1n1_vaccine == 1]\n",
    "black_yes_vaccine_concern = black_yes_vaccine.h1n1_concern\n",
    "black_yes_vaccine = black_yes_vaccine_concern.value_counts(\n",
    "    normalize=True).sort_index()\n",
    "black_yes_vaccine*100"
   ]
  },
  {
   "cell_type": "code",
   "execution_count": null,
   "id": "9d20c58f",
   "metadata": {
    "scrolled": false
   },
   "outputs": [],
   "source": [
    "fig, ax = plt.subplots(figsize=(15, 5))\n",
    "\n",
    "x = ['Not Concerned at All', 'Not Very Concerned',\n",
    "     'Somewhat Concerned', 'Very Concerned']\n",
    "width = 0.25\n",
    "plt.bar(black_yes_vaccine.index, black_yes_vaccine.values, width, label = 'Vaccinated')\n",
    "plt.bar(black_no_vaccine.index + 0.25, black_no_vaccine.values, width, label = 'Not Vaccinated')\n",
    "plt.title('Black Individuals Who Did Recieve The Vaccine')\n",
    "plt.ylabel('Percent of People')\n",
    "plt.xlabel('Level of Concern')\n",
    "plt.legend()\n",
    "ax.yaxis.set_major_formatter(mtick.PercentFormatter(1.0))\n",
    "plt.xticks(ticks=no_vaccine.index + width/2, labels=x);"
   ]
  },
  {
   "cell_type": "markdown",
   "id": "9fd0db8b",
   "metadata": {},
   "source": [
    "Write stuff here..."
   ]
  },
  {
   "cell_type": "markdown",
   "id": "25a40e7e",
   "metadata": {},
   "source": [
    "#### Hispanic Individuals"
   ]
  },
  {
   "cell_type": "markdown",
   "id": "2510101a",
   "metadata": {},
   "source": [
    "##### No vaccine"
   ]
  },
  {
   "cell_type": "code",
   "execution_count": null,
   "id": "82f2bed2",
   "metadata": {},
   "outputs": [],
   "source": [
    "hispanic_no_vaccine = hispanic[hispanic.h1n1_vaccine == 0]\n",
    "hispanic_no_vaccine_concern = hispanic_no_vaccine.h1n1_concern\n",
    "hispanic_no_vaccine = hispanic_no_vaccine_concern.value_counts(\n",
    "    normalize=True).sort_index()\n",
    "hispanic_no_vaccine*100"
   ]
  },
  {
   "cell_type": "markdown",
   "id": "47590fbc",
   "metadata": {},
   "source": [
    "##### Yes Vaccine"
   ]
  },
  {
   "cell_type": "code",
   "execution_count": null,
   "id": "14c1371f",
   "metadata": {},
   "outputs": [],
   "source": [
    "hispanic_yes_vaccine = hispanic[hispanic.h1n1_vaccine == 1]\n",
    "hispanic_yes_vaccine_concern = hispanic_yes_vaccine.h1n1_concern\n",
    "hispanic_yes_vaccine = hispanic_yes_vaccine_concern.value_counts(\n",
    "    normalize=True).sort_index()\n",
    "hispanic_yes_vaccine*100"
   ]
  },
  {
   "cell_type": "code",
   "execution_count": null,
   "id": "5c31c28f",
   "metadata": {
    "scrolled": false
   },
   "outputs": [],
   "source": [
    "fig, ax = plt.subplots(figsize=(15, 5))\n",
    "\n",
    "x = ['Not Concerned at All', 'Not Very Concerned',\n",
    "     'Somewhat Concerned', 'Very Concerned']\n",
    "width = 0.25\n",
    "plt.bar(hispanic_yes_vaccine.index, hispanic_yes_vaccine.values, width, label = 'Vaccinated')\n",
    "plt.bar(hispanic_no_vaccine.index + width, hispanic_no_vaccine.values, width, label = 'Not Vaccinated')\n",
    "plt.title('Hispanic Individuals Who Did Recieve The Vaccine')\n",
    "plt.ylabel('Percent of People')\n",
    "plt.xlabel('Level of Concern')\n",
    "plt.legend()\n",
    "ax.yaxis.set_major_formatter(mtick.PercentFormatter(1.0))\n",
    "plt.xticks(ticks=no_vaccine.index + width/2, labels=x);"
   ]
  },
  {
   "cell_type": "markdown",
   "id": "74f8a351",
   "metadata": {},
   "source": [
    "Write stuff here...\n"
   ]
  },
  {
   "cell_type": "markdown",
   "id": "34f2995b",
   "metadata": {},
   "source": [
    "#### Other / Multiple Race Individuals"
   ]
  },
  {
   "cell_type": "code",
   "execution_count": null,
   "id": "705ca122",
   "metadata": {},
   "outputs": [],
   "source": [
    "other_multiple_no_vaccine = other_multiple[other_multiple.h1n1_vaccine == 0]\n",
    "other_multiple_no_vaccine_concern = other_multiple_no_vaccine.h1n1_concern\n",
    "other_multiple_no_vaccine = other_multiple_no_vaccine_concern.value_counts(\n",
    "    normalize=True).sort_index()\n",
    "other_multiple_no_vaccine*100"
   ]
  },
  {
   "cell_type": "code",
   "execution_count": null,
   "id": "5654daae",
   "metadata": {},
   "outputs": [],
   "source": [
    "other_multiple_yes_vaccine = other_multiple[other_multiple.h1n1_vaccine == 1]\n",
    "other_multiple_yes_vaccine_concern = other_multiple_yes_vaccine.h1n1_concern\n",
    "other_multiple_yes_vaccine = other_multiple_yes_vaccine_concern.value_counts(\n",
    "    normalize=True).sort_index()\n",
    "other_multiple_yes_vaccine*100"
   ]
  },
  {
   "cell_type": "code",
   "execution_count": null,
   "id": "6fcc074b",
   "metadata": {},
   "outputs": [],
   "source": [
    "fig, ax = plt.subplots(figsize=(15, 5))\n",
    "\n",
    "x = ['Not Concerned at All', 'Not Very Concerned',\n",
    "     'Somewhat Concerned', 'Very Concerned']\n",
    "width = 0.25\n",
    "plt.bar(other_multiple_yes_vaccine.index, other_multiple_yes_vaccine.values, width, label = 'Vaccinated')\n",
    "plt.bar(other_multiple_no_vaccine.index + width, other_multiple_no_vaccine.values, width, label = 'Not Vaccinated')\n",
    "plt.title('Other/Multipe Race Individuals Who Did Recieve The Vaccine')\n",
    "plt.ylabel('Percent of People')\n",
    "plt.xlabel('Level of Concern')\n",
    "plt.legend(loc = 'best')\n",
    "ax.yaxis.set_major_formatter(mtick.PercentFormatter(1.0))\n",
    "plt.xticks(ticks=no_vaccine.index + width / 2, labels=x);"
   ]
  },
  {
   "cell_type": "markdown",
   "id": "2217cc86",
   "metadata": {},
   "source": [
    "Write Stuff here..."
   ]
  },
  {
   "cell_type": "markdown",
   "id": "557344dd",
   "metadata": {},
   "source": [
    "# Age and H1N1 Vaccine Status"
   ]
  },
  {
   "cell_type": "code",
   "execution_count": null,
   "id": "1c289b90",
   "metadata": {
    "scrolled": false
   },
   "outputs": [],
   "source": [
    "df.age_group.value_counts(normalize=True).sort_index()*100"
   ]
  },
  {
   "cell_type": "markdown",
   "id": "2bfa6c55",
   "metadata": {},
   "source": [
    "## Ages 18-34 Years"
   ]
  },
  {
   "cell_type": "markdown",
   "id": "7f240a15",
   "metadata": {},
   "source": [
    "### No Vaccine"
   ]
  },
  {
   "cell_type": "code",
   "execution_count": null,
   "id": "9591c4b0",
   "metadata": {},
   "outputs": [],
   "source": [
    "under_34 = df[df.age_group == '18 - 34 Years']\n",
    "under_34_no = under_34[under_34.h1n1_vaccine == 0]\n",
    "under_34_no_concern = under_34_no.h1n1_concern.value_counts(normalize = True).sort_index()\n",
    "under_34_no_concern*100"
   ]
  },
  {
   "cell_type": "markdown",
   "id": "61babe06",
   "metadata": {},
   "source": [
    "### Yes Vaccine"
   ]
  },
  {
   "cell_type": "code",
   "execution_count": null,
   "id": "1481e208",
   "metadata": {},
   "outputs": [],
   "source": [
    "under_34 = df[df.age_group == '18 - 34 Years']\n",
    "under_34_yes = under_34[under_34.h1n1_vaccine == 1]\n",
    "under_34_yes_concern = under_34_yes.h1n1_concern.value_counts(normalize = True).sort_index()\n",
    "under_34_yes_concern*100"
   ]
  },
  {
   "cell_type": "code",
   "execution_count": null,
   "id": "069b0ed5",
   "metadata": {},
   "outputs": [],
   "source": [
    "fig, ax = plt.subplots(figsize=(15, 5))\n",
    "\n",
    "x = ['Not Concerned at All', 'Not Very Concerned',\n",
    "     'Somewhat Concerned', 'Very Concerned']\n",
    "width = 0.25\n",
    "plt.bar(under_34_yes_concern.index, under_34_yes_concern.values, width, label = 'Vaccinated')\n",
    "plt.bar(under_34_no_concern.index + width, under_34_no_concern.values, width, label = 'Not Vaccinated')\n",
    "plt.title('People age 18-34 Who Did Recieve The Vaccine')\n",
    "plt.ylabel('Percent of People')\n",
    "plt.xlabel('Level of Concern')\n",
    "plt.legend()\n",
    "ax.yaxis.set_major_formatter(mtick.PercentFormatter(1.0))\n",
    "plt.xticks(ticks=no_vaccine.index + width/2, labels=x);"
   ]
  },
  {
   "cell_type": "markdown",
   "id": "a78b72b2",
   "metadata": {},
   "source": [
    "### Ages 35 - 44 Years"
   ]
  },
  {
   "cell_type": "markdown",
   "id": "d76d588c",
   "metadata": {},
   "source": [
    "### No Vaccine"
   ]
  },
  {
   "cell_type": "code",
   "execution_count": null,
   "id": "f5d4e641",
   "metadata": {},
   "outputs": [],
   "source": [
    "under_44 = df[df.age_group == '35 - 44 Years']\n",
    "under_44_no = under_44[under_44.h1n1_vaccine == 0]\n",
    "under_44_no_concern = under_44_no.h1n1_concern.value_counts(normalize = True).sort_index()\n",
    "under_44_no_concern*100"
   ]
  },
  {
   "cell_type": "markdown",
   "id": "30f49b14",
   "metadata": {},
   "source": [
    "### Yes Vaccine"
   ]
  },
  {
   "cell_type": "code",
   "execution_count": null,
   "id": "8cbbbc38",
   "metadata": {},
   "outputs": [],
   "source": [
    "under_44 = df[df.age_group == '35 - 44 Years']\n",
    "under_44_yes = under_44[under_44.h1n1_vaccine == 1]\n",
    "under_44_yes_concern = under_44_yes.h1n1_concern.value_counts(normalize = True).sort_index()\n",
    "under_44_yes_concern*100"
   ]
  },
  {
   "cell_type": "code",
   "execution_count": null,
   "id": "9f141a45",
   "metadata": {},
   "outputs": [],
   "source": [
    "fig, ax = plt.subplots(figsize=(15, 5))\n",
    "\n",
    "x = ['Not Concerned at All', 'Not Very Concerned',\n",
    "     'Somewhat Concerned', 'Very Concerned']\n",
    "width = 0.25\n",
    "plt.bar(under_44_yes_concern.index, under_44_yes_concern.values, width, label = 'Vaccinated')\n",
    "plt.bar(under_44_no_concern.index + width, under_44_no_concern.values, width, label = 'Not Vaccinated')\n",
    "plt.title('People age 35 - 44 Who Did Recieve The Vaccine')\n",
    "plt.ylabel('Percent of People')\n",
    "plt.xlabel('Level of Concern')\n",
    "plt.legend()\n",
    "ax.yaxis.set_major_formatter(mtick.PercentFormatter(1.0))\n",
    "plt.xticks(ticks=no_vaccine.index + width/2, labels=x);"
   ]
  },
  {
   "cell_type": "markdown",
   "id": "487a7d52",
   "metadata": {},
   "source": [
    "### Ages 45 - 54 Years"
   ]
  },
  {
   "cell_type": "markdown",
   "id": "4597da86",
   "metadata": {},
   "source": [
    "#### No Vaccine"
   ]
  },
  {
   "cell_type": "code",
   "execution_count": null,
   "id": "576f1756",
   "metadata": {},
   "outputs": [],
   "source": [
    "under_54 = df[df.age_group == '45 - 54 Years']\n",
    "under_54_no = under_54[under_54.h1n1_vaccine == 0]\n",
    "under_54_no_concern = under_54_no.h1n1_concern.value_counts(normalize = True).sort_index()\n",
    "under_54_no_concern*100"
   ]
  },
  {
   "cell_type": "markdown",
   "id": "74556966",
   "metadata": {},
   "source": [
    "#### Yes Vaccine"
   ]
  },
  {
   "cell_type": "code",
   "execution_count": null,
   "id": "50f6afdb",
   "metadata": {},
   "outputs": [],
   "source": [
    "under_54 = df[df.age_group == '45 - 54 Years']\n",
    "under_54_yes = under_54[under_54.h1n1_vaccine == 1]\n",
    "under_54_yes_concern = under_54_yes.h1n1_concern.value_counts(normalize = True).sort_index()\n",
    "under_54_yes_concern*100"
   ]
  },
  {
   "cell_type": "code",
   "execution_count": null,
   "id": "44aba94b",
   "metadata": {},
   "outputs": [],
   "source": [
    "fig, ax = plt.subplots(figsize=(15, 5))\n",
    "\n",
    "x = ['Not Concerned at All', 'Not Very Concerned',\n",
    "     'Somewhat Concerned', 'Very Concerned']\n",
    "width = 0.25\n",
    "plt.bar(under_54_yes_concern.index, under_54_yes_concern.values, width, label = 'Vaccinated')\n",
    "plt.bar(under_54_no_concern.index + width, under_54_no_concern.values, width, label = 'Not Vaccinated')\n",
    "plt.title('People age 45 - 54 Who Did Recieve The Vaccine')\n",
    "plt.ylabel('Percent of People')\n",
    "plt.xlabel('Level of Concern')\n",
    "plt.legend()\n",
    "ax.yaxis.set_major_formatter(mtick.PercentFormatter(1.0))\n",
    "plt.xticks(ticks=no_vaccine.index + width/2, labels=x);"
   ]
  },
  {
   "cell_type": "markdown",
   "id": "2724830d",
   "metadata": {},
   "source": [
    "### Ages 55 - 64 Years"
   ]
  },
  {
   "cell_type": "markdown",
   "id": "789382b5",
   "metadata": {},
   "source": [
    "#### No Vaccine"
   ]
  },
  {
   "cell_type": "code",
   "execution_count": null,
   "id": "17062b73",
   "metadata": {},
   "outputs": [],
   "source": [
    "under_64 = df[df.age_group == '55 - 64 Years']\n",
    "under_64_no = under_64[under_64.h1n1_vaccine == 0]\n",
    "under_64_no_concern = under_64_no.h1n1_concern.value_counts(normalize = True).sort_index()\n",
    "under_64_no_concern*100"
   ]
  },
  {
   "cell_type": "code",
   "execution_count": null,
   "id": "8e3fc867",
   "metadata": {},
   "outputs": [],
   "source": [
    "under_64 = df[df.age_group == '55 - 64 Years']\n",
    "under_64_yes = under_64[under_64.h1n1_vaccine == 1]\n",
    "under_64_yes_concern = under_64_yes.h1n1_concern.value_counts(normalize = True).sort_index()\n",
    "under_64_yes_concern*100"
   ]
  },
  {
   "cell_type": "code",
   "execution_count": null,
   "id": "ae189a34",
   "metadata": {},
   "outputs": [],
   "source": [
    "fig, ax = plt.subplots(figsize=(15, 5))\n",
    "\n",
    "x = ['Not Concerned at All', 'Not Very Concerned',\n",
    "     'Somewhat Concerned', 'Very Concerned']\n",
    "width = 0.25\n",
    "plt.bar(under_64_yes_concern.index, under_64_yes_concern.values, width, label = 'Vaccinated')\n",
    "plt.bar(under_64_no_concern.index + width, under_64_no_concern.values, width, label = 'Not Vaccinated')\n",
    "plt.title('People age 55 - 64 Who Did Recieve The Vaccine')\n",
    "plt.ylabel('Percent of People')\n",
    "plt.xlabel('Level of Concern')\n",
    "plt.legend()\n",
    "ax.yaxis.set_major_formatter(mtick.PercentFormatter(1.0))\n",
    "plt.xticks(ticks=no_vaccine.index + width/2, labels=x);"
   ]
  },
  {
   "cell_type": "markdown",
   "id": "6dedb70a",
   "metadata": {},
   "source": [
    "### Ages 65+ Years"
   ]
  },
  {
   "cell_type": "markdown",
   "id": "72ff5432",
   "metadata": {},
   "source": [
    "#### No Vaccine"
   ]
  },
  {
   "cell_type": "code",
   "execution_count": null,
   "id": "5a044927",
   "metadata": {},
   "outputs": [],
   "source": [
    "over_65 = df[df.age_group == '65+ Years']\n",
    "over_65_no = over_65[over_65.h1n1_vaccine == 0]\n",
    "over_65_no_concern = over_65_no.h1n1_concern.value_counts(normalize = True).sort_index()\n",
    "over_65_no_concern*100"
   ]
  },
  {
   "cell_type": "markdown",
   "id": "adc17cee",
   "metadata": {},
   "source": [
    "#### Yes Vaccine"
   ]
  },
  {
   "cell_type": "code",
   "execution_count": null,
   "id": "0965ae35",
   "metadata": {},
   "outputs": [],
   "source": [
    "over_65 = df[df.age_group == '65+ Years']\n",
    "over_65_yes = over_65[over_65.h1n1_vaccine == 1]\n",
    "over_65_yes_concern = over_65_yes.h1n1_concern.value_counts(normalize = True).sort_index()\n",
    "over_65_yes_concern*100"
   ]
  },
  {
   "cell_type": "code",
   "execution_count": null,
   "id": "4b45bb06",
   "metadata": {},
   "outputs": [],
   "source": [
    "fig, ax = plt.subplots(figsize=(15, 5))\n",
    "\n",
    "x = ['Not Concerned at All', 'Not Very Concerned',\n",
    "     'Somewhat Concerned', 'Very Concerned']\n",
    "width = 0.25\n",
    "plt.bar(over_65_yes_concern.index, over_65_yes_concern.values, width, label = 'Vaccinated')\n",
    "plt.bar(over_65_no_concern.index + 0.25, over_65_no_concern.values, width, label = 'Not Vaccinated')\n",
    "plt.title('People age 65+ Who Did Recieve The Vaccine')\n",
    "plt.ylabel('Percent of People')\n",
    "plt.xlabel('Level of Concern')\n",
    "plt.legend()\n",
    "ax.yaxis.set_major_formatter(mtick.PercentFormatter(1.0))\n",
    "plt.xticks(ticks=no_vaccine.index + width/2, labels=x);"
   ]
  },
  {
   "cell_type": "markdown",
   "id": "a4dfd58c",
   "metadata": {},
   "source": [
    "# Education and H1H1 Vaccination Status"
   ]
  },
  {
   "cell_type": "code",
   "execution_count": null,
   "id": "2a800771",
   "metadata": {},
   "outputs": [],
   "source": [
    "df.education.value_counts(normalize=True)*100"
   ]
  },
  {
   "cell_type": "markdown",
   "id": "932bd814",
   "metadata": {},
   "source": [
    "## < 12 Years of Education"
   ]
  },
  {
   "cell_type": "markdown",
   "id": "3ac8af8e",
   "metadata": {},
   "source": [
    "### No Vaccine"
   ]
  },
  {
   "cell_type": "code",
   "execution_count": null,
   "id": "f89ce1da",
   "metadata": {},
   "outputs": [],
   "source": [
    "no_highschool = df[df.education == '< 12 Years']\n",
    "no_highschool_no_vac = no_highschool[no_highschool.h1n1_vaccine == 0]\n",
    "no_highschool_no_vac_concern = no_highschool_no_vac.h1n1_concern.value_counts(normalize = True).sort_index()\n",
    "no_highschool_no_vac_concern*100"
   ]
  },
  {
   "cell_type": "markdown",
   "id": "b3dd9fe5",
   "metadata": {},
   "source": [
    "### Yes Vaccine"
   ]
  },
  {
   "cell_type": "code",
   "execution_count": null,
   "id": "3600bd30",
   "metadata": {},
   "outputs": [],
   "source": [
    "yes_highschool = df[df.education == '< 12 Years']\n",
    "yes_highschool_yes_vac = yes_highschool[yes_highschool.h1n1_vaccine == 1]\n",
    "yes_highschool_yes_vac_concern = yes_highschool_yes_vac.h1n1_concern.value_counts(normalize = True).sort_index()\n",
    "yes_highschool_yes_vac_concern*100"
   ]
  },
  {
   "cell_type": "code",
   "execution_count": null,
   "id": "52424c92",
   "metadata": {},
   "outputs": [],
   "source": [
    "fig, ax = plt.subplots(figsize=(15, 5))\n",
    "\n",
    "x = ['Not Concerned at All', 'Not Very Concerned',\n",
    "     'Somewhat Concerned', 'Very Concerned']\n",
    "width = 0.25\n",
    "plt.bar(yes_highschool_yes_vac_concern.index, yes_highschool_yes_vac_concern.values, width, label = 'Vaccinated')\n",
    "plt.bar(no_highschool_no_vac_concern.index + width, no_highschool_no_vac_concern.values, width, label = 'Not Vaccinated')\n",
    "plt.title('People with less than a Highschool Education Who Did Not Recieve The Vaccine')\n",
    "plt.ylabel('Percent of People')\n",
    "plt.xlabel('Level of Concern')\n",
    "plt.legend()\n",
    "ax.yaxis.set_major_formatter(mtick.PercentFormatter(1.0))\n",
    "plt.xticks(ticks=no_vaccine.index + width/2, labels=x);"
   ]
  },
  {
   "cell_type": "markdown",
   "id": "33b7162b",
   "metadata": {},
   "source": [
    "## 12 Years Education"
   ]
  },
  {
   "cell_type": "markdown",
   "id": "2108b8ba",
   "metadata": {},
   "source": [
    "### No Vaccine"
   ]
  },
  {
   "cell_type": "code",
   "execution_count": null,
   "id": "bc1f8252",
   "metadata": {},
   "outputs": [],
   "source": [
    "highschool = df[df.education == '12 Years']\n",
    "highschool_no_vac = highschool[highschool.h1n1_vaccine == 0]\n",
    "highschool_no_vac_concern = highschool_no_vac.h1n1_concern.value_counts(normalize = True).sort_index()\n",
    "highschool_no_vac_concern*100"
   ]
  },
  {
   "cell_type": "markdown",
   "id": "9b3f2abf",
   "metadata": {},
   "source": [
    "### Yes Vaccine"
   ]
  },
  {
   "cell_type": "code",
   "execution_count": null,
   "id": "8e7d5d2f",
   "metadata": {},
   "outputs": [],
   "source": [
    "highschool = df[df.education == '12 Years']\n",
    "highschool_yes_vac = highschool[highschool.h1n1_vaccine == 1]\n",
    "highschool_yes_vac_concern = highschool_yes_vac.h1n1_concern.value_counts(normalize = True).sort_index()\n",
    "highschool_yes_vac_concern*100"
   ]
  },
  {
   "cell_type": "code",
   "execution_count": null,
   "id": "bb72b54d",
   "metadata": {},
   "outputs": [],
   "source": [
    "fig, ax = plt.subplots(figsize=(15, 5))\n",
    "\n",
    "x = ['Not Concerned at All', 'Not Very Concerned',\n",
    "     'Somewhat Concerned', 'Very Concerned']\n",
    "width = 0.25\n",
    "plt.bar(highschool_yes_vac_concern.index, highschool_yes_vac_concern.values, width, label = 'Vaccinated')\n",
    "plt.bar(highschool_no_vac_concern.index + width, highschool_no_vac_concern.values, width, label = 'Not Vaccinated')\n",
    "plt.title('People with a Highschool Education Who Did Recieve The Vaccine')\n",
    "plt.ylabel('Percent of People')\n",
    "plt.xlabel('Level of Concern')\n",
    "plt.legend()\n",
    "ax.yaxis.set_major_formatter(mtick.PercentFormatter(1.0))\n",
    "plt.xticks(ticks=no_vaccine.index + width/2, labels=x);"
   ]
  },
  {
   "cell_type": "markdown",
   "id": "8f97a8f0",
   "metadata": {},
   "source": [
    "## Some College"
   ]
  },
  {
   "cell_type": "markdown",
   "id": "4179d7a9",
   "metadata": {},
   "source": [
    "### No Vaccine"
   ]
  },
  {
   "cell_type": "code",
   "execution_count": null,
   "id": "52c370b3",
   "metadata": {},
   "outputs": [],
   "source": [
    "some_college = df[df.education == 'Some College']\n",
    "some_college_no_vac = some_college[some_college.h1n1_vaccine == 0]\n",
    "some_college_no_vac_concern = some_college_no_vac.h1n1_concern.value_counts(normalize = True).sort_index()\n",
    "some_college_no_vac_concern*100"
   ]
  },
  {
   "cell_type": "markdown",
   "id": "1d8be32b",
   "metadata": {},
   "source": [
    "### Yes Vaccine"
   ]
  },
  {
   "cell_type": "code",
   "execution_count": null,
   "id": "7a32835c",
   "metadata": {},
   "outputs": [],
   "source": [
    "some_college = df[df.education == 'Some College']\n",
    "some_college_yes_vac = some_college[some_college.h1n1_vaccine == 1]\n",
    "some_college_yes_vac_concern = some_college_yes_vac.h1n1_concern.value_counts(normalize = True).sort_index()\n",
    "some_college_yes_vac_concern*100"
   ]
  },
  {
   "cell_type": "code",
   "execution_count": null,
   "id": "7bfc308d",
   "metadata": {},
   "outputs": [],
   "source": [
    "fig, ax = plt.subplots(figsize=(15, 5))\n",
    "\n",
    "x = ['Not Concerned at All', 'Not Very Concerned',\n",
    "     'Somewhat Concerned', 'Very Concerned']\n",
    "width = 0.25\n",
    "plt.bar(some_college_yes_vac_concern.index, some_college_yes_vac_concern.values, width, label = 'Vaccinated')\n",
    "plt.bar(some_college_no_vac_concern.index + width, some_college_no_vac_concern.values, width, label = 'Not Vaccinated')\n",
    "plt.title('People with Some College Education Who Did Recieve The Vaccine')\n",
    "plt.ylabel('Percent of People')\n",
    "plt.xlabel('Level of Concern')\n",
    "plt.legend()\n",
    "ax.yaxis.set_major_formatter(mtick.PercentFormatter(1.0))\n",
    "plt.xticks(ticks=no_vaccine.index + width/2, labels=x);"
   ]
  },
  {
   "cell_type": "markdown",
   "id": "6d11fc28",
   "metadata": {},
   "source": [
    "## College Graduate"
   ]
  },
  {
   "cell_type": "markdown",
   "id": "8abef5f4",
   "metadata": {},
   "source": [
    "### No Vaccine"
   ]
  },
  {
   "cell_type": "code",
   "execution_count": null,
   "id": "ba48878f",
   "metadata": {},
   "outputs": [],
   "source": [
    "college_graduate = df[df.education == 'College Graduate']\n",
    "college_graduate_no_vac = college_graduate[college_graduate.h1n1_vaccine == 0]\n",
    "college_graduate_no_vac_concern = college_graduate_no_vac.h1n1_concern.value_counts(normalize = True).sort_index()\n",
    "college_graduate_no_vac_concern*100"
   ]
  },
  {
   "cell_type": "markdown",
   "id": "b2963c53",
   "metadata": {},
   "source": [
    "### Yes Vaccine"
   ]
  },
  {
   "cell_type": "code",
   "execution_count": null,
   "id": "c53bd1c5",
   "metadata": {},
   "outputs": [],
   "source": [
    "college_graduate = df[df.education == 'College Graduate']\n",
    "college_graduate_yes_vac = college_graduate[college_graduate.h1n1_vaccine == 1]\n",
    "college_graduate_yes_vac_concern = college_graduate_yes_vac.h1n1_concern.value_counts(normalize = True).sort_index()\n",
    "college_graduate_yes_vac_concern*100"
   ]
  },
  {
   "cell_type": "code",
   "execution_count": null,
   "id": "b4f2bfe3",
   "metadata": {
    "scrolled": true
   },
   "outputs": [],
   "source": [
    "fig, ax = plt.subplots(figsize=(15, 5))\n",
    "\n",
    "x = ['Not Concerned at All', 'Not Very Concerned',\n",
    "     'Somewhat Concerned', 'Very Concerned']\n",
    "width = 0.25\n",
    "plt.bar(college_graduate_yes_vac_concern.index, college_graduate_yes_vac_concern.values, width, label = 'Vaccinated')\n",
    "plt.bar(college_graduate_no_vac_concern.index + width, college_graduate_no_vac_concern.values, width, label = 'Not Vaccinated')\n",
    "plt.title('People with a College Degree Who Did Recieve The Vaccine')\n",
    "plt.ylabel('Percent of People')\n",
    "plt.xlabel('Level of Concern')\n",
    "plt.legend()\n",
    "ax.yaxis.set_major_formatter(mtick.PercentFormatter(1.0))\n",
    "plt.xticks(ticks=no_vaccine.index + width/2, labels=x);"
   ]
  },
  {
   "cell_type": "markdown",
   "id": "9267634c",
   "metadata": {},
   "source": [
    "# Sex and H1N1 Status"
   ]
  },
  {
   "cell_type": "code",
   "execution_count": null,
   "id": "d5f68baf",
   "metadata": {
    "scrolled": true
   },
   "outputs": [],
   "source": [
    "df.sex.value_counts()"
   ]
  },
  {
   "cell_type": "markdown",
   "id": "9eb6b3c5",
   "metadata": {},
   "source": [
    "## Females"
   ]
  },
  {
   "cell_type": "code",
   "execution_count": null,
   "id": "4c4edb74",
   "metadata": {},
   "outputs": [],
   "source": [
    "female = df[df.sex == 'Female']\n",
    "female_no_vac = female[female.h1n1_vaccine == 0]\n",
    "female_no_vac_concern = female_no_vac.h1n1_concern.value_counts(normalize = True).sort_index()\n",
    "female_no_vac_concern*100"
   ]
  },
  {
   "cell_type": "code",
   "execution_count": null,
   "id": "c314065c",
   "metadata": {},
   "outputs": [],
   "source": [
    "female = df[df.sex == 'Female']\n",
    "female_yes_vac = female[female.h1n1_vaccine == 1]\n",
    "female_yes_vac_concern = female_yes_vac.h1n1_concern.value_counts(normalize = True).sort_index()\n",
    "female_yes_vac_concern*100"
   ]
  },
  {
   "cell_type": "code",
   "execution_count": null,
   "id": "b90cedc3",
   "metadata": {
    "scrolled": false
   },
   "outputs": [],
   "source": [
    "fig, ax = plt.subplots(figsize=(15, 5))\n",
    "\n",
    "x = ['Not Concerned at All', 'Not Very Concerned',\n",
    "     'Somewhat Concerned', 'Very Concerned']\n",
    "width = 0.25\n",
    "plt.bar(female_yes_vac_concern.index, female_yes_vac_concern.values, width, label = 'Vaccinated')\n",
    "plt.bar(female_no_vac_concern.index + 0.25, female_no_vac_concern.values, width, label = 'Not Vaccinated')\n",
    "plt.title('Women Who Did Recieve The Vaccine')\n",
    "plt.ylabel('Percent of Women')\n",
    "plt.xlabel('Level of Concern')\n",
    "plt.legend()\n",
    "ax.yaxis.set_major_formatter(mtick.PercentFormatter(1.0))\n",
    "plt.xticks(ticks=no_vaccine.index + width/2, labels=x);"
   ]
  },
  {
   "cell_type": "markdown",
   "id": "f8274543",
   "metadata": {},
   "source": [
    "## Males"
   ]
  },
  {
   "cell_type": "code",
   "execution_count": null,
   "id": "5d3ab162",
   "metadata": {},
   "outputs": [],
   "source": [
    "male = df[df.sex == 'Male']\n",
    "male_no_vac = male[male.h1n1_vaccine == 0]\n",
    "male_no_vac_concern = male_no_vac.h1n1_concern.value_counts(normalize = True).sort_index()\n",
    "male_no_vac_concern*100"
   ]
  },
  {
   "cell_type": "code",
   "execution_count": null,
   "id": "55e4e3a9",
   "metadata": {},
   "outputs": [],
   "source": [
    "male = df[df.sex == 'Male']\n",
    "male_yes_vac = male[male.h1n1_vaccine == 1]\n",
    "male_yes_vac_concern = male_yes_vac.h1n1_concern.value_counts(normalize = True).sort_index()\n",
    "male_yes_vac_concern*100"
   ]
  },
  {
   "cell_type": "code",
   "execution_count": null,
   "id": "1e5716b0",
   "metadata": {},
   "outputs": [],
   "source": [
    "fig, ax = plt.subplots(figsize=(15, 5))\n",
    "\n",
    "x = ['Not Concerned at All', 'Not Very Concerned',\n",
    "     'Somewhat Concerned', 'Very Concerned']\n",
    "width = 0.25\n",
    "plt.bar(male_yes_vac_concern.index, male_yes_vac_concern.values, width, label = 'Vaccinated')\n",
    "plt.bar(male_no_vac_concern.index + width, male_no_vac_concern.values, width, label = 'Vaccinated')\n",
    "plt.title('Men Who Did Recieve The Vaccine')\n",
    "plt.ylabel('Percent of Men')\n",
    "plt.xlabel('Level of Concern')\n",
    "plt.legend()\n",
    "ax.yaxis.set_major_formatter(mtick.PercentFormatter(1.0))\n",
    "plt.xticks(ticks=no_vaccine.index + width/2, labels=x);"
   ]
  },
  {
   "cell_type": "markdown",
   "id": "54bce205",
   "metadata": {},
   "source": [
    "# Matrital Status and H1N1 Status"
   ]
  },
  {
   "cell_type": "code",
   "execution_count": null,
   "id": "335e5c25",
   "metadata": {
    "scrolled": true
   },
   "outputs": [],
   "source": [
    "df.marital_status.value_counts(normalize=True)*100"
   ]
  },
  {
   "cell_type": "markdown",
   "id": "d0125ba4",
   "metadata": {},
   "source": [
    "## Married"
   ]
  },
  {
   "cell_type": "code",
   "execution_count": null,
   "id": "9ba19908",
   "metadata": {},
   "outputs": [],
   "source": [
    "married = df[df.marital_status == 'Married']\n",
    "married_no_vac = married[married.h1n1_vaccine == 0]\n",
    "married_no_vac_concern = married_no_vac.h1n1_concern.value_counts(normalize = True).sort_index()\n",
    "married_no_vac_concern*100"
   ]
  },
  {
   "cell_type": "code",
   "execution_count": null,
   "id": "65d64675",
   "metadata": {},
   "outputs": [],
   "source": [
    "married = df[df.marital_status == 'Married']\n",
    "married_yes_vac = married[married.h1n1_vaccine == 1]\n",
    "married_yes_vac_concern = married_yes_vac.h1n1_concern.value_counts(normalize = True).sort_index()\n",
    "married_yes_vac_concern*100"
   ]
  },
  {
   "cell_type": "code",
   "execution_count": null,
   "id": "103eaef9",
   "metadata": {
    "scrolled": true
   },
   "outputs": [],
   "source": [
    "fig, ax = plt.subplots(figsize=(15, 5))\n",
    "\n",
    "x = ['Not Concerned at All', 'Not Very Concerned',\n",
    "     'Somewhat Concerned', 'Very Concerned']\n",
    "width = 0.25\n",
    "plt.bar(married_yes_vac_concern.index, married_yes_vac_concern.values, width, label = 'Vaccinated')\n",
    "plt.bar(married_no_vac_concern.index + width, married_no_vac_concern.values, width, label = 'Not Vaccinated')\n",
    "plt.title('Married Individuals Who Did Recieve The Vaccine')\n",
    "plt.ylabel('Percent of Individuals')\n",
    "plt.xlabel('Level of Concern')\n",
    "plt.legend()\n",
    "ax.yaxis.set_major_formatter(mtick.PercentFormatter(1.0))\n",
    "plt.xticks(ticks=no_vaccine.index + width/2, labels=x);"
   ]
  },
  {
   "cell_type": "markdown",
   "id": "b1fbdefa",
   "metadata": {},
   "source": [
    "## Not Married"
   ]
  },
  {
   "cell_type": "code",
   "execution_count": null,
   "id": "c3bf3630",
   "metadata": {},
   "outputs": [],
   "source": [
    "not_married = df[df.marital_status == 'Not Married']\n",
    "not_married_no_vac = not_married[not_married.h1n1_vaccine == 0]\n",
    "not_married_no_vac_concern = not_married_no_vac.h1n1_concern.value_counts(normalize = True).sort_index()\n",
    "not_married_no_vac_concern*100"
   ]
  },
  {
   "cell_type": "code",
   "execution_count": null,
   "id": "b6db631a",
   "metadata": {},
   "outputs": [],
   "source": [
    "not_married = df[df.marital_status == 'Not Married']\n",
    "not_married_yes_vac = not_married[not_married.h1n1_vaccine == 1]\n",
    "not_married_yes_vac_concern = not_married_yes_vac.h1n1_concern.value_counts(normalize = True).sort_index()\n",
    "not_married_yes_vac_concern*100"
   ]
  },
  {
   "cell_type": "code",
   "execution_count": null,
   "id": "1f89387a",
   "metadata": {},
   "outputs": [],
   "source": [
    "fig, ax = plt.subplots(figsize=(15, 5))\n",
    "\n",
    "x = ['Not Concerned at All', 'Not Very Concerned',\n",
    "     'Somewhat Concerned', 'Very Concerned']\n",
    "width = 0.25\n",
    "plt.bar(not_married_yes_vac_concern.index, not_married_yes_vac_concern.values, width, label = 'Vaccinated')\n",
    "plt.bar(not_married_no_vac_concern.index + 0.25, not_married_no_vac_concern.values, width, label = 'Not Vaccinated')\n",
    "plt.title('None Married Individuals Who Did Not Recieve The Vaccine')\n",
    "plt.ylabel('Percent of Individuals')\n",
    "plt.xlabel('Level of Concern')\n",
    "plt.legend()\n",
    "ax.yaxis.set_major_formatter(mtick.PercentFormatter(1.0))\n",
    "plt.xticks(ticks=no_vaccine.index + width/2, labels=x);"
   ]
  },
  {
   "cell_type": "markdown",
   "id": "874a497f",
   "metadata": {},
   "source": [
    "# Chronic Medical Condition and H1N1 Status"
   ]
  },
  {
   "cell_type": "code",
   "execution_count": null,
   "id": "935a2fba",
   "metadata": {
    "scrolled": true
   },
   "outputs": [],
   "source": [
    "df.chronic_med_condition.value_counts(normalize=True)*100"
   ]
  },
  {
   "cell_type": "markdown",
   "id": "8d125ad6",
   "metadata": {},
   "source": [
    "## No Chronic Medical Condition"
   ]
  },
  {
   "cell_type": "code",
   "execution_count": null,
   "id": "051b3f35",
   "metadata": {},
   "outputs": [],
   "source": [
    "no_condition = df[df.chronic_med_condition == 0]\n",
    "no_condition_no_vac = no_condition[no_condition.h1n1_vaccine == 0]\n",
    "no_condition_no_vac_concern = no_condition_no_vac.h1n1_concern.value_counts(normalize = True).sort_index()\n",
    "no_condition_no_vac_concern*100"
   ]
  },
  {
   "cell_type": "code",
   "execution_count": null,
   "id": "534858a3",
   "metadata": {},
   "outputs": [],
   "source": [
    "no_condition = df[df.chronic_med_condition == 1]\n",
    "no_condition_yes_vac = no_condition[no_condition.h1n1_vaccine == 1]\n",
    "no_condition_yes_vac_concern = no_condition_yes_vac.h1n1_concern.value_counts(normalize = True).sort_index()\n",
    "no_condition_yes_vac_concern*100"
   ]
  },
  {
   "cell_type": "code",
   "execution_count": null,
   "id": "7ceecf67",
   "metadata": {},
   "outputs": [],
   "source": [
    "fig, ax = plt.subplots(figsize=(15, 5))\n",
    "\n",
    "x = ['Not Concerned at All', 'Not Very Concerned',\n",
    "     'Somewhat Concerned', 'Very Concerned']\n",
    "width = 0.25\n",
    "plt.bar(no_condition_yes_vac_concern.index, no_condition_yes_vac_concern.values, width, label = 'Vaccinated')\n",
    "plt.bar(no_condition_no_vac_concern.index + 0.25, no_condition_no_vac_concern.values, width, label = 'Not Vaccinated')\n",
    "plt.title('Healthy Individuals Who Did Recieve The Vaccine')\n",
    "plt.ylabel('Percent of Individuals')\n",
    "plt.xlabel('Level of Concern')\n",
    "plt.legend()\n",
    "ax.yaxis.set_major_formatter(mtick.PercentFormatter(1.0))\n",
    "plt.xticks(ticks=no_vaccine.index + width/2, labels=x);"
   ]
  },
  {
   "cell_type": "markdown",
   "id": "7d9c0db2",
   "metadata": {},
   "source": [
    "## Chronic Medical Condition"
   ]
  },
  {
   "cell_type": "code",
   "execution_count": null,
   "id": "fd7d1636",
   "metadata": {},
   "outputs": [],
   "source": [
    "condition = df[df.chronic_med_condition == 1]\n",
    "condition_no_vac = condition[condition.h1n1_vaccine == 0]\n",
    "condition_no_vac_concern = condition_no_vac.h1n1_concern.value_counts(normalize = True).sort_index()\n",
    "condition_no_vac_concern*100"
   ]
  },
  {
   "cell_type": "code",
   "execution_count": null,
   "id": "35643701",
   "metadata": {},
   "outputs": [],
   "source": [
    "condition = df[df.chronic_med_condition == 1]\n",
    "condition_yes_vac = condition[condition.h1n1_vaccine == 1]\n",
    "condition_yes_vac_concern = condition_yes_vac.h1n1_concern.value_counts(normalize = True).sort_index()\n",
    "condition_yes_vac_concern*100"
   ]
  },
  {
   "cell_type": "code",
   "execution_count": null,
   "id": "9a13f534",
   "metadata": {
    "scrolled": true
   },
   "outputs": [],
   "source": [
    "fig, ax = plt.subplots(figsize=(15, 5))\n",
    "\n",
    "x = ['Not Concerned at All', 'Not Very Concerned',\n",
    "     'Somewhat Concerned', 'Very Concerned']\n",
    "width = 0.25\n",
    "plt.bar(condition_yes_vac_concern.index, condition_yes_vac_concern.values, width, label = 'Vaccinated')\n",
    "plt.bar(condition_no_vac_concern.index + width, condition_no_vac_concern.values, width, label = 'Not Vaccinated')\n",
    "plt.title('Chronic Medical Condition Individuals Who Did Recieve The Vaccine')\n",
    "plt.ylabel('Percent of Individuals')\n",
    "plt.xlabel('Level of Concern')\n",
    "plt.legend()\n",
    "ax.yaxis.set_major_formatter(mtick.PercentFormatter(1.0))\n",
    "plt.xticks(ticks=no_vaccine.index + width/2, labels=x);"
   ]
  },
  {
   "cell_type": "code",
   "execution_count": null,
   "id": "d98ae58e",
   "metadata": {},
   "outputs": [],
   "source": []
  }
 ],
 "metadata": {
  "kernelspec": {
   "display_name": "Python (learn-env)",
   "language": "python",
   "name": "learn-env"
  },
  "language_info": {
   "codemirror_mode": {
    "name": "ipython",
    "version": 3
   },
   "file_extension": ".py",
   "mimetype": "text/x-python",
   "name": "python",
   "nbconvert_exporter": "python",
   "pygments_lexer": "ipython3",
   "version": "3.8.11"
  }
 },
 "nbformat": 4,
 "nbformat_minor": 5
}
