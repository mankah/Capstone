{
 "cells": [
  {
   "cell_type": "code",
   "execution_count": 1,
   "id": "31dc49ed",
   "metadata": {},
   "outputs": [],
   "source": [
    "import pandas as pd\n",
    "import numpy as np\n",
    "\n",
    "from sklearn.model_selection import GridSearchCV, cross_val_score\n",
    "from sklearn.preprocessing import OneHotEncoder, StandardScaler\n",
    "from sklearn.pipeline import Pipeline\n",
    "from sklearn.compose import ColumnTransformer\n",
    "from imblearn.over_sampling import SMOTE\n",
    "from sklearn.impute import SimpleImputer\n",
    "from imblearn.pipeline import Pipeline as imbPipeline\n",
    "\n",
    "from xgboost import XGBClassifier\n",
    "import warnings\n",
    "warnings.simplefilter(action='ignore', category=FutureWarning)"
   ]
  },
  {
   "cell_type": "code",
   "execution_count": 2,
   "id": "8b7cc048",
   "metadata": {},
   "outputs": [],
   "source": [
    "X_train = pd.read_csv('../data/X_train_h1n1.csv', index_col= 'respondent_id')\n",
    "X_test = pd.read_csv('../data/X_test_h1n1.csv', index_col= 'respondent_id')\n",
    "y_train = pd.read_csv('../data/y_train_h1n1.csv', index_col= 'respondent_id')\n",
    "y_test = pd.read_csv('../data/y_test_h1h1.csv', index_col= 'respondent_id')"
   ]
  },
  {
   "cell_type": "code",
   "execution_count": 3,
   "id": "09142230",
   "metadata": {},
   "outputs": [],
   "source": [
    "y_train = y_train['h1n1_vaccine']\n",
    "y_test = y_test['h1n1_vaccine']"
   ]
  },
  {
   "cell_type": "code",
   "execution_count": 4,
   "id": "d08ed43a",
   "metadata": {},
   "outputs": [],
   "source": [
    "X_train_cat = X_train.select_dtypes('object')\n",
    "X_train_num = X_train.select_dtypes(['float64', 'int64'])\n",
    "\n",
    "cat_pipe = Pipeline([\n",
    "    ('impute', SimpleImputer(strategy='most_frequent')),\n",
    "    ('ohe', OneHotEncoder(sparse=False, handle_unknown='ignore'))\n",
    "])\n",
    "num_pipe = Pipeline(steps=[\n",
    "    ('impute', SimpleImputer(strategy='most_frequent')),\n",
    "])\n",
    "\n",
    "transformer = ColumnTransformer([('categorical', cat_pipe, X_train_cat.columns),\n",
    "                                 ('numerical', num_pipe, X_train_num.columns)])"
   ]
  },
  {
   "cell_type": "markdown",
   "id": "76f10488",
   "metadata": {},
   "source": [
    "# XGBoost"
   ]
  },
  {
   "cell_type": "code",
   "execution_count": 5,
   "id": "5850bf55",
   "metadata": {},
   "outputs": [],
   "source": [
    "model_pipe = imbPipeline(steps=[\n",
    "    ('trans', transformer),\n",
    "    ('smote', SMOTE(random_state=42)),\n",
    "    ('xgboost', XGBClassifier(n_jobs=-1, random_state=42))\n",
    "])"
   ]
  },
  {
   "cell_type": "code",
   "execution_count": 6,
   "id": "77782162",
   "metadata": {},
   "outputs": [
    {
     "name": "stderr",
     "output_type": "stream",
     "text": [
      "[Parallel(n_jobs=-1)]: Using backend LokyBackend with 8 concurrent workers.\n",
      "[Parallel(n_jobs=-1)]: Done   2 out of   5 | elapsed:   14.0s remaining:   21.1s\n",
      "[Parallel(n_jobs=-1)]: Done   5 out of   5 | elapsed:   14.4s remaining:    0.0s\n",
      "[Parallel(n_jobs=-1)]: Done   5 out of   5 | elapsed:   14.4s finished\n"
     ]
    }
   ],
   "source": [
    "cv_XGBoost1 = cross_val_score(model_pipe, X_train, y_train, n_jobs=-1, verbose=2, scoring='f1')"
   ]
  },
  {
   "cell_type": "code",
   "execution_count": 7,
   "id": "4db32a8a",
   "metadata": {
    "scrolled": true
   },
   "outputs": [
    {
     "data": {
      "text/plain": [
       "0.5291627008368801"
      ]
     },
     "execution_count": 7,
     "metadata": {},
     "output_type": "execute_result"
    }
   ],
   "source": [
    "cv_XGBoost1.mean()"
   ]
  },
  {
   "cell_type": "markdown",
   "id": "13651430",
   "metadata": {},
   "source": [
    "# Grid Search on XGBoost"
   ]
  },
  {
   "cell_type": "code",
   "execution_count": 8,
   "id": "2b20454b",
   "metadata": {},
   "outputs": [],
   "source": [
    "model_pipe_2 = imbPipeline(steps=[\n",
    "    ('trans', transformer),\n",
    "    ('smote', SMOTE(random_state=42)),\n",
    "    ('xgboost', XGBClassifier(n_jobs=-1, random_state=42))\n",
    "])"
   ]
  },
  {
   "cell_type": "code",
   "execution_count": 9,
   "id": "9701a444",
   "metadata": {
    "scrolled": true
   },
   "outputs": [
    {
     "data": {
      "text/plain": [
       "{'memory': None,\n",
       " 'steps': [('trans',\n",
       "   ColumnTransformer(transformers=[('categorical',\n",
       "                                    Pipeline(steps=[('impute',\n",
       "                                                     SimpleImputer(strategy='most_frequent')),\n",
       "                                                    ('ohe',\n",
       "                                                     OneHotEncoder(handle_unknown='ignore',\n",
       "                                                                   sparse=False))]),\n",
       "                                    Index(['age_group', 'education', 'race', 'sex', 'income_poverty',\n",
       "          'marital_status', 'rent_or_own', 'employment_status', 'hhs_geo_region',\n",
       "          'census_msa'],\n",
       "         dtype='object')),\n",
       "                                   ('numerical',\n",
       "                                    P...\n",
       "          'behavioral_large_gatherings', 'behavioral_outside_home',\n",
       "          'behavioral_touch_face', 'doctor_recc_h1n1', 'doctor_recc_seasonal',\n",
       "          'chronic_med_condition', 'child_under_6_months', 'health_worker',\n",
       "          'opinion_h1n1_vacc_effective', 'opinion_h1n1_risk',\n",
       "          'opinion_h1n1_sick_from_vacc', 'opinion_seas_vacc_effective',\n",
       "          'opinion_seas_risk', 'opinion_seas_sick_from_vacc', 'household_adults',\n",
       "          'household_children'],\n",
       "         dtype='object'))])),\n",
       "  ('smote', SMOTE(random_state=42)),\n",
       "  ('xgboost',\n",
       "   XGBClassifier(base_score=None, booster=None, colsample_bylevel=None,\n",
       "                 colsample_bynode=None, colsample_bytree=None, gamma=None,\n",
       "                 gpu_id=None, importance_type='gain', interaction_constraints=None,\n",
       "                 learning_rate=None, max_delta_step=None, max_depth=None,\n",
       "                 min_child_weight=None, missing=nan, monotone_constraints=None,\n",
       "                 n_estimators=100, n_jobs=-1, num_parallel_tree=None,\n",
       "                 random_state=42, reg_alpha=None, reg_lambda=None,\n",
       "                 scale_pos_weight=None, subsample=None, tree_method=None,\n",
       "                 validate_parameters=None, verbosity=None))],\n",
       " 'verbose': False,\n",
       " 'trans': ColumnTransformer(transformers=[('categorical',\n",
       "                                  Pipeline(steps=[('impute',\n",
       "                                                   SimpleImputer(strategy='most_frequent')),\n",
       "                                                  ('ohe',\n",
       "                                                   OneHotEncoder(handle_unknown='ignore',\n",
       "                                                                 sparse=False))]),\n",
       "                                  Index(['age_group', 'education', 'race', 'sex', 'income_poverty',\n",
       "        'marital_status', 'rent_or_own', 'employment_status', 'hhs_geo_region',\n",
       "        'census_msa'],\n",
       "       dtype='object')),\n",
       "                                 ('numerical',\n",
       "                                  P...\n",
       "        'behavioral_large_gatherings', 'behavioral_outside_home',\n",
       "        'behavioral_touch_face', 'doctor_recc_h1n1', 'doctor_recc_seasonal',\n",
       "        'chronic_med_condition', 'child_under_6_months', 'health_worker',\n",
       "        'opinion_h1n1_vacc_effective', 'opinion_h1n1_risk',\n",
       "        'opinion_h1n1_sick_from_vacc', 'opinion_seas_vacc_effective',\n",
       "        'opinion_seas_risk', 'opinion_seas_sick_from_vacc', 'household_adults',\n",
       "        'household_children'],\n",
       "       dtype='object'))]),\n",
       " 'smote': SMOTE(random_state=42),\n",
       " 'xgboost': XGBClassifier(base_score=None, booster=None, colsample_bylevel=None,\n",
       "               colsample_bynode=None, colsample_bytree=None, gamma=None,\n",
       "               gpu_id=None, importance_type='gain', interaction_constraints=None,\n",
       "               learning_rate=None, max_delta_step=None, max_depth=None,\n",
       "               min_child_weight=None, missing=nan, monotone_constraints=None,\n",
       "               n_estimators=100, n_jobs=-1, num_parallel_tree=None,\n",
       "               random_state=42, reg_alpha=None, reg_lambda=None,\n",
       "               scale_pos_weight=None, subsample=None, tree_method=None,\n",
       "               validate_parameters=None, verbosity=None),\n",
       " 'trans__n_jobs': None,\n",
       " 'trans__remainder': 'drop',\n",
       " 'trans__sparse_threshold': 0.3,\n",
       " 'trans__transformer_weights': None,\n",
       " 'trans__transformers': [('categorical',\n",
       "   Pipeline(steps=[('impute', SimpleImputer(strategy='most_frequent')),\n",
       "                   ('ohe', OneHotEncoder(handle_unknown='ignore', sparse=False))]),\n",
       "   Index(['age_group', 'education', 'race', 'sex', 'income_poverty',\n",
       "          'marital_status', 'rent_or_own', 'employment_status', 'hhs_geo_region',\n",
       "          'census_msa'],\n",
       "         dtype='object')),\n",
       "  ('numerical',\n",
       "   Pipeline(steps=[('impute', SimpleImputer(strategy='most_frequent'))]),\n",
       "   Index(['h1n1_concern', 'h1n1_knowledge', 'behavioral_antiviral_meds',\n",
       "          'behavioral_avoidance', 'behavioral_face_mask', 'behavioral_wash_hands',\n",
       "          'behavioral_large_gatherings', 'behavioral_outside_home',\n",
       "          'behavioral_touch_face', 'doctor_recc_h1n1', 'doctor_recc_seasonal',\n",
       "          'chronic_med_condition', 'child_under_6_months', 'health_worker',\n",
       "          'opinion_h1n1_vacc_effective', 'opinion_h1n1_risk',\n",
       "          'opinion_h1n1_sick_from_vacc', 'opinion_seas_vacc_effective',\n",
       "          'opinion_seas_risk', 'opinion_seas_sick_from_vacc', 'household_adults',\n",
       "          'household_children'],\n",
       "         dtype='object'))],\n",
       " 'trans__verbose': False,\n",
       " 'trans__categorical': Pipeline(steps=[('impute', SimpleImputer(strategy='most_frequent')),\n",
       "                 ('ohe', OneHotEncoder(handle_unknown='ignore', sparse=False))]),\n",
       " 'trans__numerical': Pipeline(steps=[('impute', SimpleImputer(strategy='most_frequent'))]),\n",
       " 'trans__categorical__memory': None,\n",
       " 'trans__categorical__steps': [('impute',\n",
       "   SimpleImputer(strategy='most_frequent')),\n",
       "  ('ohe', OneHotEncoder(handle_unknown='ignore', sparse=False))],\n",
       " 'trans__categorical__verbose': False,\n",
       " 'trans__categorical__impute': SimpleImputer(strategy='most_frequent'),\n",
       " 'trans__categorical__ohe': OneHotEncoder(handle_unknown='ignore', sparse=False),\n",
       " 'trans__categorical__impute__add_indicator': False,\n",
       " 'trans__categorical__impute__copy': True,\n",
       " 'trans__categorical__impute__fill_value': None,\n",
       " 'trans__categorical__impute__missing_values': nan,\n",
       " 'trans__categorical__impute__strategy': 'most_frequent',\n",
       " 'trans__categorical__impute__verbose': 0,\n",
       " 'trans__categorical__ohe__categories': 'auto',\n",
       " 'trans__categorical__ohe__drop': None,\n",
       " 'trans__categorical__ohe__dtype': numpy.float64,\n",
       " 'trans__categorical__ohe__handle_unknown': 'ignore',\n",
       " 'trans__categorical__ohe__sparse': False,\n",
       " 'trans__numerical__memory': None,\n",
       " 'trans__numerical__steps': [('impute',\n",
       "   SimpleImputer(strategy='most_frequent'))],\n",
       " 'trans__numerical__verbose': False,\n",
       " 'trans__numerical__impute': SimpleImputer(strategy='most_frequent'),\n",
       " 'trans__numerical__impute__add_indicator': False,\n",
       " 'trans__numerical__impute__copy': True,\n",
       " 'trans__numerical__impute__fill_value': None,\n",
       " 'trans__numerical__impute__missing_values': nan,\n",
       " 'trans__numerical__impute__strategy': 'most_frequent',\n",
       " 'trans__numerical__impute__verbose': 0,\n",
       " 'smote__k_neighbors': 5,\n",
       " 'smote__n_jobs': None,\n",
       " 'smote__random_state': 42,\n",
       " 'smote__sampling_strategy': 'auto',\n",
       " 'xgboost__objective': 'binary:logistic',\n",
       " 'xgboost__use_label_encoder': True,\n",
       " 'xgboost__base_score': None,\n",
       " 'xgboost__booster': None,\n",
       " 'xgboost__colsample_bylevel': None,\n",
       " 'xgboost__colsample_bynode': None,\n",
       " 'xgboost__colsample_bytree': None,\n",
       " 'xgboost__gamma': None,\n",
       " 'xgboost__gpu_id': None,\n",
       " 'xgboost__importance_type': 'gain',\n",
       " 'xgboost__interaction_constraints': None,\n",
       " 'xgboost__learning_rate': None,\n",
       " 'xgboost__max_delta_step': None,\n",
       " 'xgboost__max_depth': None,\n",
       " 'xgboost__min_child_weight': None,\n",
       " 'xgboost__missing': nan,\n",
       " 'xgboost__monotone_constraints': None,\n",
       " 'xgboost__n_estimators': 100,\n",
       " 'xgboost__n_jobs': -1,\n",
       " 'xgboost__num_parallel_tree': None,\n",
       " 'xgboost__random_state': 42,\n",
       " 'xgboost__reg_alpha': None,\n",
       " 'xgboost__reg_lambda': None,\n",
       " 'xgboost__scale_pos_weight': None,\n",
       " 'xgboost__subsample': None,\n",
       " 'xgboost__tree_method': None,\n",
       " 'xgboost__validate_parameters': None,\n",
       " 'xgboost__verbosity': None}"
      ]
     },
     "execution_count": 9,
     "metadata": {},
     "output_type": "execute_result"
    }
   ],
   "source": [
    "model_pipe_2.get_params()"
   ]
  },
  {
   "cell_type": "code",
   "execution_count": 10,
   "id": "02d5de3c",
   "metadata": {},
   "outputs": [],
   "source": [
    "params = {\n",
    "        'xgboost__min_child_weight': [1, 5, 10],\n",
    "        'xgboost__gamma': [0.5, 1, 1.5, 2, 5],\n",
    "        'xgboost__subsample': [0.6, 0.8, 1.0],\n",
    "        'xgboost__colsample_bytree': [0.6, 0.8, 1.0],\n",
    "        'xgboost__max_depth': [3, 4, 5]\n",
    "        }"
   ]
  },
  {
   "cell_type": "code",
   "execution_count": 11,
   "id": "8eb0a494",
   "metadata": {},
   "outputs": [],
   "source": [
    "gs_XGBoost = GridSearchCV(model_pipe_2, param_grid=params, n_jobs=-1, verbose=2, return_train_score=True, scoring='f1')"
   ]
  },
  {
   "cell_type": "code",
   "execution_count": 12,
   "id": "be5cb933",
   "metadata": {
    "scrolled": true
   },
   "outputs": [
    {
     "name": "stdout",
     "output_type": "stream",
     "text": [
      "Fitting 5 folds for each of 405 candidates, totalling 2025 fits\n"
     ]
    },
    {
     "name": "stderr",
     "output_type": "stream",
     "text": [
      "C:\\Users\\Manav Kahlon\\anaconda3\\envs\\learn-env\\lib\\site-packages\\xgboost\\sklearn.py:888: UserWarning: The use of label encoder in XGBClassifier is deprecated and will be removed in a future release. To remove this warning, do the following: 1) Pass option use_label_encoder=False when constructing XGBClassifier object; and 2) Encode your labels (y) as integers starting with 0, i.e. 0, 1, 2, ..., [num_class - 1].\n",
      "  warnings.warn(label_encoder_deprecation_msg, UserWarning)\n"
     ]
    },
    {
     "name": "stdout",
     "output_type": "stream",
     "text": [
      "[10:19:38] WARNING: ..\\src\\learner.cc:1061: Starting in XGBoost 1.3.0, the default evaluation metric used with the objective 'binary:logistic' was changed from 'error' to 'logloss'. Explicitly set eval_metric if you'd like to restore the old behavior.\n"
     ]
    },
    {
     "data": {
      "text/plain": [
       "GridSearchCV(estimator=Pipeline(steps=[('trans',\n",
       "                                        ColumnTransformer(transformers=[('categorical',\n",
       "                                                                         Pipeline(steps=[('impute',\n",
       "                                                                                          SimpleImputer(strategy='most_frequent')),\n",
       "                                                                                         ('ohe',\n",
       "                                                                                          OneHotEncoder(handle_unknown='ignore',\n",
       "                                                                                                        sparse=False))]),\n",
       "                                                                         Index(['age_group', 'education', 'race', 'sex', 'income_poverty',\n",
       "       'marital_status', 'rent_or_own', 'employment_status', 'hhs_geo_regio...\n",
       "                                                      reg_lambda=None,\n",
       "                                                      scale_pos_weight=None,\n",
       "                                                      subsample=None,\n",
       "                                                      tree_method=None,\n",
       "                                                      validate_parameters=None,\n",
       "                                                      verbosity=None))]),\n",
       "             n_jobs=-1,\n",
       "             param_grid={'xgboost__colsample_bytree': [0.6, 0.8, 1.0],\n",
       "                         'xgboost__gamma': [0.5, 1, 1.5, 2, 5],\n",
       "                         'xgboost__max_depth': [3, 4, 5],\n",
       "                         'xgboost__min_child_weight': [1, 5, 10],\n",
       "                         'xgboost__subsample': [0.6, 0.8, 1.0]},\n",
       "             return_train_score=True, scoring='f1', verbose=2)"
      ]
     },
     "execution_count": 12,
     "metadata": {},
     "output_type": "execute_result"
    }
   ],
   "source": [
    "gs_XGBoost.fit(X_train, y_train)"
   ]
  },
  {
   "cell_type": "code",
   "execution_count": 13,
   "id": "01fbd5dc",
   "metadata": {
    "scrolled": true
   },
   "outputs": [
    {
     "data": {
      "text/plain": [
       "{'xgboost__colsample_bytree': 1.0,\n",
       " 'xgboost__gamma': 5,\n",
       " 'xgboost__max_depth': 5,\n",
       " 'xgboost__min_child_weight': 10,\n",
       " 'xgboost__subsample': 1.0}"
      ]
     },
     "execution_count": 13,
     "metadata": {},
     "output_type": "execute_result"
    }
   ],
   "source": [
    "gs_XGBoost.best_params_"
   ]
  },
  {
   "cell_type": "code",
   "execution_count": 14,
   "id": "635363f9",
   "metadata": {},
   "outputs": [
    {
     "name": "stderr",
     "output_type": "stream",
     "text": [
      "[Parallel(n_jobs=-1)]: Using backend LokyBackend with 8 concurrent workers.\n",
      "[Parallel(n_jobs=-1)]: Done   2 out of   5 | elapsed: 209.4min remaining: 314.1min\n",
      "[Parallel(n_jobs=-1)]: Done   5 out of   5 | elapsed: 209.4min finished\n"
     ]
    }
   ],
   "source": [
    "cv_XGBoost = cross_val_score(gs_XGBoost, X_train, y_train, n_jobs=-1, verbose=3, scoring='f1')"
   ]
  },
  {
   "cell_type": "code",
   "execution_count": 15,
   "id": "49caf299",
   "metadata": {},
   "outputs": [
    {
     "data": {
      "text/plain": [
       "0.5449053159381265"
      ]
     },
     "execution_count": 15,
     "metadata": {},
     "output_type": "execute_result"
    }
   ],
   "source": [
    "cv_XGBoost.mean()"
   ]
  },
  {
   "cell_type": "code",
   "execution_count": null,
   "id": "2f1f8bbd",
   "metadata": {},
   "outputs": [],
   "source": []
  }
 ],
 "metadata": {
  "kernelspec": {
   "display_name": "Python (learn-env)",
   "language": "python",
   "name": "learn-env"
  },
  "language_info": {
   "codemirror_mode": {
    "name": "ipython",
    "version": 3
   },
   "file_extension": ".py",
   "mimetype": "text/x-python",
   "name": "python",
   "nbconvert_exporter": "python",
   "pygments_lexer": "ipython3",
   "version": "3.8.11"
  }
 },
 "nbformat": 4,
 "nbformat_minor": 5
}
