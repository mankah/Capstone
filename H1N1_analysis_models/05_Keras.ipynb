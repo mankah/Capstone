{
 "cells": [
  {
   "cell_type": "code",
   "execution_count": null,
   "metadata": {},
   "outputs": [],
   "source": [
    "from keras.models import Model, Sequential\n",
    "from keras.layers import Dense, Dropout\n",
    "from keras.wrappers.scikit_learn import KerasClassifier\n",
    "from sklearn.pipeline import Pipeline\n",
    "from imblearn.pipeline import Pipeline as imbPipeline\n",
    "from imblearn.over_sampling import SMOTE\n",
    "from sklearn.preprocessing import StandardScaler, OneHotEncoder\n",
    "from sklearn.impute import SimpleImputer\n",
    "from sklearn.compose import ColumnTransformer\n",
    "from sklearn.model_selection import GridSearchCV, cross_val_score\n",
    "\n",
    "\n",
    "\n",
    "import pandas as pd\n",
    "import numpy as np\n",
    "import warnings\n",
    "warnings.simplefilter(action='ignore', category=FutureWarning)"
   ]
  },
  {
   "cell_type": "code",
   "execution_count": null,
   "metadata": {},
   "outputs": [],
   "source": [
    "X_train = pd.read_csv('../data/X_train_h1n1.csv', index_col= 'respondent_id')\n",
    "X_test = pd.read_csv('../data/X_test_h1n1.csv', index_col= 'respondent_id')\n",
    "y_train = pd.read_csv('../data/y_train_h1n1.csv', index_col= 'respondent_id')\n",
    "y_test = pd.read_csv('../data/y_test_h1h1.csv', index_col= 'respondent_id')"
   ]
  },
  {
   "cell_type": "code",
   "execution_count": null,
   "metadata": {},
   "outputs": [],
   "source": [
    "y_train = y_train['h1n1_vaccine']\n",
    "y_test = y_test['h1n1_vaccine']"
   ]
  },
  {
   "cell_type": "code",
   "execution_count": null,
   "metadata": {},
   "outputs": [],
   "source": [
    "X_train_cat = X_train.select_dtypes('object')\n",
    "X_train_num = X_train.select_dtypes(['float64', 'int64'])\n",
    "\n",
    "cat_pipe = Pipeline([\n",
    "    ('impute', SimpleImputer(strategy='most_frequent')),\n",
    "    ('ohe', OneHotEncoder(sparse=False, handle_unknown='ignore'))\n",
    "])\n",
    "num_pipe = Pipeline(steps=[\n",
    "    ('impute', SimpleImputer(strategy='most_frequent')),\n",
    "])\n",
    "\n",
    "transformer = ColumnTransformer([('categorical', cat_pipe, X_train_cat.columns),\n",
    "                                 ('numerical', num_pipe, X_train_num.columns)])"
   ]
  },
  {
   "cell_type": "code",
   "execution_count": null,
   "metadata": {},
   "outputs": [],
   "source": [
    "def create_model(optimizer = 'adagrad', kernel_initializer = 'glorot_uniform', dropout = .2):\n",
    "    model = Sequential()\n",
    "    model.add(Dense(128, activation = 'relu', kernel_initializer = kernel_initializer))\n",
    "    model.add(Dropout(dropout))\n",
    "    model.add(Dense(64, activation = 'relu', kernel_initializer = kernel_initializer))\n",
    "    model.add(Dropout(dropout))\n",
    "    model.add(Dense(32, activation = 'relu', kernel_initializer = kernel_initializer))\n",
    "    model.add(Dropout(dropout))\n",
    "    model.add(Dense(16, activation = 'relu', kernel_initializer = kernel_initializer))\n",
    "    model.add(Dropout(dropout))\n",
    "    model.add(Dense(1, activation = 'softmax', kernel_initializer = kernel_initializer))\n",
    "    \n",
    "    model.compile(loss= 'binary_crossentropy', metrics=[\"accuracy\"], optimizer = optimizer)\n",
    "    \n",
    "    return model"
   ]
  },
  {
   "cell_type": "code",
   "execution_count": null,
   "metadata": {},
   "outputs": [],
   "source": [
    "clf = KerasClassifier(build_fn= create_model, verbose = 3)"
   ]
  },
  {
   "cell_type": "code",
   "execution_count": null,
   "metadata": {},
   "outputs": [],
   "source": [
    "model_pipe = imbPipeline(steps=[\n",
    "    ('trans', transformer),\n",
    "    ('smote', SMOTE(random_state=42)),\n",
    "    ('clf', clf)\n",
    "])"
   ]
  },
  {
   "cell_type": "code",
   "execution_count": null,
   "metadata": {
    "scrolled": true
   },
   "outputs": [],
   "source": [
    "model_pipe.get_params()"
   ]
  },
  {
   "cell_type": "code",
   "execution_count": null,
   "metadata": {},
   "outputs": [],
   "source": [
    "params = {\n",
    "    'clf__optimizer' : ['rmsprop', 'adam', 'adagrad'],\n",
    "    'clf__epochs' : list(range(100,500,50)),\n",
    "    'clf__dropout' : [0.1, 0.2, 0.3],\n",
    "    'clf__kernel_initializer' : ['glorot_uniform', 'normal', 'uniform']\n",
    "    \n",
    "}"
   ]
  },
  {
   "cell_type": "code",
   "execution_count": null,
   "metadata": {},
   "outputs": [],
   "source": [
    "grid = GridSearchCV(model_pipe, param_grid=params, n_jobs=-1, verbose = 3)\n",
    "grid.fit(X_train, y_train)"
   ]
  },
  {
   "cell_type": "code",
   "execution_count": null,
   "metadata": {},
   "outputs": [],
   "source": []
  }
 ],
 "metadata": {
  "kernelspec": {
   "display_name": "Python 3",
   "language": "python",
   "name": "python3"
  },
  "language_info": {
   "codemirror_mode": {
    "name": "ipython",
    "version": 3
   },
   "file_extension": ".py",
   "mimetype": "text/x-python",
   "name": "python",
   "nbconvert_exporter": "python",
   "pygments_lexer": "ipython3",
   "version": "3.8.11"
  }
 },
 "nbformat": 4,
 "nbformat_minor": 4
}
