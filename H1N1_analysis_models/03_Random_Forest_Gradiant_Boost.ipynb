{
 "cells": [
  {
   "cell_type": "code",
   "execution_count": 1,
   "metadata": {},
   "outputs": [],
   "source": [
    "from sklearn.ensemble import RandomForestClassifier, GradientBoostingClassifier\n",
    "from sklearn.impute import SimpleImputer\n",
    "from sklearn.preprocessing import OneHotEncoder, StandardScaler\n",
    "from sklearn.pipeline import Pipeline\n",
    "from sklearn.compose import ColumnTransformer\n",
    "from imblearn.over_sampling import SMOTE\n",
    "from imblearn.pipeline import Pipeline as imbPipeline\n",
    "from sklearn.metrics import f1_score\n",
    "from sklearn.model_selection import GridSearchCV, cross_val_score\n",
    "\n",
    "import pandas as pd\n",
    "import numpy as np\n",
    "import warnings\n",
    "warnings.simplefilter(action='ignore', category=FutureWarning)"
   ]
  },
  {
   "cell_type": "code",
   "execution_count": 2,
   "metadata": {},
   "outputs": [],
   "source": [
    "X_train = pd.read_csv('../data/X_train_h1n1.csv', index_col= 'respondent_id')\n",
    "X_test = pd.read_csv('../data/X_test_h1n1.csv', index_col= 'respondent_id')\n",
    "y_train = pd.read_csv('../data/y_train_h1n1.csv', index_col= 'respondent_id')\n",
    "y_test = pd.read_csv('../data/y_test_h1h1.csv', index_col= 'respondent_id')"
   ]
  },
  {
   "cell_type": "code",
   "execution_count": 3,
   "metadata": {},
   "outputs": [],
   "source": [
    "y_train = y_train['h1n1_vaccine']\n",
    "y_test = y_test['h1n1_vaccine']"
   ]
  },
  {
   "cell_type": "code",
   "execution_count": 4,
   "metadata": {},
   "outputs": [],
   "source": [
    "X_train_cat = X_train.select_dtypes('object')\n",
    "X_train_num = X_train.select_dtypes(['float64', 'int64'])\n",
    "\n",
    "cat_pipe = Pipeline([\n",
    "    ('impute', SimpleImputer(strategy='most_frequent')),\n",
    "    ('ohe', OneHotEncoder(sparse=False, handle_unknown='ignore'))\n",
    "])\n",
    "num_pipe = Pipeline(steps=[\n",
    "    ('impute', SimpleImputer(strategy='most_frequent')),\n",
    "])\n",
    "\n",
    "transformer = ColumnTransformer([('categorical', cat_pipe, X_train_cat.columns),\n",
    "                                 ('numerical', num_pipe, X_train_num.columns)])"
   ]
  },
  {
   "cell_type": "code",
   "execution_count": 5,
   "metadata": {},
   "outputs": [
    {
     "name": "stderr",
     "output_type": "stream",
     "text": [
      "[Parallel(n_jobs=-2)]: Using backend ThreadingBackend with 11 concurrent workers.\n",
      "[Parallel(n_jobs=-2)]: Done  28 tasks      | elapsed:    0.2s\n",
      "[Parallel(n_jobs=-2)]: Done 100 out of 100 | elapsed:    0.6s finished\n"
     ]
    },
    {
     "data": {
      "text/plain": [
       "Pipeline(steps=[('trans',\n",
       "                 ColumnTransformer(transformers=[('categorical',\n",
       "                                                  Pipeline(steps=[('impute',\n",
       "                                                                   SimpleImputer(strategy='most_frequent')),\n",
       "                                                                  ('ohe',\n",
       "                                                                   OneHotEncoder(handle_unknown='ignore',\n",
       "                                                                                 sparse=False))]),\n",
       "                                                  Index(['age_group', 'education', 'race', 'sex', 'income_poverty',\n",
       "       'marital_status', 'rent_or_own', 'employment_status', 'hhs_geo_region',\n",
       "       'census_msa'],\n",
       "      dtype=...\n",
       "       'chronic_med_condition', 'child_under_6_months', 'health_worker',\n",
       "       'opinion_h1n1_vacc_effective', 'opinion_h1n1_risk',\n",
       "       'opinion_h1n1_sick_from_vacc', 'opinion_seas_vacc_effective',\n",
       "       'opinion_seas_risk', 'opinion_seas_sick_from_vacc', 'household_adults',\n",
       "       'household_children'],\n",
       "      dtype='object'))])),\n",
       "                ('smote', SMOTE(random_state=42)),\n",
       "                ('rfc', RandomForestClassifier(n_jobs=-2, verbose=1))])"
      ]
     },
     "execution_count": 5,
     "metadata": {},
     "output_type": "execute_result"
    }
   ],
   "source": [
    "model_pipe = imbPipeline(steps=[\n",
    "    ('trans', transformer),\n",
    "    ('smote', SMOTE(random_state=42)),\n",
    "    ('rfc', RandomForestClassifier(verbose=1, n_jobs=-2))\n",
    "])\n",
    "\n",
    "model_pipe.fit(X_train, y_train)"
   ]
  },
  {
   "cell_type": "code",
   "execution_count": 6,
   "metadata": {},
   "outputs": [
    {
     "name": "stderr",
     "output_type": "stream",
     "text": [
      "[Parallel(n_jobs=-1)]: Using backend LokyBackend with 12 concurrent workers.\n",
      "[Parallel(n_jobs=-1)]: Done   2 out of   5 | elapsed:    6.2s remaining:    9.3s\n",
      "[Parallel(n_jobs=-1)]: Done   5 out of   5 | elapsed:    6.3s finished\n"
     ]
    }
   ],
   "source": [
    "rfc_cv_score = cross_val_score(model_pipe, X_train, y_train, n_jobs=-1, verbose=3, scoring = 'f1')"
   ]
  },
  {
   "cell_type": "code",
   "execution_count": 7,
   "metadata": {},
   "outputs": [
    {
     "data": {
      "text/plain": [
       "0.5215878443782369"
      ]
     },
     "execution_count": 7,
     "metadata": {},
     "output_type": "execute_result"
    }
   ],
   "source": [
    "rfc_cv_score.mean()"
   ]
  },
  {
   "cell_type": "markdown",
   "metadata": {},
   "source": [
    "# Random Forest Classifier"
   ]
  },
  {
   "cell_type": "code",
   "execution_count": 8,
   "metadata": {},
   "outputs": [],
   "source": [
    "model_pipe_2 = imbPipeline(steps=[\n",
    "    ('trans', transformer),\n",
    "    ('smote', SMOTE(random_state=42)),\n",
    "    ('rfc', RandomForestClassifier(verbose=1, n_jobs=-2))\n",
    "])"
   ]
  },
  {
   "cell_type": "code",
   "execution_count": 9,
   "metadata": {},
   "outputs": [],
   "source": [
    "params = {\n",
    "    'rfc__max_depth': list(range(10,100,10)),\n",
    "    'rfc__criterion': ['gini', 'entropy'],\n",
    "    'rfc__n_estimators': list(range(100,250,25)),\n",
    "    'rfc__min_samples_leaf': list(range(2,10,2)),\n",
    "    'rfc__min_samples_split': list(range(2,10,2)),\n",
    "}"
   ]
  },
  {
   "cell_type": "code",
   "execution_count": 10,
   "metadata": {
    "scrolled": true
   },
   "outputs": [
    {
     "name": "stdout",
     "output_type": "stream",
     "text": [
      "Fitting 3 folds for each of 1728 candidates, totalling 5184 fits\n"
     ]
    },
    {
     "name": "stderr",
     "output_type": "stream",
     "text": [
      "[Parallel(n_jobs=-1)]: Using backend LokyBackend with 12 concurrent workers.\n",
      "[Parallel(n_jobs=-1)]: Done   8 tasks      | elapsed:   10.9s\n",
      "[Parallel(n_jobs=-1)]: Done 104 tasks      | elapsed:  1.6min\n",
      "[Parallel(n_jobs=-1)]: Done 264 tasks      | elapsed:  3.9min\n",
      "[Parallel(n_jobs=-1)]: Done 488 tasks      | elapsed:  7.5min\n",
      "[Parallel(n_jobs=-1)]: Done 776 tasks      | elapsed: 12.2min\n",
      "[Parallel(n_jobs=-1)]: Done 1128 tasks      | elapsed: 17.9min\n",
      "[Parallel(n_jobs=-1)]: Done 1544 tasks      | elapsed: 24.6min\n",
      "[Parallel(n_jobs=-1)]: Done 2024 tasks      | elapsed: 32.3min\n",
      "[Parallel(n_jobs=-1)]: Done 2568 tasks      | elapsed: 41.1min\n",
      "[Parallel(n_jobs=-1)]: Done 3176 tasks      | elapsed: 51.3min\n",
      "[Parallel(n_jobs=-1)]: Done 3848 tasks      | elapsed: 63.4min\n",
      "[Parallel(n_jobs=-1)]: Done 4584 tasks      | elapsed: 76.3min\n",
      "[Parallel(n_jobs=-1)]: Done 5184 out of 5184 | elapsed: 87.0min finished\n",
      "[Parallel(n_jobs=-2)]: Using backend ThreadingBackend with 11 concurrent workers.\n",
      "[Parallel(n_jobs=-2)]: Done  28 tasks      | elapsed:    0.1s\n",
      "[Parallel(n_jobs=-2)]: Done 178 tasks      | elapsed:    0.8s\n",
      "[Parallel(n_jobs=-2)]: Done 200 out of 200 | elapsed:    0.9s finished\n"
     ]
    },
    {
     "data": {
      "text/plain": [
       "GridSearchCV(cv=3,\n",
       "             estimator=Pipeline(steps=[('trans',\n",
       "                                        ColumnTransformer(transformers=[('categorical',\n",
       "                                                                         Pipeline(steps=[('impute',\n",
       "                                                                                          SimpleImputer(strategy='most_frequent')),\n",
       "                                                                                         ('ohe',\n",
       "                                                                                          OneHotEncoder(handle_unknown='ignore',\n",
       "                                                                                                        sparse=False))]),\n",
       "                                                                         Index(['age_group', 'education', 'race', 'sex', 'income_poverty',\n",
       "       'marital_status', 'rent_or_own', 'employment_status', 'hhs_geo_...\n",
       "      dtype='object'))])),\n",
       "                                       ('smote', SMOTE(random_state=42)),\n",
       "                                       ('rfc',\n",
       "                                        RandomForestClassifier(n_jobs=-2,\n",
       "                                                               verbose=1))]),\n",
       "             n_jobs=-1,\n",
       "             param_grid={'rfc__criterion': ['gini', 'entropy'],\n",
       "                         'rfc__max_depth': [10, 20, 30, 40, 50, 60, 70, 80, 90],\n",
       "                         'rfc__min_samples_leaf': [2, 4, 6, 8],\n",
       "                         'rfc__min_samples_split': [2, 4, 6, 8],\n",
       "                         'rfc__n_estimators': [100, 125, 150, 175, 200, 225]},\n",
       "             scoring='f1', verbose=3)"
      ]
     },
     "execution_count": 10,
     "metadata": {},
     "output_type": "execute_result"
    }
   ],
   "source": [
    "gs_rfc = GridSearchCV(model_pipe_2, params, n_jobs=-1, verbose=3, cv = 3, scoring = 'f1')\n",
    "gs_rfc.fit(X_train, y_train)"
   ]
  },
  {
   "cell_type": "code",
   "execution_count": 11,
   "metadata": {
    "scrolled": true
   },
   "outputs": [
    {
     "data": {
      "text/plain": [
       "{'rfc__criterion': 'gini',\n",
       " 'rfc__max_depth': 10,\n",
       " 'rfc__min_samples_leaf': 8,\n",
       " 'rfc__min_samples_split': 6,\n",
       " 'rfc__n_estimators': 200}"
      ]
     },
     "execution_count": 11,
     "metadata": {},
     "output_type": "execute_result"
    }
   ],
   "source": [
    "gs_rfc.best_params_"
   ]
  },
  {
   "cell_type": "code",
   "execution_count": 12,
   "metadata": {},
   "outputs": [
    {
     "name": "stderr",
     "output_type": "stream",
     "text": [
      "[Parallel(n_jobs=-1)]: Using backend LokyBackend with 12 concurrent workers.\n",
      "[Parallel(n_jobs=-1)]: Done   2 out of   5 | elapsed: 423.1min remaining: 634.6min\n",
      "[Parallel(n_jobs=-1)]: Done   5 out of   5 | elapsed: 424.6min finished\n"
     ]
    }
   ],
   "source": [
    "rfc_cv_1 = cross_val_score(gs_rfc, X_train, y_train, n_jobs=-1, verbose=3, scoring = 'f1')"
   ]
  },
  {
   "cell_type": "code",
   "execution_count": 13,
   "metadata": {},
   "outputs": [
    {
     "data": {
      "text/plain": [
       "0.5714167753683743"
      ]
     },
     "execution_count": 13,
     "metadata": {},
     "output_type": "execute_result"
    }
   ],
   "source": [
    "rfc_cv_1.mean()"
   ]
  },
  {
   "cell_type": "markdown",
   "metadata": {},
   "source": [
    "## Gradiant Boost Classifier"
   ]
  },
  {
   "cell_type": "code",
   "execution_count": 14,
   "metadata": {},
   "outputs": [],
   "source": [
    "model_pipe_3 = imbPipeline(steps=[\n",
    "    ('trans', transformer),\n",
    "    ('smote', SMOTE(random_state=42)),\n",
    "    ('gbc', GradientBoostingClassifier(verbose=3))\n",
    "])"
   ]
  },
  {
   "cell_type": "code",
   "execution_count": 15,
   "metadata": {},
   "outputs": [
    {
     "data": {
      "text/plain": [
       "{'memory': None,\n",
       " 'steps': [('trans',\n",
       "   ColumnTransformer(transformers=[('categorical',\n",
       "                                    Pipeline(steps=[('impute',\n",
       "                                                     SimpleImputer(strategy='most_frequent')),\n",
       "                                                    ('ohe',\n",
       "                                                     OneHotEncoder(handle_unknown='ignore',\n",
       "                                                                   sparse=False))]),\n",
       "                                    Index(['age_group', 'education', 'race', 'sex', 'income_poverty',\n",
       "          'marital_status', 'rent_or_own', 'employment_status', 'hhs_geo_region',\n",
       "          'census_msa'],\n",
       "         dtype='object')),\n",
       "                                   ('numerical',\n",
       "                                    P...\n",
       "          'behavioral_large_gatherings', 'behavioral_outside_home',\n",
       "          'behavioral_touch_face', 'doctor_recc_h1n1', 'doctor_recc_seasonal',\n",
       "          'chronic_med_condition', 'child_under_6_months', 'health_worker',\n",
       "          'opinion_h1n1_vacc_effective', 'opinion_h1n1_risk',\n",
       "          'opinion_h1n1_sick_from_vacc', 'opinion_seas_vacc_effective',\n",
       "          'opinion_seas_risk', 'opinion_seas_sick_from_vacc', 'household_adults',\n",
       "          'household_children'],\n",
       "         dtype='object'))])),\n",
       "  ('smote', SMOTE(random_state=42)),\n",
       "  ('gbc', GradientBoostingClassifier(verbose=3))],\n",
       " 'verbose': False,\n",
       " 'trans': ColumnTransformer(transformers=[('categorical',\n",
       "                                  Pipeline(steps=[('impute',\n",
       "                                                   SimpleImputer(strategy='most_frequent')),\n",
       "                                                  ('ohe',\n",
       "                                                   OneHotEncoder(handle_unknown='ignore',\n",
       "                                                                 sparse=False))]),\n",
       "                                  Index(['age_group', 'education', 'race', 'sex', 'income_poverty',\n",
       "        'marital_status', 'rent_or_own', 'employment_status', 'hhs_geo_region',\n",
       "        'census_msa'],\n",
       "       dtype='object')),\n",
       "                                 ('numerical',\n",
       "                                  P...\n",
       "        'behavioral_large_gatherings', 'behavioral_outside_home',\n",
       "        'behavioral_touch_face', 'doctor_recc_h1n1', 'doctor_recc_seasonal',\n",
       "        'chronic_med_condition', 'child_under_6_months', 'health_worker',\n",
       "        'opinion_h1n1_vacc_effective', 'opinion_h1n1_risk',\n",
       "        'opinion_h1n1_sick_from_vacc', 'opinion_seas_vacc_effective',\n",
       "        'opinion_seas_risk', 'opinion_seas_sick_from_vacc', 'household_adults',\n",
       "        'household_children'],\n",
       "       dtype='object'))]),\n",
       " 'smote': SMOTE(random_state=42),\n",
       " 'gbc': GradientBoostingClassifier(verbose=3),\n",
       " 'trans__n_jobs': None,\n",
       " 'trans__remainder': 'drop',\n",
       " 'trans__sparse_threshold': 0.3,\n",
       " 'trans__transformer_weights': None,\n",
       " 'trans__transformers': [('categorical',\n",
       "   Pipeline(steps=[('impute', SimpleImputer(strategy='most_frequent')),\n",
       "                   ('ohe', OneHotEncoder(handle_unknown='ignore', sparse=False))]),\n",
       "   Index(['age_group', 'education', 'race', 'sex', 'income_poverty',\n",
       "          'marital_status', 'rent_or_own', 'employment_status', 'hhs_geo_region',\n",
       "          'census_msa'],\n",
       "         dtype='object')),\n",
       "  ('numerical',\n",
       "   Pipeline(steps=[('impute', SimpleImputer(strategy='most_frequent'))]),\n",
       "   Index(['h1n1_concern', 'h1n1_knowledge', 'behavioral_antiviral_meds',\n",
       "          'behavioral_avoidance', 'behavioral_face_mask', 'behavioral_wash_hands',\n",
       "          'behavioral_large_gatherings', 'behavioral_outside_home',\n",
       "          'behavioral_touch_face', 'doctor_recc_h1n1', 'doctor_recc_seasonal',\n",
       "          'chronic_med_condition', 'child_under_6_months', 'health_worker',\n",
       "          'opinion_h1n1_vacc_effective', 'opinion_h1n1_risk',\n",
       "          'opinion_h1n1_sick_from_vacc', 'opinion_seas_vacc_effective',\n",
       "          'opinion_seas_risk', 'opinion_seas_sick_from_vacc', 'household_adults',\n",
       "          'household_children'],\n",
       "         dtype='object'))],\n",
       " 'trans__verbose': False,\n",
       " 'trans__categorical': Pipeline(steps=[('impute', SimpleImputer(strategy='most_frequent')),\n",
       "                 ('ohe', OneHotEncoder(handle_unknown='ignore', sparse=False))]),\n",
       " 'trans__numerical': Pipeline(steps=[('impute', SimpleImputer(strategy='most_frequent'))]),\n",
       " 'trans__categorical__memory': None,\n",
       " 'trans__categorical__steps': [('impute',\n",
       "   SimpleImputer(strategy='most_frequent')),\n",
       "  ('ohe', OneHotEncoder(handle_unknown='ignore', sparse=False))],\n",
       " 'trans__categorical__verbose': False,\n",
       " 'trans__categorical__impute': SimpleImputer(strategy='most_frequent'),\n",
       " 'trans__categorical__ohe': OneHotEncoder(handle_unknown='ignore', sparse=False),\n",
       " 'trans__categorical__impute__add_indicator': False,\n",
       " 'trans__categorical__impute__copy': True,\n",
       " 'trans__categorical__impute__fill_value': None,\n",
       " 'trans__categorical__impute__missing_values': nan,\n",
       " 'trans__categorical__impute__strategy': 'most_frequent',\n",
       " 'trans__categorical__impute__verbose': 0,\n",
       " 'trans__categorical__ohe__categories': 'auto',\n",
       " 'trans__categorical__ohe__drop': None,\n",
       " 'trans__categorical__ohe__dtype': numpy.float64,\n",
       " 'trans__categorical__ohe__handle_unknown': 'ignore',\n",
       " 'trans__categorical__ohe__sparse': False,\n",
       " 'trans__numerical__memory': None,\n",
       " 'trans__numerical__steps': [('impute',\n",
       "   SimpleImputer(strategy='most_frequent'))],\n",
       " 'trans__numerical__verbose': False,\n",
       " 'trans__numerical__impute': SimpleImputer(strategy='most_frequent'),\n",
       " 'trans__numerical__impute__add_indicator': False,\n",
       " 'trans__numerical__impute__copy': True,\n",
       " 'trans__numerical__impute__fill_value': None,\n",
       " 'trans__numerical__impute__missing_values': nan,\n",
       " 'trans__numerical__impute__strategy': 'most_frequent',\n",
       " 'trans__numerical__impute__verbose': 0,\n",
       " 'smote__k_neighbors': 5,\n",
       " 'smote__n_jobs': None,\n",
       " 'smote__random_state': 42,\n",
       " 'smote__sampling_strategy': 'auto',\n",
       " 'gbc__ccp_alpha': 0.0,\n",
       " 'gbc__criterion': 'friedman_mse',\n",
       " 'gbc__init': None,\n",
       " 'gbc__learning_rate': 0.1,\n",
       " 'gbc__loss': 'deviance',\n",
       " 'gbc__max_depth': 3,\n",
       " 'gbc__max_features': None,\n",
       " 'gbc__max_leaf_nodes': None,\n",
       " 'gbc__min_impurity_decrease': 0.0,\n",
       " 'gbc__min_impurity_split': None,\n",
       " 'gbc__min_samples_leaf': 1,\n",
       " 'gbc__min_samples_split': 2,\n",
       " 'gbc__min_weight_fraction_leaf': 0.0,\n",
       " 'gbc__n_estimators': 100,\n",
       " 'gbc__n_iter_no_change': None,\n",
       " 'gbc__presort': 'deprecated',\n",
       " 'gbc__random_state': None,\n",
       " 'gbc__subsample': 1.0,\n",
       " 'gbc__tol': 0.0001,\n",
       " 'gbc__validation_fraction': 0.1,\n",
       " 'gbc__verbose': 3,\n",
       " 'gbc__warm_start': False}"
      ]
     },
     "execution_count": 15,
     "metadata": {},
     "output_type": "execute_result"
    }
   ],
   "source": [
    "model_pipe_3.get_params()"
   ]
  },
  {
   "cell_type": "code",
   "execution_count": 16,
   "metadata": {},
   "outputs": [],
   "source": [
    "params = {\n",
    "    'gbc__learning_rate': [0.001, 0.01, 0.1, .5, .9],\n",
    "    'gbc__n_estimators': list(range(100,250,50)),\n",
    "    'gbc__min_samples_leaf': list(range(2,10,2)),\n",
    "    'gbc__min_samples_split': list(range(2,10,2)),\n",
    "    'gbc__max_features': list(range(0,200,50))\n",
    "}"
   ]
  },
  {
   "cell_type": "code",
   "execution_count": 17,
   "metadata": {
    "scrolled": true
   },
   "outputs": [
    {
     "name": "stdout",
     "output_type": "stream",
     "text": [
      "Fitting 3 folds for each of 960 candidates, totalling 2880 fits\n"
     ]
    },
    {
     "name": "stderr",
     "output_type": "stream",
     "text": [
      "[Parallel(n_jobs=-1)]: Using backend LokyBackend with 12 concurrent workers.\n",
      "[Parallel(n_jobs=-1)]: Done  26 tasks      | elapsed:   11.5s\n",
      "[Parallel(n_jobs=-1)]: Done 176 tasks      | elapsed:  2.7min\n",
      "[Parallel(n_jobs=-1)]: Done 426 tasks      | elapsed:  9.4min\n",
      "[Parallel(n_jobs=-1)]: Done 776 tasks      | elapsed: 14.0min\n",
      "[Parallel(n_jobs=-1)]: Done 1226 tasks      | elapsed: 20.1min\n",
      "[Parallel(n_jobs=-1)]: Done 1776 tasks      | elapsed: 29.9min\n",
      "[Parallel(n_jobs=-1)]: Done 2426 tasks      | elapsed: 40.2min\n",
      "[Parallel(n_jobs=-1)]: Done 2880 out of 2880 | elapsed: 49.5min finished\n"
     ]
    },
    {
     "name": "stdout",
     "output_type": "stream",
     "text": [
      "      Iter       Train Loss   Remaining Time \n",
      "         1           1.3786           15.38s\n",
      "         2           1.3716           15.65s\n",
      "         3           1.3645           16.07s\n",
      "         4           1.3578           15.69s\n",
      "         5           1.3507           15.33s\n",
      "         6           1.3437           15.39s\n",
      "         7           1.3368           15.04s\n",
      "         8           1.3300           15.03s\n",
      "         9           1.3235           15.01s\n",
      "        10           1.3170           14.78s\n",
      "        11           1.3106           14.76s\n",
      "        12           1.3044           14.71s\n",
      "        13           1.2983           14.66s\n",
      "        14           1.2924           14.52s\n",
      "        15           1.2865           14.37s\n",
      "        16           1.2807           14.33s\n",
      "        17           1.2749           14.28s\n",
      "        18           1.2693           14.23s\n",
      "        19           1.2638           14.25s\n",
      "        20           1.2585           14.12s\n",
      "        21           1.2532           14.07s\n",
      "        22           1.2480           13.93s\n",
      "        23           1.2428           13.88s\n",
      "        24           1.2378           13.75s\n",
      "        25           1.2328           13.69s\n",
      "        26           1.2280           13.62s\n",
      "        27           1.2233           13.54s\n",
      "        28           1.2186           13.40s\n",
      "        29           1.2138           13.34s\n",
      "        30           1.2092           13.28s\n",
      "        31           1.2048           13.17s\n",
      "        32           1.2003           13.06s\n",
      "        33           1.1960           13.00s\n",
      "        34           1.1917           12.89s\n",
      "        35           1.1875           12.82s\n",
      "        36           1.1833           12.75s\n",
      "        37           1.1791           12.66s\n",
      "        38           1.1751           12.56s\n",
      "        39           1.1712           12.46s\n",
      "        40           1.1672           12.39s\n",
      "        41           1.1635           12.32s\n",
      "        42           1.1597           12.23s\n",
      "        43           1.1560           12.18s\n",
      "        44           1.1524           12.10s\n",
      "        45           1.1487           12.01s\n",
      "        46           1.1452           11.94s\n",
      "        47           1.1417           11.85s\n",
      "        48           1.1382           11.78s\n",
      "        49           1.1346           11.70s\n",
      "        50           1.1312           11.62s\n",
      "        51           1.1279           11.55s\n",
      "        52           1.1247           11.49s\n",
      "        53           1.1212           11.39s\n",
      "        54           1.1180           11.30s\n",
      "        55           1.1148           11.25s\n",
      "        56           1.1117           11.16s\n",
      "        57           1.1085           11.07s\n",
      "        58           1.1054           11.00s\n",
      "        59           1.1024           10.93s\n",
      "        60           1.0994           10.84s\n",
      "        61           1.0965           10.77s\n",
      "        62           1.0935           10.68s\n",
      "        63           1.0906           10.59s\n",
      "        64           1.0878           10.53s\n",
      "        65           1.0851           10.45s\n",
      "        66           1.0822           10.36s\n",
      "        67           1.0796           10.29s\n",
      "        68           1.0768           10.20s\n",
      "        69           1.0742           10.11s\n",
      "        70           1.0716           10.06s\n",
      "        71           1.0689            9.97s\n",
      "        72           1.0663            9.90s\n",
      "        73           1.0637            9.82s\n",
      "        74           1.0611            9.74s\n",
      "        75           1.0587            9.67s\n",
      "        76           1.0561            9.60s\n",
      "        77           1.0538            9.52s\n",
      "        78           1.0514            9.44s\n",
      "        79           1.0491            9.37s\n",
      "        80           1.0466            9.28s\n",
      "        81           1.0442            9.19s\n",
      "        82           1.0419            9.14s\n",
      "        83           1.0395            9.05s\n",
      "        84           1.0373            8.98s\n",
      "        85           1.0351            8.92s\n",
      "        86           1.0329            8.83s\n",
      "        87           1.0306            8.75s\n",
      "        88           1.0284            8.69s\n",
      "        89           1.0264            8.59s\n",
      "        90           1.0244            8.52s\n",
      "        91           1.0222            8.45s\n",
      "        92           1.0202            8.36s\n",
      "        93           1.0184            8.27s\n",
      "        94           1.0164            8.22s\n",
      "        95           1.0143            8.13s\n",
      "        96           1.0124            8.04s\n",
      "        97           1.0105            7.98s\n",
      "        98           1.0085            7.89s\n",
      "        99           1.0068            7.82s\n",
      "       100           1.0049            7.74s\n",
      "       101           1.0030            7.66s\n",
      "       102           1.0011            7.58s\n",
      "       103           0.9992            7.51s\n",
      "       104           0.9975            7.43s\n",
      "       105           0.9957            7.35s\n",
      "       106           0.9940            7.28s\n",
      "       107           0.9918            7.20s\n",
      "       108           0.9900            7.12s\n",
      "       109           0.9882            7.04s\n",
      "       110           0.9865            6.96s\n",
      "       111           0.9847            6.88s\n",
      "       112           0.9831            6.81s\n",
      "       113           0.9815            6.73s\n",
      "       114           0.9799            6.65s\n",
      "       115           0.9782            6.58s\n",
      "       116           0.9766            6.50s\n",
      "       117           0.9751            6.42s\n",
      "       118           0.9736            6.34s\n",
      "       119           0.9720            6.26s\n",
      "       120           0.9705            6.18s\n",
      "       121           0.9690            6.11s\n",
      "       122           0.9674            6.03s\n",
      "       123           0.9659            5.95s\n",
      "       124           0.9640            5.88s\n",
      "       125           0.9625            5.80s\n",
      "       126           0.9610            5.72s\n",
      "       127           0.9595            5.64s\n",
      "       128           0.9581            5.56s\n",
      "       129           0.9564            5.49s\n",
      "       130           0.9551            5.41s\n",
      "       131           0.9537            5.33s\n",
      "       132           0.9522            5.25s\n",
      "       133           0.9509            5.18s\n",
      "       134           0.9495            5.10s\n",
      "       135           0.9479            5.02s\n",
      "       136           0.9460            4.95s\n",
      "       137           0.9445            4.87s\n",
      "       138           0.9431            4.79s\n",
      "       139           0.9413            4.72s\n",
      "       140           0.9395            4.64s\n",
      "       141           0.9382            4.56s\n",
      "       142           0.9364            4.48s\n",
      "       143           0.9351            4.40s\n",
      "       144           0.9335            4.32s\n",
      "       145           0.9322            4.25s\n",
      "       146           0.9308            4.17s\n",
      "       147           0.9293            4.09s\n",
      "       148           0.9276            4.02s\n",
      "       149           0.9262            3.94s\n",
      "       150           0.9250            3.86s\n",
      "       151           0.9234            3.79s\n",
      "       152           0.9223            3.71s\n",
      "       153           0.9209            3.63s\n",
      "       154           0.9194            3.56s\n",
      "       155           0.9183            3.48s\n",
      "       156           0.9170            3.40s\n",
      "       157           0.9158            3.33s\n",
      "       158           0.9144            3.25s\n",
      "       159           0.9133            3.17s\n",
      "       160           0.9116            3.10s\n",
      "       161           0.9105            3.02s\n",
      "       162           0.9092            2.94s\n",
      "       163           0.9080            2.86s\n",
      "       164           0.9063            2.78s\n",
      "       165           0.9049            2.71s\n",
      "       166           0.9038            2.63s\n",
      "       167           0.9026            2.55s\n",
      "       168           0.9010            2.48s\n",
      "       169           0.8996            2.40s\n",
      "       170           0.8980            2.32s\n",
      "       171           0.8967            2.24s\n",
      "       172           0.8955            2.17s\n",
      "       173           0.8942            2.09s\n",
      "       174           0.8931            2.01s\n",
      "       175           0.8915            1.93s\n",
      "       176           0.8900            1.86s\n",
      "       177           0.8888            1.78s\n",
      "       178           0.8875            1.70s\n",
      "       179           0.8858            1.63s\n",
      "       180           0.8848            1.55s\n",
      "       181           0.8837            1.47s\n",
      "       182           0.8826            1.39s\n",
      "       183           0.8811            1.32s\n",
      "       184           0.8800            1.24s\n"
     ]
    },
    {
     "name": "stdout",
     "output_type": "stream",
     "text": [
      "       185           0.8783            1.16s\n",
      "       186           0.8770            1.08s\n",
      "       187           0.8758            1.01s\n",
      "       188           0.8744            0.93s\n",
      "       189           0.8734            0.85s\n",
      "       190           0.8724            0.77s\n",
      "       191           0.8708            0.70s\n",
      "       192           0.8699            0.62s\n",
      "       193           0.8689            0.54s\n",
      "       194           0.8678            0.46s\n",
      "       195           0.8667            0.39s\n",
      "       196           0.8652            0.31s\n",
      "       197           0.8641            0.23s\n",
      "       198           0.8631            0.15s\n",
      "       199           0.8623            0.08s\n",
      "       200           0.8612            0.00s\n"
     ]
    },
    {
     "data": {
      "text/plain": [
       "GridSearchCV(cv=3,\n",
       "             estimator=Pipeline(steps=[('trans',\n",
       "                                        ColumnTransformer(transformers=[('categorical',\n",
       "                                                                         Pipeline(steps=[('impute',\n",
       "                                                                                          SimpleImputer(strategy='most_frequent')),\n",
       "                                                                                         ('ohe',\n",
       "                                                                                          OneHotEncoder(handle_unknown='ignore',\n",
       "                                                                                                        sparse=False))]),\n",
       "                                                                         Index(['age_group', 'education', 'race', 'sex', 'income_poverty',\n",
       "       'marital_status', 'rent_or_own', 'employment_status', 'hhs_geo_...\n",
       "       'household_children'],\n",
       "      dtype='object'))])),\n",
       "                                       ('smote', SMOTE(random_state=42)),\n",
       "                                       ('gbc',\n",
       "                                        GradientBoostingClassifier(verbose=3))]),\n",
       "             n_jobs=-1,\n",
       "             param_grid={'gbc__learning_rate': [0.001, 0.01, 0.1, 0.5, 0.9],\n",
       "                         'gbc__max_features': [0, 50, 100, 150],\n",
       "                         'gbc__min_samples_leaf': [2, 4, 6, 8],\n",
       "                         'gbc__min_samples_split': [2, 4, 6, 8],\n",
       "                         'gbc__n_estimators': [100, 150, 200]},\n",
       "             scoring='f1', verbose=1)"
      ]
     },
     "execution_count": 17,
     "metadata": {},
     "output_type": "execute_result"
    }
   ],
   "source": [
    "gs_gbc = GridSearchCV(model_pipe_3, params, n_jobs=-1, verbose=1, cv = 3, scoring = 'f1')\n",
    "gs_gbc.fit(X_train, y_train)"
   ]
  },
  {
   "cell_type": "code",
   "execution_count": 18,
   "metadata": {},
   "outputs": [
    {
     "data": {
      "text/plain": [
       "{'gbc__learning_rate': 0.01,\n",
       " 'gbc__max_features': 50,\n",
       " 'gbc__min_samples_leaf': 2,\n",
       " 'gbc__min_samples_split': 4,\n",
       " 'gbc__n_estimators': 200}"
      ]
     },
     "execution_count": 18,
     "metadata": {},
     "output_type": "execute_result"
    }
   ],
   "source": [
    "gs_gbc.best_params_"
   ]
  },
  {
   "cell_type": "code",
   "execution_count": 19,
   "metadata": {},
   "outputs": [
    {
     "name": "stderr",
     "output_type": "stream",
     "text": [
      "[Parallel(n_jobs=-1)]: Using backend LokyBackend with 12 concurrent workers.\n",
      "[Parallel(n_jobs=-1)]: Done   2 out of   5 | elapsed: 178.3min remaining: 267.5min\n",
      "[Parallel(n_jobs=-1)]: Done   5 out of   5 | elapsed: 180.0min finished\n"
     ]
    }
   ],
   "source": [
    "gbc_cv_1 = cross_val_score(gs_gbc, X_train, y_train, n_jobs=-1, verbose=3, scoring = 'f1')"
   ]
  },
  {
   "cell_type": "code",
   "execution_count": 20,
   "metadata": {},
   "outputs": [
    {
     "data": {
      "text/plain": [
       "0.5860809429492359"
      ]
     },
     "execution_count": 20,
     "metadata": {},
     "output_type": "execute_result"
    }
   ],
   "source": [
    "gbc_cv_1.mean()"
   ]
  }
 ],
 "metadata": {
  "kernelspec": {
   "display_name": "Python 3",
   "language": "python",
   "name": "python3"
  },
  "language_info": {
   "codemirror_mode": {
    "name": "ipython",
    "version": 3
   },
   "file_extension": ".py",
   "mimetype": "text/x-python",
   "name": "python",
   "nbconvert_exporter": "python",
   "pygments_lexer": "ipython3",
   "version": "3.8.5"
  }
 },
 "nbformat": 4,
 "nbformat_minor": 5
}
