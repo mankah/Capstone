{
 "cells": [
  {
   "cell_type": "code",
   "execution_count": 1,
   "id": "2116cbdb",
   "metadata": {},
   "outputs": [],
   "source": [
    "from sklearn.ensemble import RandomForestClassifier, GradientBoostingClassifier\n",
    "from sklearn.impute import SimpleImputer\n",
    "from sklearn.preprocessing import OneHotEncoder, StandardScaler\n",
    "from sklearn.pipeline import Pipeline\n",
    "from sklearn.compose import ColumnTransformer\n",
    "from imblearn.over_sampling import SMOTE\n",
    "from imblearn.pipeline import Pipeline as imbPipeline\n",
    "from sklearn.metrics import f1_score\n",
    "from sklearn.model_selection import GridSearchCV, cross_val_score\n",
    "\n",
    "import pandas as pd\n",
    "import numpy as np\n",
    "import warnings\n",
    "warnings.simplefilter(action='ignore')"
   ]
  },
  {
   "cell_type": "code",
   "execution_count": 2,
   "id": "2d7f9c5d",
   "metadata": {},
   "outputs": [],
   "source": [
    "X_train = pd.read_csv('../data/X_train_h1n1.csv', index_col= 'respondent_id')\n",
    "X_test = pd.read_csv('../data/X_test_h1n1.csv', index_col= 'respondent_id')\n",
    "y_train = pd.read_csv('../data/y_train_h1n1.csv', index_col= 'respondent_id')\n",
    "y_test = pd.read_csv('../data/y_test_h1h1.csv', index_col= 'respondent_id')"
   ]
  },
  {
   "cell_type": "code",
   "execution_count": 3,
   "id": "efe7c401",
   "metadata": {},
   "outputs": [],
   "source": [
    "y_train = y_train['h1n1_vaccine']\n",
    "y_test = y_test['h1n1_vaccine']"
   ]
  },
  {
   "cell_type": "code",
   "execution_count": 4,
   "id": "64ced8a7",
   "metadata": {},
   "outputs": [],
   "source": [
    "X_train_cat = X_train.select_dtypes('object')\n",
    "X_train_num = X_train.select_dtypes(['float64', 'int64'])\n",
    "\n",
    "cat_pipe = Pipeline([\n",
    "    ('impute', SimpleImputer(strategy='most_frequent')),\n",
    "    ('ohe', OneHotEncoder(sparse=False, handle_unknown='ignore'))\n",
    "])\n",
    "num_pipe = Pipeline(steps=[\n",
    "    ('impute', SimpleImputer(strategy='most_frequent')),\n",
    "])\n",
    "\n",
    "transformer = ColumnTransformer([('categorical', cat_pipe, X_train_cat.columns),\n",
    "                                 ('numerical', num_pipe, X_train_num.columns)])"
   ]
  },
  {
   "cell_type": "markdown",
   "id": "d67c6747",
   "metadata": {},
   "source": [
    "# Random Forest Classifier"
   ]
  },
  {
   "cell_type": "code",
   "execution_count": 5,
   "id": "1a23327b",
   "metadata": {},
   "outputs": [
    {
     "name": "stderr",
     "output_type": "stream",
     "text": [
      "[Parallel(n_jobs=-2)]: Using backend ThreadingBackend with 7 concurrent workers.\n",
      "[Parallel(n_jobs=-2)]: Done  36 tasks      | elapsed:    0.8s\n",
      "[Parallel(n_jobs=-2)]: Done 100 out of 100 | elapsed:    2.1s finished\n"
     ]
    },
    {
     "data": {
      "text/plain": [
       "Pipeline(steps=[('trans',\n",
       "                 ColumnTransformer(transformers=[('categorical',\n",
       "                                                  Pipeline(steps=[('impute',\n",
       "                                                                   SimpleImputer(strategy='most_frequent')),\n",
       "                                                                  ('ohe',\n",
       "                                                                   OneHotEncoder(handle_unknown='ignore',\n",
       "                                                                                 sparse=False))]),\n",
       "                                                  Index(['age_group', 'education', 'race', 'sex', 'income_poverty',\n",
       "       'marital_status', 'rent_or_own', 'employment_status', 'hhs_geo_region',\n",
       "       'census_msa'],\n",
       "      dtype=...\n",
       "       'chronic_med_condition', 'child_under_6_months', 'health_worker',\n",
       "       'opinion_h1n1_vacc_effective', 'opinion_h1n1_risk',\n",
       "       'opinion_h1n1_sick_from_vacc', 'opinion_seas_vacc_effective',\n",
       "       'opinion_seas_risk', 'opinion_seas_sick_from_vacc', 'household_adults',\n",
       "       'household_children'],\n",
       "      dtype='object'))])),\n",
       "                ('smote', SMOTE(random_state=42)),\n",
       "                ('rfc', RandomForestClassifier(n_jobs=-2, verbose=1))])"
      ]
     },
     "execution_count": 5,
     "metadata": {},
     "output_type": "execute_result"
    }
   ],
   "source": [
    "model_pipe = imbPipeline(steps=[\n",
    "    ('trans', transformer),\n",
    "    ('smote', SMOTE(random_state=42)),\n",
    "    ('rfc', RandomForestClassifier(verbose=1, n_jobs=-2))\n",
    "])\n",
    "\n",
    "model_pipe.fit(X_train, y_train)"
   ]
  },
  {
   "cell_type": "code",
   "execution_count": 6,
   "id": "835bf70a",
   "metadata": {},
   "outputs": [
    {
     "name": "stderr",
     "output_type": "stream",
     "text": [
      "[Parallel(n_jobs=-1)]: Using backend LokyBackend with 8 concurrent workers.\n",
      "[Parallel(n_jobs=-1)]: Done   2 out of   5 | elapsed:   15.8s remaining:   23.8s\n",
      "[Parallel(n_jobs=-1)]: Done   5 out of   5 | elapsed:   16.3s finished\n"
     ]
    }
   ],
   "source": [
    "rfc_cv_score = cross_val_score(model_pipe, X_train, y_train, n_jobs=-1, verbose=3)"
   ]
  },
  {
   "cell_type": "code",
   "execution_count": 7,
   "id": "54eb3bf6",
   "metadata": {},
   "outputs": [
    {
     "data": {
      "text/plain": [
       "0.8320519221168248"
      ]
     },
     "execution_count": 7,
     "metadata": {},
     "output_type": "execute_result"
    }
   ],
   "source": [
    "rfc_cv_score.mean()"
   ]
  },
  {
   "cell_type": "markdown",
   "id": "68816d3a",
   "metadata": {},
   "source": [
    "# RFC with Grid Search"
   ]
  },
  {
   "cell_type": "code",
   "execution_count": 8,
   "id": "dcccfeb8",
   "metadata": {},
   "outputs": [],
   "source": [
    "model_pipe_2 = imbPipeline(steps=[\n",
    "    ('trans', transformer),\n",
    "    ('smote', SMOTE(random_state=42)),\n",
    "    ('rfc', RandomForestClassifier(verbose=1, n_jobs=-2))\n",
    "])"
   ]
  },
  {
   "cell_type": "code",
   "execution_count": 9,
   "id": "3dd5244a",
   "metadata": {},
   "outputs": [],
   "source": [
    "params = {\n",
    "    'rfc__max_depth': list(range(10,100,10)),\n",
    "    'rfc__criterion': ['gini', 'entropy'],\n",
    "    'rfc__n_estimators': list(range(100,250,25)),\n",
    "    'rfc__min_samples_leaf': list(range(2,10,2)),\n",
    "    'rfc__min_samples_split': list(range(2,10,2)),\n",
    "}"
   ]
  },
  {
   "cell_type": "code",
   "execution_count": 10,
   "id": "87dbb445",
   "metadata": {
    "scrolled": true
   },
   "outputs": [
    {
     "name": "stdout",
     "output_type": "stream",
     "text": [
      "Fitting 3 folds for each of 1728 candidates, totalling 5184 fits\n"
     ]
    },
    {
     "name": "stderr",
     "output_type": "stream",
     "text": [
      "[Parallel(n_jobs=-2)]: Using backend ThreadingBackend with 7 concurrent workers.\n",
      "[Parallel(n_jobs=-2)]: Done  36 tasks      | elapsed:    0.5s\n",
      "[Parallel(n_jobs=-2)]: Done 186 tasks      | elapsed:    2.7s\n",
      "[Parallel(n_jobs=-2)]: Done 225 out of 225 | elapsed:    3.2s finished\n"
     ]
    },
    {
     "data": {
      "text/plain": [
       "GridSearchCV(cv=3,\n",
       "             estimator=Pipeline(steps=[('trans',\n",
       "                                        ColumnTransformer(transformers=[('categorical',\n",
       "                                                                         Pipeline(steps=[('impute',\n",
       "                                                                                          SimpleImputer(strategy='most_frequent')),\n",
       "                                                                                         ('ohe',\n",
       "                                                                                          OneHotEncoder(handle_unknown='ignore',\n",
       "                                                                                                        sparse=False))]),\n",
       "                                                                         Index(['age_group', 'education', 'race', 'sex', 'income_poverty',\n",
       "       'marital_status', 'rent_or_own', 'employment_status', 'hhs_geo_...\n",
       "       'household_children'],\n",
       "      dtype='object'))])),\n",
       "                                       ('smote', SMOTE(random_state=42)),\n",
       "                                       ('rfc',\n",
       "                                        RandomForestClassifier(n_jobs=-2,\n",
       "                                                               verbose=1))]),\n",
       "             n_jobs=-1,\n",
       "             param_grid={'rfc__criterion': ['gini', 'entropy'],\n",
       "                         'rfc__max_depth': [10, 20, 30, 40, 50, 60, 70, 80, 90],\n",
       "                         'rfc__min_samples_leaf': [2, 4, 6, 8],\n",
       "                         'rfc__min_samples_split': [2, 4, 6, 8],\n",
       "                         'rfc__n_estimators': [100, 125, 150, 175, 200, 225]},\n",
       "             verbose=3)"
      ]
     },
     "execution_count": 10,
     "metadata": {},
     "output_type": "execute_result"
    }
   ],
   "source": [
    "gs_rfc = GridSearchCV(model_pipe_2, params, n_jobs=-1, verbose=3, cv = 3)\n",
    "gs_rfc.fit(X_train, y_train)"
   ]
  },
  {
   "cell_type": "code",
   "execution_count": 11,
   "id": "604825ae",
   "metadata": {
    "scrolled": true
   },
   "outputs": [
    {
     "data": {
      "text/plain": [
       "{'rfc__criterion': 'entropy',\n",
       " 'rfc__max_depth': 50,\n",
       " 'rfc__min_samples_leaf': 4,\n",
       " 'rfc__min_samples_split': 4,\n",
       " 'rfc__n_estimators': 225}"
      ]
     },
     "execution_count": 11,
     "metadata": {},
     "output_type": "execute_result"
    }
   ],
   "source": [
    "gs_rfc.best_params_"
   ]
  },
  {
   "cell_type": "code",
   "execution_count": 12,
   "id": "034b9bfc",
   "metadata": {},
   "outputs": [
    {
     "name": "stderr",
     "output_type": "stream",
     "text": [
      "[Parallel(n_jobs=-1)]: Using backend LokyBackend with 8 concurrent workers.\n",
      "[Parallel(n_jobs=-1)]: Done   2 out of   5 | elapsed:   13.2s remaining:   19.8s\n",
      "[Parallel(n_jobs=-1)]: Done   5 out of   5 | elapsed:   13.4s finished\n"
     ]
    }
   ],
   "source": [
    "rfc_cv_1 = cross_val_score(gs_rfc.best_estimator_, X_train, y_train, n_jobs=-1, verbose=3)"
   ]
  },
  {
   "cell_type": "code",
   "execution_count": 13,
   "id": "0487ed5a",
   "metadata": {},
   "outputs": [
    {
     "data": {
      "text/plain": [
       "0.835846230654019"
      ]
     },
     "execution_count": 13,
     "metadata": {},
     "output_type": "execute_result"
    }
   ],
   "source": [
    "rfc_cv_1.mean()"
   ]
  },
  {
   "cell_type": "markdown",
   "id": "b6f3f072",
   "metadata": {},
   "source": [
    "After running a Random Forest Classifier I was able to get an accuracy score of $0.836$. This score is currently the highest achieved, $0.014$ higher than the SVC, $0.073$ higher than the KNN Classifier, and $0.059$ higher than the Logistic Regression. Next, I will run a Gradient Boost Classifier and see if it is higher than Random Forest Classifier. "
   ]
  },
  {
   "cell_type": "markdown",
   "id": "9893b7f1",
   "metadata": {},
   "source": [
    "## Gradiant Boost Classifier"
   ]
  },
  {
   "cell_type": "code",
   "execution_count": 14,
   "id": "0b175c5c",
   "metadata": {},
   "outputs": [],
   "source": [
    "model_pipe_3 = imbPipeline(steps=[\n",
    "    ('trans', transformer),\n",
    "    ('smote', SMOTE(random_state=42)),\n",
    "    ('gbc', GradientBoostingClassifier(verbose=3))\n",
    "])"
   ]
  },
  {
   "cell_type": "code",
   "execution_count": 15,
   "id": "46276048",
   "metadata": {},
   "outputs": [
    {
     "data": {
      "text/plain": [
       "{'memory': None,\n",
       " 'steps': [('trans',\n",
       "   ColumnTransformer(transformers=[('categorical',\n",
       "                                    Pipeline(steps=[('impute',\n",
       "                                                     SimpleImputer(strategy='most_frequent')),\n",
       "                                                    ('ohe',\n",
       "                                                     OneHotEncoder(handle_unknown='ignore',\n",
       "                                                                   sparse=False))]),\n",
       "                                    Index(['age_group', 'education', 'race', 'sex', 'income_poverty',\n",
       "          'marital_status', 'rent_or_own', 'employment_status', 'hhs_geo_region',\n",
       "          'census_msa'],\n",
       "         dtype='object')),\n",
       "                                   ('numerical',\n",
       "                                    P...\n",
       "          'behavioral_large_gatherings', 'behavioral_outside_home',\n",
       "          'behavioral_touch_face', 'doctor_recc_h1n1', 'doctor_recc_seasonal',\n",
       "          'chronic_med_condition', 'child_under_6_months', 'health_worker',\n",
       "          'opinion_h1n1_vacc_effective', 'opinion_h1n1_risk',\n",
       "          'opinion_h1n1_sick_from_vacc', 'opinion_seas_vacc_effective',\n",
       "          'opinion_seas_risk', 'opinion_seas_sick_from_vacc', 'household_adults',\n",
       "          'household_children'],\n",
       "         dtype='object'))])),\n",
       "  ('smote', SMOTE(random_state=42)),\n",
       "  ('gbc', GradientBoostingClassifier(verbose=3))],\n",
       " 'verbose': False,\n",
       " 'trans': ColumnTransformer(transformers=[('categorical',\n",
       "                                  Pipeline(steps=[('impute',\n",
       "                                                   SimpleImputer(strategy='most_frequent')),\n",
       "                                                  ('ohe',\n",
       "                                                   OneHotEncoder(handle_unknown='ignore',\n",
       "                                                                 sparse=False))]),\n",
       "                                  Index(['age_group', 'education', 'race', 'sex', 'income_poverty',\n",
       "        'marital_status', 'rent_or_own', 'employment_status', 'hhs_geo_region',\n",
       "        'census_msa'],\n",
       "       dtype='object')),\n",
       "                                 ('numerical',\n",
       "                                  P...\n",
       "        'behavioral_large_gatherings', 'behavioral_outside_home',\n",
       "        'behavioral_touch_face', 'doctor_recc_h1n1', 'doctor_recc_seasonal',\n",
       "        'chronic_med_condition', 'child_under_6_months', 'health_worker',\n",
       "        'opinion_h1n1_vacc_effective', 'opinion_h1n1_risk',\n",
       "        'opinion_h1n1_sick_from_vacc', 'opinion_seas_vacc_effective',\n",
       "        'opinion_seas_risk', 'opinion_seas_sick_from_vacc', 'household_adults',\n",
       "        'household_children'],\n",
       "       dtype='object'))]),\n",
       " 'smote': SMOTE(random_state=42),\n",
       " 'gbc': GradientBoostingClassifier(verbose=3),\n",
       " 'trans__n_jobs': None,\n",
       " 'trans__remainder': 'drop',\n",
       " 'trans__sparse_threshold': 0.3,\n",
       " 'trans__transformer_weights': None,\n",
       " 'trans__transformers': [('categorical',\n",
       "   Pipeline(steps=[('impute', SimpleImputer(strategy='most_frequent')),\n",
       "                   ('ohe', OneHotEncoder(handle_unknown='ignore', sparse=False))]),\n",
       "   Index(['age_group', 'education', 'race', 'sex', 'income_poverty',\n",
       "          'marital_status', 'rent_or_own', 'employment_status', 'hhs_geo_region',\n",
       "          'census_msa'],\n",
       "         dtype='object')),\n",
       "  ('numerical',\n",
       "   Pipeline(steps=[('impute', SimpleImputer(strategy='most_frequent'))]),\n",
       "   Index(['h1n1_concern', 'h1n1_knowledge', 'behavioral_antiviral_meds',\n",
       "          'behavioral_avoidance', 'behavioral_face_mask', 'behavioral_wash_hands',\n",
       "          'behavioral_large_gatherings', 'behavioral_outside_home',\n",
       "          'behavioral_touch_face', 'doctor_recc_h1n1', 'doctor_recc_seasonal',\n",
       "          'chronic_med_condition', 'child_under_6_months', 'health_worker',\n",
       "          'opinion_h1n1_vacc_effective', 'opinion_h1n1_risk',\n",
       "          'opinion_h1n1_sick_from_vacc', 'opinion_seas_vacc_effective',\n",
       "          'opinion_seas_risk', 'opinion_seas_sick_from_vacc', 'household_adults',\n",
       "          'household_children'],\n",
       "         dtype='object'))],\n",
       " 'trans__verbose': False,\n",
       " 'trans__categorical': Pipeline(steps=[('impute', SimpleImputer(strategy='most_frequent')),\n",
       "                 ('ohe', OneHotEncoder(handle_unknown='ignore', sparse=False))]),\n",
       " 'trans__numerical': Pipeline(steps=[('impute', SimpleImputer(strategy='most_frequent'))]),\n",
       " 'trans__categorical__memory': None,\n",
       " 'trans__categorical__steps': [('impute',\n",
       "   SimpleImputer(strategy='most_frequent')),\n",
       "  ('ohe', OneHotEncoder(handle_unknown='ignore', sparse=False))],\n",
       " 'trans__categorical__verbose': False,\n",
       " 'trans__categorical__impute': SimpleImputer(strategy='most_frequent'),\n",
       " 'trans__categorical__ohe': OneHotEncoder(handle_unknown='ignore', sparse=False),\n",
       " 'trans__categorical__impute__add_indicator': False,\n",
       " 'trans__categorical__impute__copy': True,\n",
       " 'trans__categorical__impute__fill_value': None,\n",
       " 'trans__categorical__impute__missing_values': nan,\n",
       " 'trans__categorical__impute__strategy': 'most_frequent',\n",
       " 'trans__categorical__impute__verbose': 0,\n",
       " 'trans__categorical__ohe__categories': 'auto',\n",
       " 'trans__categorical__ohe__drop': None,\n",
       " 'trans__categorical__ohe__dtype': numpy.float64,\n",
       " 'trans__categorical__ohe__handle_unknown': 'ignore',\n",
       " 'trans__categorical__ohe__sparse': False,\n",
       " 'trans__numerical__memory': None,\n",
       " 'trans__numerical__steps': [('impute',\n",
       "   SimpleImputer(strategy='most_frequent'))],\n",
       " 'trans__numerical__verbose': False,\n",
       " 'trans__numerical__impute': SimpleImputer(strategy='most_frequent'),\n",
       " 'trans__numerical__impute__add_indicator': False,\n",
       " 'trans__numerical__impute__copy': True,\n",
       " 'trans__numerical__impute__fill_value': None,\n",
       " 'trans__numerical__impute__missing_values': nan,\n",
       " 'trans__numerical__impute__strategy': 'most_frequent',\n",
       " 'trans__numerical__impute__verbose': 0,\n",
       " 'smote__k_neighbors': 5,\n",
       " 'smote__n_jobs': None,\n",
       " 'smote__random_state': 42,\n",
       " 'smote__sampling_strategy': 'auto',\n",
       " 'gbc__ccp_alpha': 0.0,\n",
       " 'gbc__criterion': 'friedman_mse',\n",
       " 'gbc__init': None,\n",
       " 'gbc__learning_rate': 0.1,\n",
       " 'gbc__loss': 'deviance',\n",
       " 'gbc__max_depth': 3,\n",
       " 'gbc__max_features': None,\n",
       " 'gbc__max_leaf_nodes': None,\n",
       " 'gbc__min_impurity_decrease': 0.0,\n",
       " 'gbc__min_impurity_split': None,\n",
       " 'gbc__min_samples_leaf': 1,\n",
       " 'gbc__min_samples_split': 2,\n",
       " 'gbc__min_weight_fraction_leaf': 0.0,\n",
       " 'gbc__n_estimators': 100,\n",
       " 'gbc__n_iter_no_change': None,\n",
       " 'gbc__random_state': None,\n",
       " 'gbc__subsample': 1.0,\n",
       " 'gbc__tol': 0.0001,\n",
       " 'gbc__validation_fraction': 0.1,\n",
       " 'gbc__verbose': 3,\n",
       " 'gbc__warm_start': False}"
      ]
     },
     "execution_count": 15,
     "metadata": {},
     "output_type": "execute_result"
    }
   ],
   "source": [
    "model_pipe_3.get_params()"
   ]
  },
  {
   "cell_type": "code",
   "execution_count": 16,
   "id": "049ad3cc",
   "metadata": {},
   "outputs": [],
   "source": [
    "params = {\n",
    "    'gbc__learning_rate': [0.001, 0.01, 0.1, .5, .9],\n",
    "    'gbc__n_estimators': list(range(100,250,50)),\n",
    "    'gbc__min_samples_leaf': list(range(2,10,2)),\n",
    "    'gbc__min_samples_split': list(range(2,10,2)),\n",
    "    'gbc__max_features': list(range(0,200,50))\n",
    "}"
   ]
  },
  {
   "cell_type": "code",
   "execution_count": 17,
   "id": "c0046bf6",
   "metadata": {
    "scrolled": true
   },
   "outputs": [
    {
     "name": "stdout",
     "output_type": "stream",
     "text": [
      "Fitting 3 folds for each of 960 candidates, totalling 2880 fits\n",
      "      Iter       Train Loss   Remaining Time \n",
      "         1           1.3165           20.09s\n",
      "         2           1.2542           18.99s\n",
      "         3           1.2028           18.78s\n",
      "         4           1.1593           18.95s\n",
      "         5           1.1217           18.39s\n",
      "         6           1.0898           18.40s\n",
      "         7           1.0619           17.66s\n",
      "         8           1.0358           17.62s\n",
      "         9           1.0123           17.45s\n",
      "        10           0.9943           17.16s\n",
      "        11           0.9763           16.97s\n",
      "        12           0.9600           16.87s\n",
      "        13           0.9452           16.64s\n",
      "        14           0.9316           16.40s\n",
      "        15           0.9165           16.38s\n",
      "        16           0.9036           16.14s\n",
      "        17           0.8877           16.02s\n",
      "        18           0.8770           16.00s\n",
      "        19           0.8608           15.79s\n",
      "        20           0.8503           15.68s\n",
      "        21           0.8393           15.63s\n",
      "        22           0.8246           15.47s\n",
      "        23           0.8147           15.31s\n",
      "        24           0.8076           15.27s\n",
      "        25           0.7999           15.22s\n",
      "        26           0.7901           15.01s\n",
      "        27           0.7813           15.02s\n",
      "        28           0.7715           14.88s\n",
      "        29           0.7610           14.78s\n",
      "        30           0.7546           14.71s\n",
      "        31           0.7467           14.58s\n",
      "        32           0.7420           14.49s\n",
      "        33           0.7327           14.41s\n",
      "        34           0.7266           14.28s\n",
      "        35           0.7201           14.19s\n",
      "        36           0.7117           14.18s\n",
      "        37           0.7049           14.07s\n",
      "        38           0.7006           13.97s\n",
      "        39           0.6953           13.95s\n",
      "        40           0.6899           13.85s\n",
      "        41           0.6844           13.75s\n",
      "        42           0.6794           13.67s\n",
      "        43           0.6729           13.54s\n",
      "        44           0.6686           13.45s\n",
      "        45           0.6646           13.37s\n",
      "        46           0.6613           13.26s\n",
      "        47           0.6565           13.17s\n",
      "        48           0.6510           13.11s\n",
      "        49           0.6464           12.97s\n",
      "        50           0.6438           12.88s\n",
      "        51           0.6410           12.85s\n",
      "        52           0.6391           12.78s\n",
      "        53           0.6360           12.68s\n",
      "        54           0.6317           12.61s\n",
      "        55           0.6282           12.51s\n",
      "        56           0.6268           12.43s\n",
      "        57           0.6244           12.36s\n",
      "        58           0.6216           12.29s\n",
      "        59           0.6179           12.19s\n",
      "        60           0.6159           12.12s\n",
      "        61           0.6135           12.03s\n",
      "        62           0.6116           11.91s\n",
      "        63           0.6092           11.86s\n",
      "        64           0.6055           11.76s\n",
      "        65           0.6029           11.67s\n",
      "        66           0.6015           11.61s\n",
      "        67           0.5988           11.51s\n",
      "        68           0.5965           11.42s\n",
      "        69           0.5930           11.34s\n",
      "        70           0.5913           11.25s\n",
      "        71           0.5883           11.16s\n",
      "        72           0.5857           11.08s\n",
      "        73           0.5842           11.00s\n",
      "        74           0.5823           10.92s\n",
      "        75           0.5796           10.84s\n",
      "        76           0.5774           10.75s\n",
      "        77           0.5756           10.66s\n",
      "        78           0.5735           10.58s\n",
      "        79           0.5705           10.49s\n",
      "        80           0.5666           10.40s\n",
      "        81           0.5642           10.31s\n",
      "        82           0.5633           10.23s\n",
      "        83           0.5614           10.13s\n",
      "        84           0.5607           10.07s\n",
      "        85           0.5594            9.99s\n",
      "        86           0.5573            9.89s\n",
      "        87           0.5561            9.82s\n",
      "        88           0.5533            9.72s\n",
      "        89           0.5510            9.63s\n",
      "        90           0.5501            9.55s\n",
      "        91           0.5485            9.46s\n",
      "        92           0.5473            9.37s\n",
      "        93           0.5456            9.28s\n",
      "        94           0.5444            9.20s\n",
      "        95           0.5424            9.11s\n",
      "        96           0.5408            9.03s\n",
      "        97           0.5395            8.95s\n",
      "        98           0.5377            8.85s\n",
      "        99           0.5364            8.76s\n",
      "       100           0.5345            8.70s\n",
      "       101           0.5332            8.61s\n",
      "       102           0.5324            8.53s\n",
      "       103           0.5317            8.44s\n",
      "       104           0.5305            8.36s\n",
      "       105           0.5292            8.28s\n",
      "       106           0.5276            8.19s\n",
      "       107           0.5261            8.10s\n",
      "       108           0.5250            8.02s\n",
      "       109           0.5240            7.94s\n",
      "       110           0.5233            7.85s\n",
      "       111           0.5223            7.77s\n",
      "       112           0.5214            7.68s\n",
      "       113           0.5201            7.58s\n",
      "       114           0.5193            7.50s\n",
      "       115           0.5185            7.42s\n",
      "       116           0.5176            7.33s\n",
      "       117           0.5170            7.25s\n",
      "       118           0.5164            7.16s\n",
      "       119           0.5160            7.08s\n",
      "       120           0.5153            7.00s\n",
      "       121           0.5139            6.90s\n",
      "       122           0.5128            6.81s\n",
      "       123           0.5118            6.72s\n",
      "       124           0.5107            6.63s\n",
      "       125           0.5101            6.55s\n",
      "       126           0.5093            6.46s\n",
      "       127           0.5089            6.37s\n",
      "       128           0.5085            6.28s\n",
      "       129           0.5076            6.19s\n",
      "       130           0.5067            6.10s\n",
      "       131           0.5060            6.02s\n",
      "       132           0.5052            5.94s\n",
      "       133           0.5047            5.85s\n",
      "       134           0.5040            5.76s\n",
      "       135           0.5037            5.68s\n",
      "       136           0.5031            5.59s\n",
      "       137           0.5026            5.50s\n",
      "       138           0.5019            5.41s\n",
      "       139           0.5009            5.32s\n",
      "       140           0.4999            5.23s\n",
      "       141           0.4995            5.15s\n",
      "       142           0.4990            5.06s\n",
      "       143           0.4982            4.97s\n",
      "       144           0.4976            4.89s\n",
      "       145           0.4971            4.80s\n",
      "       146           0.4968            4.71s\n",
      "       147           0.4962            4.63s\n",
      "       148           0.4959            4.54s\n",
      "       149           0.4955            4.45s\n",
      "       150           0.4949            4.37s\n",
      "       151           0.4945            4.28s\n",
      "       152           0.4943            4.19s\n",
      "       153           0.4936            4.11s\n",
      "       154           0.4928            4.02s\n",
      "       155           0.4924            3.93s\n",
      "       156           0.4919            3.84s\n",
      "       157           0.4915            3.75s\n",
      "       158           0.4909            3.67s\n",
      "       159           0.4904            3.58s\n",
      "       160           0.4901            3.49s\n",
      "       161           0.4898            3.40s\n",
      "       162           0.4894            3.32s\n",
      "       163           0.4888            3.23s\n",
      "       164           0.4883            3.14s\n",
      "       165           0.4880            3.05s\n",
      "       166           0.4876            2.97s\n",
      "       167           0.4873            2.88s\n",
      "       168           0.4869            2.79s\n",
      "       169           0.4867            2.71s\n",
      "       170           0.4864            2.62s\n",
      "       171           0.4862            2.53s\n",
      "       172           0.4859            2.45s\n",
      "       173           0.4855            2.36s\n",
      "       174           0.4851            2.27s\n",
      "       175           0.4848            2.18s\n",
      "       176           0.4842            2.10s\n",
      "       177           0.4838            2.01s\n",
      "       178           0.4834            1.92s\n",
      "       179           0.4831            1.83s\n",
      "       180           0.4828            1.75s\n",
      "       181           0.4825            1.66s\n",
      "       182           0.4823            1.57s\n"
     ]
    },
    {
     "name": "stdout",
     "output_type": "stream",
     "text": [
      "       183           0.4818            1.49s\n",
      "       184           0.4815            1.40s\n",
      "       185           0.4810            1.31s\n",
      "       186           0.4807            1.22s\n",
      "       187           0.4803            1.14s\n",
      "       188           0.4800            1.05s\n",
      "       189           0.4796            0.96s\n",
      "       190           0.4791            0.87s\n",
      "       191           0.4789            0.79s\n",
      "       192           0.4786            0.70s\n",
      "       193           0.4782            0.61s\n",
      "       194           0.4781            0.52s\n",
      "       195           0.4778            0.44s\n",
      "       196           0.4776            0.35s\n",
      "       197           0.4771            0.26s\n",
      "       198           0.4769            0.17s\n",
      "       199           0.4767            0.09s\n",
      "       200           0.4764            0.00s\n"
     ]
    },
    {
     "data": {
      "text/plain": [
       "GridSearchCV(cv=3,\n",
       "             estimator=Pipeline(steps=[('trans',\n",
       "                                        ColumnTransformer(transformers=[('categorical',\n",
       "                                                                         Pipeline(steps=[('impute',\n",
       "                                                                                          SimpleImputer(strategy='most_frequent')),\n",
       "                                                                                         ('ohe',\n",
       "                                                                                          OneHotEncoder(handle_unknown='ignore',\n",
       "                                                                                                        sparse=False))]),\n",
       "                                                                         Index(['age_group', 'education', 'race', 'sex', 'income_poverty',\n",
       "       'marital_status', 'rent_or_own', 'employment_status', 'hhs_geo_...\n",
       "       'opinion_seas_risk', 'opinion_seas_sick_from_vacc', 'household_adults',\n",
       "       'household_children'],\n",
       "      dtype='object'))])),\n",
       "                                       ('smote', SMOTE(random_state=42)),\n",
       "                                       ('gbc',\n",
       "                                        GradientBoostingClassifier(verbose=3))]),\n",
       "             n_jobs=-1,\n",
       "             param_grid={'gbc__learning_rate': [0.001, 0.01, 0.1, 0.5, 0.9],\n",
       "                         'gbc__max_features': [0, 50, 100, 150],\n",
       "                         'gbc__min_samples_leaf': [2, 4, 6, 8],\n",
       "                         'gbc__min_samples_split': [2, 4, 6, 8],\n",
       "                         'gbc__n_estimators': [100, 150, 200]},\n",
       "             verbose=1)"
      ]
     },
     "execution_count": 17,
     "metadata": {},
     "output_type": "execute_result"
    }
   ],
   "source": [
    "gs_gbc = GridSearchCV(model_pipe_3, params, n_jobs=-1, verbose=1, cv = 3)\n",
    "gs_gbc.fit(X_train, y_train)"
   ]
  },
  {
   "cell_type": "code",
   "execution_count": 18,
   "id": "bd6cef42",
   "metadata": {},
   "outputs": [
    {
     "data": {
      "text/plain": [
       "{'gbc__learning_rate': 0.1,\n",
       " 'gbc__max_features': 50,\n",
       " 'gbc__min_samples_leaf': 2,\n",
       " 'gbc__min_samples_split': 6,\n",
       " 'gbc__n_estimators': 200}"
      ]
     },
     "execution_count": 18,
     "metadata": {},
     "output_type": "execute_result"
    }
   ],
   "source": [
    "gs_gbc.best_params_"
   ]
  },
  {
   "cell_type": "code",
   "execution_count": 19,
   "id": "721211ee",
   "metadata": {},
   "outputs": [
    {
     "name": "stderr",
     "output_type": "stream",
     "text": [
      "[Parallel(n_jobs=-1)]: Using backend LokyBackend with 8 concurrent workers.\n",
      "[Parallel(n_jobs=-1)]: Done   2 out of   5 | elapsed:   30.3s remaining:   45.5s\n",
      "[Parallel(n_jobs=-1)]: Done   5 out of   5 | elapsed:   30.6s finished\n"
     ]
    }
   ],
   "source": [
    "gbc_cv_1 = cross_val_score(gs_gbc.best_estimator_, X_train, y_train, n_jobs=-1, verbose=3)"
   ]
  },
  {
   "cell_type": "code",
   "execution_count": 20,
   "id": "e13fd99e",
   "metadata": {},
   "outputs": [
    {
     "data": {
      "text/plain": [
       "0.8381427858212682"
      ]
     },
     "execution_count": 20,
     "metadata": {},
     "output_type": "execute_result"
    }
   ],
   "source": [
    "gbc_cv_1.mean()"
   ]
  },
  {
   "cell_type": "markdown",
   "id": "133fc47e",
   "metadata": {},
   "source": [
    "The Gradient Boosting Classifier performed the best of all the models that have been created so far with a score of $0.838$. In the new two notebooks, I will run an XGBoost Classifier and a Neural Network and see if they perform any better than this model."
   ]
  }
 ],
 "metadata": {
  "kernelspec": {
   "display_name": "Python (learn-env)",
   "language": "python",
   "name": "learn-env"
  },
  "language_info": {
   "codemirror_mode": {
    "name": "ipython",
    "version": 3
   },
   "file_extension": ".py",
   "mimetype": "text/x-python",
   "name": "python",
   "nbconvert_exporter": "python",
   "pygments_lexer": "ipython3",
   "version": "3.8.11"
  }
 },
 "nbformat": 4,
 "nbformat_minor": 5
}
